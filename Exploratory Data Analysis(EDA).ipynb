{
 "cells": [
  {
   "cell_type": "markdown",
   "metadata": {},
   "source": [
    "# Exploratory Data Analysis"
   ]
  },
  {
   "cell_type": "code",
   "execution_count": 1,
   "metadata": {},
   "outputs": [],
   "source": [
    "#EDA is preparing your data for further predicitve modelling.\n",
    "#It plays important role in understanding the why ,what and how of the problem statement"
   ]
  },
  {
   "cell_type": "code",
   "execution_count": 2,
   "metadata": {},
   "outputs": [],
   "source": [
    "import numpy as np\n",
    "import pandas as pd\n",
    "import matplotlib.pyplot as plt\n",
    "%matplotlib inline\n",
    "import seaborn as sns"
   ]
  },
  {
   "cell_type": "raw",
   "metadata": {},
   "source": [
    "eda = pd.read_excel(\"EDA DATASET.xls\")"
   ]
  },
  {
   "cell_type": "markdown",
   "metadata": {},
   "source": [
    "Suppose we want to predict the house prices depending on some of the variables \n",
    "we might need to build a regression model for prediction of house prices.\n",
    "But before jumping to model building, its preferred to study and understand the data."
   ]
  },
  {
   "cell_type": "code",
   "execution_count": 4,
   "metadata": {},
   "outputs": [
    {
     "data": {
      "text/html": [
       "<div>\n",
       "<style scoped>\n",
       "    .dataframe tbody tr th:only-of-type {\n",
       "        vertical-align: middle;\n",
       "    }\n",
       "\n",
       "    .dataframe tbody tr th {\n",
       "        vertical-align: top;\n",
       "    }\n",
       "\n",
       "    .dataframe thead th {\n",
       "        text-align: right;\n",
       "    }\n",
       "</style>\n",
       "<table border=\"1\" class=\"dataframe\">\n",
       "  <thead>\n",
       "    <tr style=\"text-align: right;\">\n",
       "      <th></th>\n",
       "      <th>Name</th>\n",
       "      <th>Age</th>\n",
       "      <th>Gender</th>\n",
       "      <th>Education</th>\n",
       "      <th>Salary</th>\n",
       "      <th>AppraisedValue</th>\n",
       "      <th>Location</th>\n",
       "      <th>Landacres</th>\n",
       "      <th>HouseSizesqrft</th>\n",
       "      <th>Rooms</th>\n",
       "      <th>Baths</th>\n",
       "      <th>Garage</th>\n",
       "    </tr>\n",
       "  </thead>\n",
       "  <tbody>\n",
       "    <tr>\n",
       "      <th>0</th>\n",
       "      <td>Tony</td>\n",
       "      <td>25</td>\n",
       "      <td>M</td>\n",
       "      <td>Grad</td>\n",
       "      <td>50</td>\n",
       "      <td>700.0</td>\n",
       "      <td>GlenCove</td>\n",
       "      <td>0.2297</td>\n",
       "      <td>2448</td>\n",
       "      <td>8.0</td>\n",
       "      <td>3.5</td>\n",
       "      <td>2</td>\n",
       "    </tr>\n",
       "    <tr>\n",
       "      <th>1</th>\n",
       "      <td>Harret</td>\n",
       "      <td>52</td>\n",
       "      <td>F</td>\n",
       "      <td>PostGrad</td>\n",
       "      <td>95</td>\n",
       "      <td>364.0</td>\n",
       "      <td>GlenCove</td>\n",
       "      <td>0.2192</td>\n",
       "      <td>1942</td>\n",
       "      <td>7.0</td>\n",
       "      <td>2.5</td>\n",
       "      <td>1</td>\n",
       "    </tr>\n",
       "    <tr>\n",
       "      <th>2</th>\n",
       "      <td>Jane</td>\n",
       "      <td>26</td>\n",
       "      <td>F</td>\n",
       "      <td>PostGrad</td>\n",
       "      <td>65</td>\n",
       "      <td>600.0</td>\n",
       "      <td>GlenCove</td>\n",
       "      <td>0.1630</td>\n",
       "      <td>2073</td>\n",
       "      <td>7.0</td>\n",
       "      <td>3.0</td>\n",
       "      <td>2</td>\n",
       "    </tr>\n",
       "    <tr>\n",
       "      <th>3</th>\n",
       "      <td>Rose</td>\n",
       "      <td>45</td>\n",
       "      <td>F</td>\n",
       "      <td>Grad</td>\n",
       "      <td>99</td>\n",
       "      <td>548.4</td>\n",
       "      <td>LongBeach</td>\n",
       "      <td>0.4608</td>\n",
       "      <td>2707</td>\n",
       "      <td>8.0</td>\n",
       "      <td>2.5</td>\n",
       "      <td>1</td>\n",
       "    </tr>\n",
       "    <tr>\n",
       "      <th>4</th>\n",
       "      <td>John</td>\n",
       "      <td>42</td>\n",
       "      <td>M</td>\n",
       "      <td>Grad</td>\n",
       "      <td>77</td>\n",
       "      <td>405.9</td>\n",
       "      <td>LongBeach</td>\n",
       "      <td>0.2549</td>\n",
       "      <td>2042</td>\n",
       "      <td>NaN</td>\n",
       "      <td>1.5</td>\n",
       "      <td>1</td>\n",
       "    </tr>\n",
       "    <tr>\n",
       "      <th>5</th>\n",
       "      <td>Mark</td>\n",
       "      <td>62</td>\n",
       "      <td>M</td>\n",
       "      <td>PostGrad</td>\n",
       "      <td>118</td>\n",
       "      <td>374.1</td>\n",
       "      <td>GlenCove</td>\n",
       "      <td>0.2290</td>\n",
       "      <td>2089</td>\n",
       "      <td>7.0</td>\n",
       "      <td>2.0</td>\n",
       "      <td>0</td>\n",
       "    </tr>\n",
       "    <tr>\n",
       "      <th>6</th>\n",
       "      <td>Bruce</td>\n",
       "      <td>51</td>\n",
       "      <td>M</td>\n",
       "      <td>Grad</td>\n",
       "      <td>101</td>\n",
       "      <td>600.0</td>\n",
       "      <td>GlenCove</td>\n",
       "      <td>0.1714</td>\n",
       "      <td>1344</td>\n",
       "      <td>8.0</td>\n",
       "      <td>1.0</td>\n",
       "      <td>0</td>\n",
       "    </tr>\n",
       "    <tr>\n",
       "      <th>7</th>\n",
       "      <td>Steve</td>\n",
       "      <td>43</td>\n",
       "      <td>M</td>\n",
       "      <td>Grad</td>\n",
       "      <td>108</td>\n",
       "      <td>299.0</td>\n",
       "      <td>Roslyn</td>\n",
       "      <td>0.1750</td>\n",
       "      <td>1120</td>\n",
       "      <td>5.0</td>\n",
       "      <td>1.5</td>\n",
       "      <td>0</td>\n",
       "    </tr>\n",
       "    <tr>\n",
       "      <th>8</th>\n",
       "      <td>Carol</td>\n",
       "      <td>24</td>\n",
       "      <td>F</td>\n",
       "      <td>PostGrad</td>\n",
       "      <td>51</td>\n",
       "      <td>471.0</td>\n",
       "      <td>Roslyn</td>\n",
       "      <td>0.2130</td>\n",
       "      <td>1817</td>\n",
       "      <td>6.0</td>\n",
       "      <td>2.0</td>\n",
       "      <td>0</td>\n",
       "    </tr>\n",
       "    <tr>\n",
       "      <th>9</th>\n",
       "      <td>Henry</td>\n",
       "      <td>25</td>\n",
       "      <td>M</td>\n",
       "      <td>PostGrad</td>\n",
       "      <td>68</td>\n",
       "      <td>510.7</td>\n",
       "      <td>Roslyn</td>\n",
       "      <td>0.1377</td>\n",
       "      <td>2496</td>\n",
       "      <td>NaN</td>\n",
       "      <td>2.0</td>\n",
       "      <td>1</td>\n",
       "    </tr>\n",
       "    <tr>\n",
       "      <th>10</th>\n",
       "      <td>Donald</td>\n",
       "      <td>41</td>\n",
       "      <td>M</td>\n",
       "      <td>Grad</td>\n",
       "      <td>86</td>\n",
       "      <td>517.7</td>\n",
       "      <td>LongBeach</td>\n",
       "      <td>0.2497</td>\n",
       "      <td>1615</td>\n",
       "      <td>7.0</td>\n",
       "      <td>2.0</td>\n",
       "      <td>1</td>\n",
       "    </tr>\n",
       "    <tr>\n",
       "      <th>11</th>\n",
       "      <td>Maria</td>\n",
       "      <td>51</td>\n",
       "      <td>F</td>\n",
       "      <td>Grad</td>\n",
       "      <td>122</td>\n",
       "      <td>1200.0</td>\n",
       "      <td>LongBeach</td>\n",
       "      <td>0.4116</td>\n",
       "      <td>4067</td>\n",
       "      <td>9.0</td>\n",
       "      <td>4.0</td>\n",
       "      <td>1</td>\n",
       "    </tr>\n",
       "    <tr>\n",
       "      <th>12</th>\n",
       "      <td>Janet</td>\n",
       "      <td>49</td>\n",
       "      <td>F</td>\n",
       "      <td>PostGrad</td>\n",
       "      <td>112</td>\n",
       "      <td>700.0</td>\n",
       "      <td>Roslyn</td>\n",
       "      <td>0.3372</td>\n",
       "      <td>3130</td>\n",
       "      <td>8.0</td>\n",
       "      <td>3.0</td>\n",
       "      <td>1</td>\n",
       "    </tr>\n",
       "    <tr>\n",
       "      <th>13</th>\n",
       "      <td>Sophia</td>\n",
       "      <td>32</td>\n",
       "      <td>F</td>\n",
       "      <td>Grad</td>\n",
       "      <td>85</td>\n",
       "      <td>374.8</td>\n",
       "      <td>Roslyn</td>\n",
       "      <td>0.1503</td>\n",
       "      <td>1423</td>\n",
       "      <td>NaN</td>\n",
       "      <td>2.0</td>\n",
       "      <td>0</td>\n",
       "    </tr>\n",
       "    <tr>\n",
       "      <th>14</th>\n",
       "      <td>Jeffery</td>\n",
       "      <td>37</td>\n",
       "      <td>M</td>\n",
       "      <td>Grad</td>\n",
       "      <td>90</td>\n",
       "      <td>543.0</td>\n",
       "      <td>LongBeach</td>\n",
       "      <td>0.2348</td>\n",
       "      <td>1799</td>\n",
       "      <td>6.0</td>\n",
       "      <td>2.5</td>\n",
       "      <td>1</td>\n",
       "    </tr>\n",
       "  </tbody>\n",
       "</table>\n",
       "</div>"
      ],
      "text/plain": [
       "       Name  Age Gender Education  Salary  AppraisedValue   Location  \\\n",
       "0      Tony   25      M      Grad      50           700.0   GlenCove   \n",
       "1    Harret   52      F  PostGrad      95           364.0   GlenCove   \n",
       "2      Jane   26      F  PostGrad      65           600.0   GlenCove   \n",
       "3      Rose   45      F      Grad      99           548.4  LongBeach   \n",
       "4      John   42      M      Grad      77           405.9  LongBeach   \n",
       "5      Mark   62      M  PostGrad     118           374.1   GlenCove   \n",
       "6     Bruce   51      M      Grad     101           600.0   GlenCove   \n",
       "7     Steve   43      M      Grad     108           299.0     Roslyn   \n",
       "8     Carol   24      F  PostGrad      51           471.0     Roslyn   \n",
       "9     Henry   25      M  PostGrad      68           510.7     Roslyn   \n",
       "10   Donald   41      M      Grad      86           517.7  LongBeach   \n",
       "11    Maria   51      F      Grad     122          1200.0  LongBeach   \n",
       "12    Janet   49      F  PostGrad     112           700.0     Roslyn   \n",
       "13   Sophia   32      F      Grad      85           374.8     Roslyn   \n",
       "14  Jeffery   37      M      Grad      90           543.0  LongBeach   \n",
       "\n",
       "    Landacres  HouseSizesqrft  Rooms  Baths  Garage  \n",
       "0      0.2297            2448    8.0    3.5       2  \n",
       "1      0.2192            1942    7.0    2.5       1  \n",
       "2      0.1630            2073    7.0    3.0       2  \n",
       "3      0.4608            2707    8.0    2.5       1  \n",
       "4      0.2549            2042    NaN    1.5       1  \n",
       "5      0.2290            2089    7.0    2.0       0  \n",
       "6      0.1714            1344    8.0    1.0       0  \n",
       "7      0.1750            1120    5.0    1.5       0  \n",
       "8      0.2130            1817    6.0    2.0       0  \n",
       "9      0.1377            2496    NaN    2.0       1  \n",
       "10     0.2497            1615    7.0    2.0       1  \n",
       "11     0.4116            4067    9.0    4.0       1  \n",
       "12     0.3372            3130    8.0    3.0       1  \n",
       "13     0.1503            1423    NaN    2.0       0  \n",
       "14     0.2348            1799    6.0    2.5       1  "
      ]
     },
     "execution_count": 4,
     "metadata": {},
     "output_type": "execute_result"
    }
   ],
   "source": [
    "eda"
   ]
  },
  {
   "cell_type": "markdown",
   "metadata": {},
   "source": [
    "# Steps for Cleaning"
   ]
  },
  {
   "cell_type": "markdown",
   "metadata": {},
   "source": [
    "step 1:Variable Identification\n",
    "\n",
    "step 2:Univariate Analysis\n",
    "\n",
    "Step 3:Bivariate Analysis\n",
    "\n",
    "Step 4:Missing Values Treatment\n",
    "\n",
    "Step 5:Outlier Treatment\n",
    "\n",
    "Step 6:Varirable Creation\n",
    "\n",
    "Step 7:Variable Transformation\n"
   ]
  },
  {
   "cell_type": "markdown",
   "metadata": {},
   "source": [
    "## Step 1: Variable Identification"
   ]
  },
  {
   "cell_type": "code",
   "execution_count": 5,
   "metadata": {},
   "outputs": [],
   "source": [
    "#understand the variables and its types.\n",
    "#We need to identify predictor variable, target variable, data types of varaibles"
   ]
  },
  {
   "cell_type": "markdown",
   "metadata": {},
   "source": [
    "## Dependent Variable:\n",
    "Appraised Value(in this case - House Price)\n",
    "\n",
    "*dependent variable is the variable which we are trying to predict\n",
    "\n",
    "## Independent Variable/ Predictor Varibles:\n",
    "Age,Gender,Education,Salary,Location,Landacres,HouseSize,Rooms,Baths,Garage\n",
    "\n",
    "*Everything else are called independent variables also called features"
   ]
  },
  {
   "cell_type": "code",
   "execution_count": 6,
   "metadata": {},
   "outputs": [],
   "source": [
    "#DataTypes"
   ]
  },
  {
   "cell_type": "code",
   "execution_count": 7,
   "metadata": {},
   "outputs": [],
   "source": [
    "#STRING: Name, Gender ,Education , Location\n",
    "#Numeric: Age ,Salary, Rooms ,Baths ,Garages, LandAcres , HouseSize, AppraisedValue"
   ]
  },
  {
   "cell_type": "code",
   "execution_count": 8,
   "metadata": {},
   "outputs": [
    {
     "name": "stdout",
     "output_type": "stream",
     "text": [
      "<class 'pandas.core.frame.DataFrame'>\n",
      "RangeIndex: 15 entries, 0 to 14\n",
      "Data columns (total 12 columns):\n",
      " #   Column          Non-Null Count  Dtype  \n",
      "---  ------          --------------  -----  \n",
      " 0   Name            15 non-null     object \n",
      " 1   Age             15 non-null     int64  \n",
      " 2   Gender          15 non-null     object \n",
      " 3   Education       15 non-null     object \n",
      " 4   Salary          15 non-null     int64  \n",
      " 5   AppraisedValue  15 non-null     float64\n",
      " 6   Location        15 non-null     object \n",
      " 7   Landacres       15 non-null     float64\n",
      " 8   HouseSizesqrft  15 non-null     int64  \n",
      " 9   Rooms           12 non-null     float64\n",
      " 10  Baths           15 non-null     float64\n",
      " 11  Garage          15 non-null     int64  \n",
      "dtypes: float64(4), int64(4), object(4)\n",
      "memory usage: 1.5+ KB\n"
     ]
    }
   ],
   "source": [
    "eda.info()"
   ]
  },
  {
   "cell_type": "markdown",
   "metadata": {},
   "source": [
    "## Variable Category\n",
    "\n",
    "Categorical: Gender , Education, Location\n",
    "\n",
    "Continuous: Age , Salary, LandAcres, HouseSize , Appraised Value\n",
    "\n",
    "Discreet: Rooms , Baths , Garage\n"
   ]
  },
  {
   "cell_type": "code",
   "execution_count": 9,
   "metadata": {},
   "outputs": [
    {
     "data": {
      "text/html": [
       "<div>\n",
       "<style scoped>\n",
       "    .dataframe tbody tr th:only-of-type {\n",
       "        vertical-align: middle;\n",
       "    }\n",
       "\n",
       "    .dataframe tbody tr th {\n",
       "        vertical-align: top;\n",
       "    }\n",
       "\n",
       "    .dataframe thead th {\n",
       "        text-align: right;\n",
       "    }\n",
       "</style>\n",
       "<table border=\"1\" class=\"dataframe\">\n",
       "  <thead>\n",
       "    <tr style=\"text-align: right;\">\n",
       "      <th></th>\n",
       "      <th>Age</th>\n",
       "      <th>Salary</th>\n",
       "      <th>AppraisedValue</th>\n",
       "      <th>Landacres</th>\n",
       "      <th>HouseSizesqrft</th>\n",
       "      <th>Rooms</th>\n",
       "      <th>Baths</th>\n",
       "      <th>Garage</th>\n",
       "    </tr>\n",
       "  </thead>\n",
       "  <tbody>\n",
       "    <tr>\n",
       "      <th>count</th>\n",
       "      <td>15.000000</td>\n",
       "      <td>15.000000</td>\n",
       "      <td>15.000000</td>\n",
       "      <td>15.000000</td>\n",
       "      <td>15.000000</td>\n",
       "      <td>12.000000</td>\n",
       "      <td>15.000000</td>\n",
       "      <td>15.000000</td>\n",
       "    </tr>\n",
       "    <tr>\n",
       "      <th>mean</th>\n",
       "      <td>40.333333</td>\n",
       "      <td>88.466667</td>\n",
       "      <td>547.240000</td>\n",
       "      <td>0.242487</td>\n",
       "      <td>2140.800000</td>\n",
       "      <td>7.166667</td>\n",
       "      <td>2.333333</td>\n",
       "      <td>0.800000</td>\n",
       "    </tr>\n",
       "    <tr>\n",
       "      <th>std</th>\n",
       "      <td>11.842217</td>\n",
       "      <td>22.752917</td>\n",
       "      <td>217.331829</td>\n",
       "      <td>0.093602</td>\n",
       "      <td>754.829517</td>\n",
       "      <td>1.114641</td>\n",
       "      <td>0.794325</td>\n",
       "      <td>0.676123</td>\n",
       "    </tr>\n",
       "    <tr>\n",
       "      <th>min</th>\n",
       "      <td>24.000000</td>\n",
       "      <td>50.000000</td>\n",
       "      <td>299.000000</td>\n",
       "      <td>0.137700</td>\n",
       "      <td>1120.000000</td>\n",
       "      <td>5.000000</td>\n",
       "      <td>1.000000</td>\n",
       "      <td>0.000000</td>\n",
       "    </tr>\n",
       "    <tr>\n",
       "      <th>25%</th>\n",
       "      <td>29.000000</td>\n",
       "      <td>72.500000</td>\n",
       "      <td>390.350000</td>\n",
       "      <td>0.173200</td>\n",
       "      <td>1707.000000</td>\n",
       "      <td>6.750000</td>\n",
       "      <td>2.000000</td>\n",
       "      <td>0.000000</td>\n",
       "    </tr>\n",
       "    <tr>\n",
       "      <th>50%</th>\n",
       "      <td>42.000000</td>\n",
       "      <td>90.000000</td>\n",
       "      <td>517.700000</td>\n",
       "      <td>0.229000</td>\n",
       "      <td>2042.000000</td>\n",
       "      <td>7.000000</td>\n",
       "      <td>2.000000</td>\n",
       "      <td>1.000000</td>\n",
       "    </tr>\n",
       "    <tr>\n",
       "      <th>75%</th>\n",
       "      <td>50.000000</td>\n",
       "      <td>104.500000</td>\n",
       "      <td>600.000000</td>\n",
       "      <td>0.252300</td>\n",
       "      <td>2472.000000</td>\n",
       "      <td>8.000000</td>\n",
       "      <td>2.750000</td>\n",
       "      <td>1.000000</td>\n",
       "    </tr>\n",
       "    <tr>\n",
       "      <th>max</th>\n",
       "      <td>62.000000</td>\n",
       "      <td>122.000000</td>\n",
       "      <td>1200.000000</td>\n",
       "      <td>0.460800</td>\n",
       "      <td>4067.000000</td>\n",
       "      <td>9.000000</td>\n",
       "      <td>4.000000</td>\n",
       "      <td>2.000000</td>\n",
       "    </tr>\n",
       "  </tbody>\n",
       "</table>\n",
       "</div>"
      ],
      "text/plain": [
       "             Age      Salary  AppraisedValue  Landacres  HouseSizesqrft  \\\n",
       "count  15.000000   15.000000       15.000000  15.000000       15.000000   \n",
       "mean   40.333333   88.466667      547.240000   0.242487     2140.800000   \n",
       "std    11.842217   22.752917      217.331829   0.093602      754.829517   \n",
       "min    24.000000   50.000000      299.000000   0.137700     1120.000000   \n",
       "25%    29.000000   72.500000      390.350000   0.173200     1707.000000   \n",
       "50%    42.000000   90.000000      517.700000   0.229000     2042.000000   \n",
       "75%    50.000000  104.500000      600.000000   0.252300     2472.000000   \n",
       "max    62.000000  122.000000     1200.000000   0.460800     4067.000000   \n",
       "\n",
       "           Rooms      Baths     Garage  \n",
       "count  12.000000  15.000000  15.000000  \n",
       "mean    7.166667   2.333333   0.800000  \n",
       "std     1.114641   0.794325   0.676123  \n",
       "min     5.000000   1.000000   0.000000  \n",
       "25%     6.750000   2.000000   0.000000  \n",
       "50%     7.000000   2.000000   1.000000  \n",
       "75%     8.000000   2.750000   1.000000  \n",
       "max     9.000000   4.000000   2.000000  "
      ]
     },
     "execution_count": 9,
     "metadata": {},
     "output_type": "execute_result"
    }
   ],
   "source": [
    "eda.describe()#this gives statistical analysis of whole data"
   ]
  },
  {
   "cell_type": "markdown",
   "metadata": {},
   "source": [
    "# Step 2: Univariate Analysis"
   ]
  },
  {
   "cell_type": "code",
   "execution_count": 10,
   "metadata": {},
   "outputs": [],
   "source": [
    "#It is the simplest form of analyzing data(analyze one variable at a time)\n",
    "#It doesn't deal with causes or relationship between variables ,\n",
    "#It summarizes and find the patterns in the data."
   ]
  },
  {
   "cell_type": "markdown",
   "metadata": {},
   "source": [
    "## Categorical Variables - Univariate Analysis\n",
    "Visulatization of categoricla variable is shown through the bar plot"
   ]
  },
  {
   "cell_type": "code",
   "execution_count": 11,
   "metadata": {},
   "outputs": [
    {
     "data": {
      "text/plain": [
       "<matplotlib.axes._subplots.AxesSubplot at 0x246d3042760>"
      ]
     },
     "execution_count": 11,
     "metadata": {},
     "output_type": "execute_result"
    },
    {
     "data": {
      "image/png": "[encoded data removed]",
      "text/plain": [
       "<Figure size 432x288 with 1 Axes>"
      ]
     },
     "metadata": {
      "needs_background": "light"
     },
     "output_type": "display_data"
    }
   ],
   "source": [
    "sns.countplot(x='Education',data=eda)\n",
    "#from this we can see that our data has more no. of graduates than postGraduates"
   ]
  },
  {
   "cell_type": "code",
   "execution_count": 12,
   "metadata": {},
   "outputs": [
    {
     "data": {
      "text/plain": [
       "<matplotlib.axes._subplots.AxesSubplot at 0x246d30207c0>"
      ]
     },
     "execution_count": 12,
     "metadata": {},
     "output_type": "execute_result"
    },
    {
     "data": {
      "image/png": "[encoded data removed]",
      "text/plain": [
       "<Figure size 432x288 with 1 Axes>"
      ]
     },
     "metadata": {
      "needs_background": "light"
     },
     "output_type": "display_data"
    }
   ],
   "source": [
    "sns.countplot(x=\"Gender\",data=eda)\n",
    "#we have more number of males than females"
   ]
  },
  {
   "cell_type": "code",
   "execution_count": 13,
   "metadata": {},
   "outputs": [
    {
     "data": {
      "text/plain": [
       "<matplotlib.axes._subplots.AxesSubplot at 0x246d37c45b0>"
      ]
     },
     "execution_count": 13,
     "metadata": {},
     "output_type": "execute_result"
    },
    {
     "data": {
      "image/png": "[encoded data removed]",
      "text/plain": [
       "<Figure size 432x288 with 1 Axes>"
      ]
     },
     "metadata": {
      "needs_background": "light"
     },
     "output_type": "display_data"
    }
   ],
   "source": [
    "sns.countplot(x=\"Location\",data=eda)\n",
    "#here it is seen that there are 5(equal no. of ) houses in all locations"
   ]
  },
  {
   "cell_type": "markdown",
   "metadata": {},
   "source": [
    "## Continuous variable - Univariate Analysis\n",
    "We can view graphical output through Box Plot and Histogram for Continuous Variable"
   ]
  },
  {
   "cell_type": "code",
   "execution_count": 14,
   "metadata": {},
   "outputs": [
    {
     "data": {
      "text/plain": [
       "<matplotlib.axes._subplots.AxesSubplot at 0x246d381b5e0>"
      ]
     },
     "execution_count": 14,
     "metadata": {},
     "output_type": "execute_result"
    },
    {
     "data": {
      "image/png": "[encoded data removed]",
      "text/plain": [
       "<Figure size 432x288 with 1 Axes>"
      ]
     },
     "metadata": {
      "needs_background": "light"
     },
     "output_type": "display_data"
    }
   ],
   "source": [
    "sns.boxplot(y='Salary', data=eda)\n",
    "#there are no outliers\n",
    "#From the boxplot, we can say that\n",
    "#90 is the median\n",
    "#Most of Salary ranges from 70 to 110"
   ]
  },
  {
   "cell_type": "code",
   "execution_count": 15,
   "metadata": {},
   "outputs": [
    {
     "data": {
      "text/plain": [
       "<matplotlib.axes._subplots.AxesSubplot at 0x246d3875b80>"
      ]
     },
     "execution_count": 15,
     "metadata": {},
     "output_type": "execute_result"
    },
    {
     "data": {
      "image/png": "[encoded data removed]",
      "text/plain": [
       "<Figure size 432x288 with 1 Axes>"
      ]
     },
     "metadata": {
      "needs_background": "light"
     },
     "output_type": "display_data"
    }
   ],
   "source": [
    "sns.boxplot(y='Age', data=eda)\n",
    "#there are no outliers"
   ]
  },
  {
   "cell_type": "code",
   "execution_count": 16,
   "metadata": {},
   "outputs": [
    {
     "data": {
      "text/plain": [
       "<matplotlib.axes._subplots.AxesSubplot at 0x246d38d1d90>"
      ]
     },
     "execution_count": 16,
     "metadata": {},
     "output_type": "execute_result"
    },
    {
     "data": {
      "image/png": "[encoded data removed]",
      "text/plain": [
       "<Figure size 432x288 with 1 Axes>"
      ]
     },
     "metadata": {
      "needs_background": "light"
     },
     "output_type": "display_data"
    }
   ],
   "source": [
    "sns.boxplot(y='Landacres', data=eda)\n",
    "#there are outliers"
   ]
  },
  {
   "cell_type": "code",
   "execution_count": 17,
   "metadata": {},
   "outputs": [
    {
     "data": {
      "text/plain": [
       "<matplotlib.axes._subplots.AxesSubplot at 0x246d39279a0>"
      ]
     },
     "execution_count": 17,
     "metadata": {},
     "output_type": "execute_result"
    },
    {
     "data": {
      "image/png": "[encoded data removed]",
      "text/plain": [
       "<Figure size 432x288 with 1 Axes>"
      ]
     },
     "metadata": {
      "needs_background": "light"
     },
     "output_type": "display_data"
    }
   ],
   "source": [
    "sns.distplot(eda['Landacres'], bins=4)"
   ]
  },
  {
   "cell_type": "code",
   "execution_count": 18,
   "metadata": {},
   "outputs": [
    {
     "data": {
      "text/plain": [
       "<matplotlib.axes._subplots.AxesSubplot at 0x246d3994a30>"
      ]
     },
     "execution_count": 18,
     "metadata": {},
     "output_type": "execute_result"
    },
    {
     "data": {
      "image/png": "[encoded data removed]",
      "text/plain": [
       "<Figure size 432x288 with 1 Axes>"
      ]
     },
     "metadata": {
      "needs_background": "light"
     },
     "output_type": "display_data"
    }
   ],
   "source": [
    "sns.boxplot(y='HouseSizesqrft', data=eda)"
   ]
  },
  {
   "cell_type": "code",
   "execution_count": 19,
   "metadata": {},
   "outputs": [
    {
     "data": {
      "text/plain": [
       "<matplotlib.axes._subplots.AxesSubplot at 0x246d39e9c10>"
      ]
     },
     "execution_count": 19,
     "metadata": {},
     "output_type": "execute_result"
    },
    {
     "data": {
      "image/png": "[encoded data removed]",
      "text/plain": [
       "<Figure size 432x288 with 1 Axes>"
      ]
     },
     "metadata": {
      "needs_background": "light"
     },
     "output_type": "display_data"
    }
   ],
   "source": [
    "sns.distplot(eda['HouseSizesqrft'], bins=4)\n",
    "#slightly skewed towards right"
   ]
  },
  {
   "cell_type": "code",
   "execution_count": 20,
   "metadata": {},
   "outputs": [
    {
     "data": {
      "text/plain": [
       "<matplotlib.axes._subplots.AxesSubplot at 0x246d3a4f9a0>"
      ]
     },
     "execution_count": 20,
     "metadata": {},
     "output_type": "execute_result"
    },
    {
     "data": {
      "image/png": "[encoded data removed]",
      "text/plain": [
       "<Figure size 432x288 with 1 Axes>"
      ]
     },
     "metadata": {
      "needs_background": "light"
     },
     "output_type": "display_data"
    }
   ],
   "source": [
    "sns.boxplot(y='AppraisedValue', data=eda)\n"
   ]
  },
  {
   "cell_type": "code",
   "execution_count": 21,
   "metadata": {},
   "outputs": [
    {
     "data": {
      "text/plain": [
       "<matplotlib.axes._subplots.AxesSubplot at 0x246d398ff10>"
      ]
     },
     "execution_count": 21,
     "metadata": {},
     "output_type": "execute_result"
    },
    {
     "data": {
      "image/png": "[encoded data removed]",
      "text/plain": [
       "<Figure size 432x288 with 1 Axes>"
      ]
     },
     "metadata": {
      "needs_background": "light"
     },
     "output_type": "display_data"
    }
   ],
   "source": [
    "sns.distplot(eda['AppraisedValue'], bins=5)"
   ]
  },
  {
   "cell_type": "markdown",
   "metadata": {},
   "source": [
    "# Step 3: Bivariate Analysis"
   ]
  },
  {
   "cell_type": "markdown",
   "metadata": {},
   "source": [
    "#In Univariate Analysis, we study one variable at a time. but if we want to\n",
    "#find if there is any realtion between two variables,we perform Bivariate Analysis\n",
    "\n",
    "#Bivariate Analysis can be performed Categorical &Categoricator any combination of categorical and continuous variables\n",
    "\n",
    "#Possible Combinations:\n",
    "a. Continuous and Continuous\n",
    "b. Continuous and Categorical\n",
    "c. Categorical and Categorical"
   ]
  },
  {
   "cell_type": "markdown",
   "metadata": {},
   "source": [
    "## 1. Continuous and Continuous- Bivariate Analysis"
   ]
  },
  {
   "cell_type": "code",
   "execution_count": 22,
   "metadata": {},
   "outputs": [],
   "source": [
    "#Scatter Plot: find out the relationship between two variables.\n",
    "#Relationship can be linear or non-linear\n",
    "#to find the strength of relationship, we use Correlation(-1 negative linear corr \n",
    "#to +1 positive corr and 0 is no corr)\n",
    "#We get an idea or pattern among 2 variables\n",
    "\n",
    "#Continuous variables: Age , Salary, Landacres,HouseSizesqrft, AppraisedValue"
   ]
  },
  {
   "cell_type": "code",
   "execution_count": 23,
   "metadata": {},
   "outputs": [
    {
     "data": {
      "text/plain": [
       "Text(0, 0.5, 'Salary')"
      ]
     },
     "execution_count": 23,
     "metadata": {},
     "output_type": "execute_result"
    },
    {
     "data": {
      "image/png": "[encoded data removed]",
      "text/plain": [
       "<Figure size 432x288 with 1 Axes>"
      ]
     },
     "metadata": {
      "needs_background": "light"
     },
     "output_type": "display_data"
    }
   ],
   "source": [
    "plt.scatter(eda['Age'],eda['Salary'])\n",
    "plt.title('Age VS Salary')\n",
    "plt.xlabel('Age')\n",
    "plt.ylabel('Salary')\n",
    "\n",
    "#we can see that there is positive corr, as age is increasing , salary is increasing"
   ]
  },
  {
   "cell_type": "code",
   "execution_count": 24,
   "metadata": {},
   "outputs": [
    {
     "data": {
      "text/plain": [
       "Text(0, 0.5, 'AppraisedValue')"
      ]
     },
     "execution_count": 24,
     "metadata": {},
     "output_type": "execute_result"
    },
    {
     "data": {
      "image/png": "[encoded data removed]",
      "text/plain": [
       "<Figure size 432x288 with 1 Axes>"
      ]
     },
     "metadata": {
      "needs_background": "light"
     },
     "output_type": "display_data"
    }
   ],
   "source": [
    "plt.scatter(eda['HouseSizesqrft'],eda['AppraisedValue'])\n",
    "plt.title('HouseSizesqrft VS AppraisedValue')\n",
    "plt.xlabel('HouseSizesqrft')\n",
    "plt.ylabel('AppraisedValue')\n",
    "\n",
    "#positive corr - as houseSize increases, AppraisedValue increase\n",
    "#also there is an outlier(top right corner of chart)"
   ]
  },
  {
   "cell_type": "code",
   "execution_count": 25,
   "metadata": {},
   "outputs": [
    {
     "data": {
      "text/plain": [
       "Text(0, 0.5, 'Baths')"
      ]
     },
     "execution_count": 25,
     "metadata": {},
     "output_type": "execute_result"
    },
    {
     "data": {
      "image/png": "[encoded data removed]",
      "text/plain": [
       "<Figure size 432x288 with 1 Axes>"
      ]
     },
     "metadata": {
      "needs_background": "light"
     },
     "output_type": "display_data"
    }
   ],
   "source": [
    "plt.scatter(eda['AppraisedValue'],eda['Baths'])\n",
    "plt.title('AppraisedValue VS Baths')\n",
    "plt.xlabel('AppraisedValue')\n",
    "plt.ylabel('Baths')\n",
    "\n",
    "#positive corr with an outlier on top right corner\n",
    "#As no. of bathroom increasing, Appraised value increases"
   ]
  },
  {
   "cell_type": "code",
   "execution_count": 26,
   "metadata": {},
   "outputs": [],
   "source": [
    "#Lets build a Heatmap for exploring correlation between features, a heatmap is among the best visual tools.\n",
    "#The individual values in the data mateix are represented by different colors \n",
    "#helpng quickly see what features have the most and least independencies"
   ]
  },
  {
   "cell_type": "code",
   "execution_count": 27,
   "metadata": {},
   "outputs": [
    {
     "data": {
      "text/plain": [
       "<matplotlib.axes._subplots.AxesSubplot at 0x246d3c413d0>"
      ]
     },
     "execution_count": 27,
     "metadata": {},
     "output_type": "execute_result"
    },
    {
     "data": {
      "image/png": "[encoded data removed]",
      "text/plain": [
       "<Figure size 432x288 with 2 Axes>"
      ]
     },
     "metadata": {
      "needs_background": "light"
     },
     "output_type": "display_data"
    }
   ],
   "source": [
    "sns.heatmap(eda.corr(), annot=True , linewidth=0.5)"
   ]
  },
  {
   "cell_type": "code",
   "execution_count": 28,
   "metadata": {},
   "outputs": [
    {
     "data": {
      "text/plain": [
       "<seaborn.axisgrid.PairGrid at 0x246d3d65370>"
      ]
     },
     "execution_count": 28,
     "metadata": {},
     "output_type": "execute_result"
    },
    {
     "data": {
      "image/png": "[encoded data removed]",
      "text/plain": [
       "<Figure size 1440x1440 with 72 Axes>"
      ]
     },
     "metadata": {
      "needs_background": "light"
     },
     "output_type": "display_data"
    }
   ],
   "source": [
    "sns.pairplot(data=eda)"
   ]
  },
  {
   "cell_type": "markdown",
   "metadata": {},
   "source": [
    "## 2. Categorical and Categorical - Bivariate Analysis"
   ]
  },
  {
   "cell_type": "markdown",
   "metadata": {},
   "source": [
    "Methods to identify the relationship between two categorical variables.\n",
    "\n",
    "## Two way Table:\n",
    "In this method by creating a two way table of count and count%. Both row and column represents category of their respected variable.\n",
    "\n",
    "## Stocked Column Chart:\n",
    "This method is one of the most visual forms of Two way table\n",
    "\n",
    "Categorical: Gender,Education,Location\n",
    "\n",
    "Continuous:Age,Salary,Landacres,HouseSizesqrft,ApraisedValue"
   ]
  },
  {
   "cell_type": "code",
   "execution_count": 29,
   "metadata": {},
   "outputs": [
    {
     "data": {
      "text/plain": [
       "Gender  Education\n",
       "F       Grad         3\n",
       "        PostGrad     4\n",
       "M       Grad         6\n",
       "        PostGrad     2\n",
       "dtype: int64"
      ]
     },
     "execution_count": 29,
     "metadata": {},
     "output_type": "execute_result"
    }
   ],
   "source": [
    "counts = eda.groupby(['Gender','Education'] , axis=0)\n",
    "counts.size()\n",
    "#Through the two way table for Education and Gender, we can see that \n",
    "#more Males are Grad whereas more Females are PostGrad"
   ]
  },
  {
   "cell_type": "code",
   "execution_count": 30,
   "metadata": {},
   "outputs": [
    {
     "data": {
      "text/plain": [
       "Education  Location \n",
       "Grad       GlenCove     2\n",
       "           LongBeach    5\n",
       "           Roslyn       2\n",
       "PostGrad   GlenCove     3\n",
       "           Roslyn       3\n",
       "dtype: int64"
      ]
     },
     "execution_count": 30,
     "metadata": {},
     "output_type": "execute_result"
    }
   ],
   "source": [
    "counts1 = eda.groupby(['Education','Location'],axis=0)\n",
    "counts1.size()\n",
    "#Through the two way table for Education and Location, we can see that \n",
    "# more LongBeach has more Grads as compared to other locations wheras there\n",
    "#is equal distribution of Males and Females as PostGrads"
   ]
  },
  {
   "cell_type": "code",
   "execution_count": 31,
   "metadata": {},
   "outputs": [
    {
     "data": {
      "text/plain": [
       "<matplotlib.axes._subplots.AxesSubplot at 0x246d698f400>"
      ]
     },
     "execution_count": 31,
     "metadata": {},
     "output_type": "execute_result"
    },
    {
     "data": {
      "image/png": "[encoded data removed]",
      "text/plain": [
       "<Figure size 432x288 with 1 Axes>"
      ]
     },
     "metadata": {
      "needs_background": "light"
     },
     "output_type": "display_data"
    }
   ],
   "source": [
    "pd.crosstab(eda['Education'],eda['Gender']).plot(kind='bar',stacked=True)"
   ]
  },
  {
   "cell_type": "markdown",
   "metadata": {},
   "source": [
    "# Step 4: Missing Values Treatment"
   ]
  },
  {
   "cell_type": "markdown",
   "metadata": {},
   "source": [
    "1.There may be situations where there may be missing values in your data.\n",
    "\n",
    "2.Missing data will not make any impact on the result if its %age is within range 1 to 5 % but if it exceed  from 5% then it will surely harder the result achieved after applying data mining techniques.\n",
    "\n",
    "3.Missing values could occur due to following reasons:\n",
    "a. During data extraction\n",
    "b. During data collection\n",
    "\n",
    "4.but there are ways to handle these problems."
   ]
  },
  {
   "cell_type": "code",
   "execution_count": 32,
   "metadata": {},
   "outputs": [
    {
     "data": {
      "text/plain": [
       "True"
      ]
     },
     "execution_count": 32,
     "metadata": {},
     "output_type": "execute_result"
    }
   ],
   "source": [
    "#To check if there are any NULL(nan) values in the dataset\n",
    "eda.isnull().values.any()"
   ]
  },
  {
   "cell_type": "code",
   "execution_count": 33,
   "metadata": {},
   "outputs": [
    {
     "data": {
      "text/html": [
       "<div>\n",
       "<style scoped>\n",
       "    .dataframe tbody tr th:only-of-type {\n",
       "        vertical-align: middle;\n",
       "    }\n",
       "\n",
       "    .dataframe tbody tr th {\n",
       "        vertical-align: top;\n",
       "    }\n",
       "\n",
       "    .dataframe thead th {\n",
       "        text-align: right;\n",
       "    }\n",
       "</style>\n",
       "<table border=\"1\" class=\"dataframe\">\n",
       "  <thead>\n",
       "    <tr style=\"text-align: right;\">\n",
       "      <th></th>\n",
       "      <th>Name</th>\n",
       "      <th>Age</th>\n",
       "      <th>Gender</th>\n",
       "      <th>Education</th>\n",
       "      <th>Salary</th>\n",
       "      <th>AppraisedValue</th>\n",
       "      <th>Location</th>\n",
       "      <th>Landacres</th>\n",
       "      <th>HouseSizesqrft</th>\n",
       "      <th>Rooms</th>\n",
       "      <th>Baths</th>\n",
       "      <th>Garage</th>\n",
       "    </tr>\n",
       "  </thead>\n",
       "  <tbody>\n",
       "    <tr>\n",
       "      <th>0</th>\n",
       "      <td>False</td>\n",
       "      <td>False</td>\n",
       "      <td>False</td>\n",
       "      <td>False</td>\n",
       "      <td>False</td>\n",
       "      <td>False</td>\n",
       "      <td>False</td>\n",
       "      <td>False</td>\n",
       "      <td>False</td>\n",
       "      <td>False</td>\n",
       "      <td>False</td>\n",
       "      <td>False</td>\n",
       "    </tr>\n",
       "    <tr>\n",
       "      <th>1</th>\n",
       "      <td>False</td>\n",
       "      <td>False</td>\n",
       "      <td>False</td>\n",
       "      <td>False</td>\n",
       "      <td>False</td>\n",
       "      <td>False</td>\n",
       "      <td>False</td>\n",
       "      <td>False</td>\n",
       "      <td>False</td>\n",
       "      <td>False</td>\n",
       "      <td>False</td>\n",
       "      <td>False</td>\n",
       "    </tr>\n",
       "    <tr>\n",
       "      <th>2</th>\n",
       "      <td>False</td>\n",
       "      <td>False</td>\n",
       "      <td>False</td>\n",
       "      <td>False</td>\n",
       "      <td>False</td>\n",
       "      <td>False</td>\n",
       "      <td>False</td>\n",
       "      <td>False</td>\n",
       "      <td>False</td>\n",
       "      <td>False</td>\n",
       "      <td>False</td>\n",
       "      <td>False</td>\n",
       "    </tr>\n",
       "    <tr>\n",
       "      <th>3</th>\n",
       "      <td>False</td>\n",
       "      <td>False</td>\n",
       "      <td>False</td>\n",
       "      <td>False</td>\n",
       "      <td>False</td>\n",
       "      <td>False</td>\n",
       "      <td>False</td>\n",
       "      <td>False</td>\n",
       "      <td>False</td>\n",
       "      <td>False</td>\n",
       "      <td>False</td>\n",
       "      <td>False</td>\n",
       "    </tr>\n",
       "    <tr>\n",
       "      <th>4</th>\n",
       "      <td>False</td>\n",
       "      <td>False</td>\n",
       "      <td>False</td>\n",
       "      <td>False</td>\n",
       "      <td>False</td>\n",
       "      <td>False</td>\n",
       "      <td>False</td>\n",
       "      <td>False</td>\n",
       "      <td>False</td>\n",
       "      <td>True</td>\n",
       "      <td>False</td>\n",
       "      <td>False</td>\n",
       "    </tr>\n",
       "    <tr>\n",
       "      <th>5</th>\n",
       "      <td>False</td>\n",
       "      <td>False</td>\n",
       "      <td>False</td>\n",
       "      <td>False</td>\n",
       "      <td>False</td>\n",
       "      <td>False</td>\n",
       "      <td>False</td>\n",
       "      <td>False</td>\n",
       "      <td>False</td>\n",
       "      <td>False</td>\n",
       "      <td>False</td>\n",
       "      <td>False</td>\n",
       "    </tr>\n",
       "    <tr>\n",
       "      <th>6</th>\n",
       "      <td>False</td>\n",
       "      <td>False</td>\n",
       "      <td>False</td>\n",
       "      <td>False</td>\n",
       "      <td>False</td>\n",
       "      <td>False</td>\n",
       "      <td>False</td>\n",
       "      <td>False</td>\n",
       "      <td>False</td>\n",
       "      <td>False</td>\n",
       "      <td>False</td>\n",
       "      <td>False</td>\n",
       "    </tr>\n",
       "    <tr>\n",
       "      <th>7</th>\n",
       "      <td>False</td>\n",
       "      <td>False</td>\n",
       "      <td>False</td>\n",
       "      <td>False</td>\n",
       "      <td>False</td>\n",
       "      <td>False</td>\n",
       "      <td>False</td>\n",
       "      <td>False</td>\n",
       "      <td>False</td>\n",
       "      <td>False</td>\n",
       "      <td>False</td>\n",
       "      <td>False</td>\n",
       "    </tr>\n",
       "    <tr>\n",
       "      <th>8</th>\n",
       "      <td>False</td>\n",
       "      <td>False</td>\n",
       "      <td>False</td>\n",
       "      <td>False</td>\n",
       "      <td>False</td>\n",
       "      <td>False</td>\n",
       "      <td>False</td>\n",
       "      <td>False</td>\n",
       "      <td>False</td>\n",
       "      <td>False</td>\n",
       "      <td>False</td>\n",
       "      <td>False</td>\n",
       "    </tr>\n",
       "    <tr>\n",
       "      <th>9</th>\n",
       "      <td>False</td>\n",
       "      <td>False</td>\n",
       "      <td>False</td>\n",
       "      <td>False</td>\n",
       "      <td>False</td>\n",
       "      <td>False</td>\n",
       "      <td>False</td>\n",
       "      <td>False</td>\n",
       "      <td>False</td>\n",
       "      <td>True</td>\n",
       "      <td>False</td>\n",
       "      <td>False</td>\n",
       "    </tr>\n",
       "    <tr>\n",
       "      <th>10</th>\n",
       "      <td>False</td>\n",
       "      <td>False</td>\n",
       "      <td>False</td>\n",
       "      <td>False</td>\n",
       "      <td>False</td>\n",
       "      <td>False</td>\n",
       "      <td>False</td>\n",
       "      <td>False</td>\n",
       "      <td>False</td>\n",
       "      <td>False</td>\n",
       "      <td>False</td>\n",
       "      <td>False</td>\n",
       "    </tr>\n",
       "    <tr>\n",
       "      <th>11</th>\n",
       "      <td>False</td>\n",
       "      <td>False</td>\n",
       "      <td>False</td>\n",
       "      <td>False</td>\n",
       "      <td>False</td>\n",
       "      <td>False</td>\n",
       "      <td>False</td>\n",
       "      <td>False</td>\n",
       "      <td>False</td>\n",
       "      <td>False</td>\n",
       "      <td>False</td>\n",
       "      <td>False</td>\n",
       "    </tr>\n",
       "    <tr>\n",
       "      <th>12</th>\n",
       "      <td>False</td>\n",
       "      <td>False</td>\n",
       "      <td>False</td>\n",
       "      <td>False</td>\n",
       "      <td>False</td>\n",
       "      <td>False</td>\n",
       "      <td>False</td>\n",
       "      <td>False</td>\n",
       "      <td>False</td>\n",
       "      <td>False</td>\n",
       "      <td>False</td>\n",
       "      <td>False</td>\n",
       "    </tr>\n",
       "    <tr>\n",
       "      <th>13</th>\n",
       "      <td>False</td>\n",
       "      <td>False</td>\n",
       "      <td>False</td>\n",
       "      <td>False</td>\n",
       "      <td>False</td>\n",
       "      <td>False</td>\n",
       "      <td>False</td>\n",
       "      <td>False</td>\n",
       "      <td>False</td>\n",
       "      <td>True</td>\n",
       "      <td>False</td>\n",
       "      <td>False</td>\n",
       "    </tr>\n",
       "    <tr>\n",
       "      <th>14</th>\n",
       "      <td>False</td>\n",
       "      <td>False</td>\n",
       "      <td>False</td>\n",
       "      <td>False</td>\n",
       "      <td>False</td>\n",
       "      <td>False</td>\n",
       "      <td>False</td>\n",
       "      <td>False</td>\n",
       "      <td>False</td>\n",
       "      <td>False</td>\n",
       "      <td>False</td>\n",
       "      <td>False</td>\n",
       "    </tr>\n",
       "  </tbody>\n",
       "</table>\n",
       "</div>"
      ],
      "text/plain": [
       "     Name    Age  Gender  Education  Salary  AppraisedValue  Location  \\\n",
       "0   False  False   False      False   False           False     False   \n",
       "1   False  False   False      False   False           False     False   \n",
       "2   False  False   False      False   False           False     False   \n",
       "3   False  False   False      False   False           False     False   \n",
       "4   False  False   False      False   False           False     False   \n",
       "5   False  False   False      False   False           False     False   \n",
       "6   False  False   False      False   False           False     False   \n",
       "7   False  False   False      False   False           False     False   \n",
       "8   False  False   False      False   False           False     False   \n",
       "9   False  False   False      False   False           False     False   \n",
       "10  False  False   False      False   False           False     False   \n",
       "11  False  False   False      False   False           False     False   \n",
       "12  False  False   False      False   False           False     False   \n",
       "13  False  False   False      False   False           False     False   \n",
       "14  False  False   False      False   False           False     False   \n",
       "\n",
       "    Landacres  HouseSizesqrft  Rooms  Baths  Garage  \n",
       "0       False           False  False  False   False  \n",
       "1       False           False  False  False   False  \n",
       "2       False           False  False  False   False  \n",
       "3       False           False  False  False   False  \n",
       "4       False           False   True  False   False  \n",
       "5       False           False  False  False   False  \n",
       "6       False           False  False  False   False  \n",
       "7       False           False  False  False   False  \n",
       "8       False           False  False  False   False  \n",
       "9       False           False   True  False   False  \n",
       "10      False           False  False  False   False  \n",
       "11      False           False  False  False   False  \n",
       "12      False           False  False  False   False  \n",
       "13      False           False   True  False   False  \n",
       "14      False           False  False  False   False  "
      ]
     },
     "execution_count": 33,
     "metadata": {},
     "output_type": "execute_result"
    }
   ],
   "source": [
    "eda.isnull()"
   ]
  },
  {
   "cell_type": "code",
   "execution_count": 34,
   "metadata": {},
   "outputs": [
    {
     "data": {
      "text/plain": [
       "Name              0\n",
       "Age               0\n",
       "Gender            0\n",
       "Education         0\n",
       "Salary            0\n",
       "AppraisedValue    0\n",
       "Location          0\n",
       "Landacres         0\n",
       "HouseSizesqrft    0\n",
       "Rooms             3\n",
       "Baths             0\n",
       "Garage            0\n",
       "dtype: int64"
      ]
     },
     "execution_count": 34,
     "metadata": {},
     "output_type": "execute_result"
    }
   ],
   "source": [
    "eda.isnull().sum()\n",
    "#here it is seen that Rooms has 3 missing values"
   ]
  },
  {
   "cell_type": "code",
   "execution_count": 35,
   "metadata": {},
   "outputs": [
    {
     "name": "stdout",
     "output_type": "stream",
     "text": [
      "<class 'pandas.core.frame.DataFrame'>\n",
      "RangeIndex: 15 entries, 0 to 14\n",
      "Data columns (total 12 columns):\n",
      " #   Column          Non-Null Count  Dtype  \n",
      "---  ------          --------------  -----  \n",
      " 0   Name            15 non-null     object \n",
      " 1   Age             15 non-null     int64  \n",
      " 2   Gender          15 non-null     object \n",
      " 3   Education       15 non-null     object \n",
      " 4   Salary          15 non-null     int64  \n",
      " 5   AppraisedValue  15 non-null     float64\n",
      " 6   Location        15 non-null     object \n",
      " 7   Landacres       15 non-null     float64\n",
      " 8   HouseSizesqrft  15 non-null     int64  \n",
      " 9   Rooms           12 non-null     float64\n",
      " 10  Baths           15 non-null     float64\n",
      " 11  Garage          15 non-null     int64  \n",
      "dtypes: float64(4), int64(4), object(4)\n",
      "memory usage: 1.5+ KB\n"
     ]
    }
   ],
   "source": [
    "eda.info()"
   ]
  },
  {
   "cell_type": "markdown",
   "metadata": {},
   "source": [
    "## 1. Deletion: Deleting Observations or variables\n",
    "\n",
    "If a particular varaible is having more missing values than rest of the variables in dataset, then we are better off without that variable unless it is really important predictor that makes a lot of business sense\n",
    "\n",
    "Also, if in a huge dataset, we have very minute no. of observations missing, then we can delete the whole of the observations altogether"
   ]
  },
  {
   "cell_type": "markdown",
   "metadata": {},
   "source": [
    "## 2. Single Imputation\n",
    "If the variable is numeric then replace the missing values with either mean, median or mode\n",
    "\n",
    "If variable is otherwise generally normally distributed,we would choose mean\n",
    "\n",
    "If the data is skewed, median imputation is suggested\n",
    "\n",
    "If the data is categorical then we can replace with mode"
   ]
  },
  {
   "cell_type": "code",
   "execution_count": 36,
   "metadata": {},
   "outputs": [
    {
     "data": {
      "text/plain": [
       "array([[<matplotlib.axes._subplots.AxesSubplot object at 0x00000246D72A3D90>]],\n",
       "      dtype=object)"
      ]
     },
     "execution_count": 36,
     "metadata": {},
     "output_type": "execute_result"
    },
    {
     "data": {
      "image/png": "[encoded data removed]",
      "text/plain": [
       "<Figure size 432x288 with 1 Axes>"
      ]
     },
     "metadata": {
      "needs_background": "light"
     },
     "output_type": "display_data"
    }
   ],
   "source": [
    "#We can see that Rooms has 3 missing values\n",
    "eda.hist(column=['Rooms'],bins=5)\n",
    "#as we can see that this is very close to normal dist, so we can replace \n",
    "#missing values with mean."
   ]
  },
  {
   "cell_type": "code",
   "execution_count": 37,
   "metadata": {},
   "outputs": [],
   "source": [
    "#replacing nan values with mean.\n",
    "eda['Rooms'] = eda['Rooms'].fillna(value=eda['Rooms'].mean())"
   ]
  },
  {
   "cell_type": "code",
   "execution_count": 38,
   "metadata": {},
   "outputs": [
    {
     "data": {
      "text/html": [
       "<div>\n",
       "<style scoped>\n",
       "    .dataframe tbody tr th:only-of-type {\n",
       "        vertical-align: middle;\n",
       "    }\n",
       "\n",
       "    .dataframe tbody tr th {\n",
       "        vertical-align: top;\n",
       "    }\n",
       "\n",
       "    .dataframe thead th {\n",
       "        text-align: right;\n",
       "    }\n",
       "</style>\n",
       "<table border=\"1\" class=\"dataframe\">\n",
       "  <thead>\n",
       "    <tr style=\"text-align: right;\">\n",
       "      <th></th>\n",
       "      <th>Name</th>\n",
       "      <th>Age</th>\n",
       "      <th>Gender</th>\n",
       "      <th>Education</th>\n",
       "      <th>Salary</th>\n",
       "      <th>AppraisedValue</th>\n",
       "      <th>Location</th>\n",
       "      <th>Landacres</th>\n",
       "      <th>HouseSizesqrft</th>\n",
       "      <th>Rooms</th>\n",
       "      <th>Baths</th>\n",
       "      <th>Garage</th>\n",
       "    </tr>\n",
       "  </thead>\n",
       "  <tbody>\n",
       "    <tr>\n",
       "      <th>0</th>\n",
       "      <td>Tony</td>\n",
       "      <td>25</td>\n",
       "      <td>M</td>\n",
       "      <td>Grad</td>\n",
       "      <td>50</td>\n",
       "      <td>700.0</td>\n",
       "      <td>GlenCove</td>\n",
       "      <td>0.2297</td>\n",
       "      <td>2448</td>\n",
       "      <td>8.000000</td>\n",
       "      <td>3.5</td>\n",
       "      <td>2</td>\n",
       "    </tr>\n",
       "    <tr>\n",
       "      <th>1</th>\n",
       "      <td>Harret</td>\n",
       "      <td>52</td>\n",
       "      <td>F</td>\n",
       "      <td>PostGrad</td>\n",
       "      <td>95</td>\n",
       "      <td>364.0</td>\n",
       "      <td>GlenCove</td>\n",
       "      <td>0.2192</td>\n",
       "      <td>1942</td>\n",
       "      <td>7.000000</td>\n",
       "      <td>2.5</td>\n",
       "      <td>1</td>\n",
       "    </tr>\n",
       "    <tr>\n",
       "      <th>2</th>\n",
       "      <td>Jane</td>\n",
       "      <td>26</td>\n",
       "      <td>F</td>\n",
       "      <td>PostGrad</td>\n",
       "      <td>65</td>\n",
       "      <td>600.0</td>\n",
       "      <td>GlenCove</td>\n",
       "      <td>0.1630</td>\n",
       "      <td>2073</td>\n",
       "      <td>7.000000</td>\n",
       "      <td>3.0</td>\n",
       "      <td>2</td>\n",
       "    </tr>\n",
       "    <tr>\n",
       "      <th>3</th>\n",
       "      <td>Rose</td>\n",
       "      <td>45</td>\n",
       "      <td>F</td>\n",
       "      <td>Grad</td>\n",
       "      <td>99</td>\n",
       "      <td>548.4</td>\n",
       "      <td>LongBeach</td>\n",
       "      <td>0.4608</td>\n",
       "      <td>2707</td>\n",
       "      <td>8.000000</td>\n",
       "      <td>2.5</td>\n",
       "      <td>1</td>\n",
       "    </tr>\n",
       "    <tr>\n",
       "      <th>4</th>\n",
       "      <td>John</td>\n",
       "      <td>42</td>\n",
       "      <td>M</td>\n",
       "      <td>Grad</td>\n",
       "      <td>77</td>\n",
       "      <td>405.9</td>\n",
       "      <td>LongBeach</td>\n",
       "      <td>0.2549</td>\n",
       "      <td>2042</td>\n",
       "      <td>7.166667</td>\n",
       "      <td>1.5</td>\n",
       "      <td>1</td>\n",
       "    </tr>\n",
       "    <tr>\n",
       "      <th>5</th>\n",
       "      <td>Mark</td>\n",
       "      <td>62</td>\n",
       "      <td>M</td>\n",
       "      <td>PostGrad</td>\n",
       "      <td>118</td>\n",
       "      <td>374.1</td>\n",
       "      <td>GlenCove</td>\n",
       "      <td>0.2290</td>\n",
       "      <td>2089</td>\n",
       "      <td>7.000000</td>\n",
       "      <td>2.0</td>\n",
       "      <td>0</td>\n",
       "    </tr>\n",
       "    <tr>\n",
       "      <th>6</th>\n",
       "      <td>Bruce</td>\n",
       "      <td>51</td>\n",
       "      <td>M</td>\n",
       "      <td>Grad</td>\n",
       "      <td>101</td>\n",
       "      <td>600.0</td>\n",
       "      <td>GlenCove</td>\n",
       "      <td>0.1714</td>\n",
       "      <td>1344</td>\n",
       "      <td>8.000000</td>\n",
       "      <td>1.0</td>\n",
       "      <td>0</td>\n",
       "    </tr>\n",
       "    <tr>\n",
       "      <th>7</th>\n",
       "      <td>Steve</td>\n",
       "      <td>43</td>\n",
       "      <td>M</td>\n",
       "      <td>Grad</td>\n",
       "      <td>108</td>\n",
       "      <td>299.0</td>\n",
       "      <td>Roslyn</td>\n",
       "      <td>0.1750</td>\n",
       "      <td>1120</td>\n",
       "      <td>5.000000</td>\n",
       "      <td>1.5</td>\n",
       "      <td>0</td>\n",
       "    </tr>\n",
       "    <tr>\n",
       "      <th>8</th>\n",
       "      <td>Carol</td>\n",
       "      <td>24</td>\n",
       "      <td>F</td>\n",
       "      <td>PostGrad</td>\n",
       "      <td>51</td>\n",
       "      <td>471.0</td>\n",
       "      <td>Roslyn</td>\n",
       "      <td>0.2130</td>\n",
       "      <td>1817</td>\n",
       "      <td>6.000000</td>\n",
       "      <td>2.0</td>\n",
       "      <td>0</td>\n",
       "    </tr>\n",
       "    <tr>\n",
       "      <th>9</th>\n",
       "      <td>Henry</td>\n",
       "      <td>25</td>\n",
       "      <td>M</td>\n",
       "      <td>PostGrad</td>\n",
       "      <td>68</td>\n",
       "      <td>510.7</td>\n",
       "      <td>Roslyn</td>\n",
       "      <td>0.1377</td>\n",
       "      <td>2496</td>\n",
       "      <td>7.166667</td>\n",
       "      <td>2.0</td>\n",
       "      <td>1</td>\n",
       "    </tr>\n",
       "    <tr>\n",
       "      <th>10</th>\n",
       "      <td>Donald</td>\n",
       "      <td>41</td>\n",
       "      <td>M</td>\n",
       "      <td>Grad</td>\n",
       "      <td>86</td>\n",
       "      <td>517.7</td>\n",
       "      <td>LongBeach</td>\n",
       "      <td>0.2497</td>\n",
       "      <td>1615</td>\n",
       "      <td>7.000000</td>\n",
       "      <td>2.0</td>\n",
       "      <td>1</td>\n",
       "    </tr>\n",
       "    <tr>\n",
       "      <th>11</th>\n",
       "      <td>Maria</td>\n",
       "      <td>51</td>\n",
       "      <td>F</td>\n",
       "      <td>Grad</td>\n",
       "      <td>122</td>\n",
       "      <td>1200.0</td>\n",
       "      <td>LongBeach</td>\n",
       "      <td>0.4116</td>\n",
       "      <td>4067</td>\n",
       "      <td>9.000000</td>\n",
       "      <td>4.0</td>\n",
       "      <td>1</td>\n",
       "    </tr>\n",
       "    <tr>\n",
       "      <th>12</th>\n",
       "      <td>Janet</td>\n",
       "      <td>49</td>\n",
       "      <td>F</td>\n",
       "      <td>PostGrad</td>\n",
       "      <td>112</td>\n",
       "      <td>700.0</td>\n",
       "      <td>Roslyn</td>\n",
       "      <td>0.3372</td>\n",
       "      <td>3130</td>\n",
       "      <td>8.000000</td>\n",
       "      <td>3.0</td>\n",
       "      <td>1</td>\n",
       "    </tr>\n",
       "    <tr>\n",
       "      <th>13</th>\n",
       "      <td>Sophia</td>\n",
       "      <td>32</td>\n",
       "      <td>F</td>\n",
       "      <td>Grad</td>\n",
       "      <td>85</td>\n",
       "      <td>374.8</td>\n",
       "      <td>Roslyn</td>\n",
       "      <td>0.1503</td>\n",
       "      <td>1423</td>\n",
       "      <td>7.166667</td>\n",
       "      <td>2.0</td>\n",
       "      <td>0</td>\n",
       "    </tr>\n",
       "    <tr>\n",
       "      <th>14</th>\n",
       "      <td>Jeffery</td>\n",
       "      <td>37</td>\n",
       "      <td>M</td>\n",
       "      <td>Grad</td>\n",
       "      <td>90</td>\n",
       "      <td>543.0</td>\n",
       "      <td>LongBeach</td>\n",
       "      <td>0.2348</td>\n",
       "      <td>1799</td>\n",
       "      <td>6.000000</td>\n",
       "      <td>2.5</td>\n",
       "      <td>1</td>\n",
       "    </tr>\n",
       "  </tbody>\n",
       "</table>\n",
       "</div>"
      ],
      "text/plain": [
       "       Name  Age Gender Education  Salary  AppraisedValue   Location  \\\n",
       "0      Tony   25      M      Grad      50           700.0   GlenCove   \n",
       "1    Harret   52      F  PostGrad      95           364.0   GlenCove   \n",
       "2      Jane   26      F  PostGrad      65           600.0   GlenCove   \n",
       "3      Rose   45      F      Grad      99           548.4  LongBeach   \n",
       "4      John   42      M      Grad      77           405.9  LongBeach   \n",
       "5      Mark   62      M  PostGrad     118           374.1   GlenCove   \n",
       "6     Bruce   51      M      Grad     101           600.0   GlenCove   \n",
       "7     Steve   43      M      Grad     108           299.0     Roslyn   \n",
       "8     Carol   24      F  PostGrad      51           471.0     Roslyn   \n",
       "9     Henry   25      M  PostGrad      68           510.7     Roslyn   \n",
       "10   Donald   41      M      Grad      86           517.7  LongBeach   \n",
       "11    Maria   51      F      Grad     122          1200.0  LongBeach   \n",
       "12    Janet   49      F  PostGrad     112           700.0     Roslyn   \n",
       "13   Sophia   32      F      Grad      85           374.8     Roslyn   \n",
       "14  Jeffery   37      M      Grad      90           543.0  LongBeach   \n",
       "\n",
       "    Landacres  HouseSizesqrft     Rooms  Baths  Garage  \n",
       "0      0.2297            2448  8.000000    3.5       2  \n",
       "1      0.2192            1942  7.000000    2.5       1  \n",
       "2      0.1630            2073  7.000000    3.0       2  \n",
       "3      0.4608            2707  8.000000    2.5       1  \n",
       "4      0.2549            2042  7.166667    1.5       1  \n",
       "5      0.2290            2089  7.000000    2.0       0  \n",
       "6      0.1714            1344  8.000000    1.0       0  \n",
       "7      0.1750            1120  5.000000    1.5       0  \n",
       "8      0.2130            1817  6.000000    2.0       0  \n",
       "9      0.1377            2496  7.166667    2.0       1  \n",
       "10     0.2497            1615  7.000000    2.0       1  \n",
       "11     0.4116            4067  9.000000    4.0       1  \n",
       "12     0.3372            3130  8.000000    3.0       1  \n",
       "13     0.1503            1423  7.166667    2.0       0  \n",
       "14     0.2348            1799  6.000000    2.5       1  "
      ]
     },
     "execution_count": 38,
     "metadata": {},
     "output_type": "execute_result"
    }
   ],
   "source": [
    "eda"
   ]
  },
  {
   "cell_type": "code",
   "execution_count": 39,
   "metadata": {},
   "outputs": [
    {
     "data": {
      "text/plain": [
       "Name              0\n",
       "Age               0\n",
       "Gender            0\n",
       "Education         0\n",
       "Salary            0\n",
       "AppraisedValue    0\n",
       "Location          0\n",
       "Landacres         0\n",
       "HouseSizesqrft    0\n",
       "Rooms             0\n",
       "Baths             0\n",
       "Garage            0\n",
       "dtype: int64"
      ]
     },
     "execution_count": 39,
     "metadata": {},
     "output_type": "execute_result"
    }
   ],
   "source": [
    "eda.isnull().sum()\n",
    "#Now there are no NULL values"
   ]
  },
  {
   "cell_type": "markdown",
   "metadata": {},
   "source": [
    "## 3. Provide Value of your own\n",
    "\n",
    "## Constant:\n",
    "This choice allows us to provide our own default value to fill in the gas. This might be an integer or real number to numeric variables or else a special marker.\n",
    "\n",
    "## Closest fit:\n",
    "The closest fit algorithm depends upon exchanging absent values with present values of the similar attribute of other likewoose cases."
   ]
  },
  {
   "cell_type": "markdown",
   "metadata": {},
   "source": [
    "# Step 5: Outlier Treatment\n",
    "\n",
    "## what is an Outlier?\n",
    "\n",
    "1.Outlier is an observation that appears far away and diverges from an overall pattern in a sample.\n",
    "\n",
    "2.Outliers can drastically change the resutls of the data analysis and statistical modelling.\n",
    "\n",
    "There are numerous impacts of outliers in the dataset\n",
    "a. It increases the error variance and reduces the power of statistical tests.\n",
    "b. If the outliers are non-randomly distributed, they can decrease normality\n",
    "c. They can Bias or influence estimates that may be substantive interest.\n",
    "\n",
    "## Causes of Outliers:\n",
    "\n",
    "1.Data Entry Errors\n",
    "\n",
    "2.Measurment Errors\n",
    "\n",
    "3.Intentional Errors\n",
    "\n",
    "4.Data processing error\n",
    "\n",
    "5.Sampling Errors\n",
    "\n",
    "6.Natural Outlier"
   ]
  },
  {
   "cell_type": "markdown",
   "metadata": {},
   "source": [
    "## Outlier Detection\n",
    "\n",
    "1.Outlier can be detected using boxplots and scatter plots\n",
    "\n",
    "2.In our data , we plot a scatter plot for Appraised_Value and Baths(bivariate analysis) and also a boxplot for Appraised_Value(Univaraite analysis)"
   ]
  },
  {
   "cell_type": "code",
   "execution_count": 40,
   "metadata": {},
   "outputs": [
    {
     "data": {
      "text/plain": [
       "<matplotlib.axes._subplots.AxesSubplot at 0x246d7307400>"
      ]
     },
     "execution_count": 40,
     "metadata": {},
     "output_type": "execute_result"
    },
    {
     "data": {
      "image/png": "[encoded data removed]",
      "text/plain": [
       "<Figure size 432x288 with 1 Axes>"
      ]
     },
     "metadata": {
      "needs_background": "light"
     },
     "output_type": "display_data"
    }
   ],
   "source": [
    "eda.boxplot(column=['AppraisedValue'])"
   ]
  },
  {
   "cell_type": "code",
   "execution_count": 41,
   "metadata": {},
   "outputs": [
    {
     "data": {
      "text/plain": [
       "<matplotlib.collections.PathCollection at 0x246d8374a30>"
      ]
     },
     "execution_count": 41,
     "metadata": {},
     "output_type": "execute_result"
    },
    {
     "data": {
      "image/png": "[encoded data removed]",
      "text/plain": [
       "<Figure size 432x288 with 1 Axes>"
      ]
     },
     "metadata": {
      "needs_background": "light"
     },
     "output_type": "display_data"
    }
   ],
   "source": [
    "plt.scatter(eda['AppraisedValue'],eda['Baths'])"
   ]
  },
  {
   "cell_type": "markdown",
   "metadata": {},
   "source": [
    "## Outliers can be detected by using certain thumb rules:\n",
    "\n",
    "1.Any value, which is beyond the range of -1.5x IQR where IQR= Q3-Q1\n",
    "\n",
    "2.Any value, which out of range of 5th and 95th percentile can be considered as outlier\n",
    "\n",
    "3.Data points, three or more standard deviation away from mean are considered outlier"
   ]
  },
  {
   "cell_type": "code",
   "execution_count": 42,
   "metadata": {},
   "outputs": [
    {
     "data": {
      "text/plain": [
       "count      15.000000\n",
       "mean      547.240000\n",
       "std       217.331829\n",
       "min       299.000000\n",
       "25%       390.350000\n",
       "50%       517.700000\n",
       "75%       600.000000\n",
       "max      1200.000000\n",
       "Name: AppraisedValue, dtype: float64"
      ]
     },
     "execution_count": 42,
     "metadata": {},
     "output_type": "execute_result"
    }
   ],
   "source": [
    "eda['AppraisedValue'].describe()"
   ]
  },
  {
   "cell_type": "code",
   "execution_count": 43,
   "metadata": {},
   "outputs": [
    {
     "name": "stdout",
     "output_type": "stream",
     "text": [
      "209.64999999999998\n"
     ]
    }
   ],
   "source": [
    "#IQR = Q3-Q1\n",
    "IQR = eda['AppraisedValue'].quantile(0.75) - eda['AppraisedValue'].quantile(0.25)\n",
    "print(IQR)"
   ]
  },
  {
   "cell_type": "code",
   "execution_count": 44,
   "metadata": {},
   "outputs": [
    {
     "name": "stdout",
     "output_type": "stream",
     "text": [
      "914.4749999999999\n",
      "75.87500000000006\n"
     ]
    }
   ],
   "source": [
    "UpperOutlierLimit=eda['AppraisedValue'].quantile(0.75) + (1.5 * IQR)\n",
    "LowerOutlierLimit = eda['AppraisedValue'].quantile(0.25) - (1.5 * IQR)\n",
    "\n",
    "print(UpperOutlierLimit)\n",
    "print(LowerOutlierLimit)"
   ]
  },
  {
   "cell_type": "code",
   "execution_count": 45,
   "metadata": {},
   "outputs": [],
   "source": [
    "OutlierValues = eda[(eda['AppraisedValue'] >= UpperOutlierLimit) | (eda['AppraisedValue'] <= LowerOutlierLimit)]"
   ]
  },
  {
   "cell_type": "code",
   "execution_count": 46,
   "metadata": {},
   "outputs": [
    {
     "data": {
      "text/html": [
       "<div>\n",
       "<style scoped>\n",
       "    .dataframe tbody tr th:only-of-type {\n",
       "        vertical-align: middle;\n",
       "    }\n",
       "\n",
       "    .dataframe tbody tr th {\n",
       "        vertical-align: top;\n",
       "    }\n",
       "\n",
       "    .dataframe thead th {\n",
       "        text-align: right;\n",
       "    }\n",
       "</style>\n",
       "<table border=\"1\" class=\"dataframe\">\n",
       "  <thead>\n",
       "    <tr style=\"text-align: right;\">\n",
       "      <th></th>\n",
       "      <th>Name</th>\n",
       "      <th>Age</th>\n",
       "      <th>Gender</th>\n",
       "      <th>Education</th>\n",
       "      <th>Salary</th>\n",
       "      <th>AppraisedValue</th>\n",
       "      <th>Location</th>\n",
       "      <th>Landacres</th>\n",
       "      <th>HouseSizesqrft</th>\n",
       "      <th>Rooms</th>\n",
       "      <th>Baths</th>\n",
       "      <th>Garage</th>\n",
       "    </tr>\n",
       "  </thead>\n",
       "  <tbody>\n",
       "    <tr>\n",
       "      <th>11</th>\n",
       "      <td>Maria</td>\n",
       "      <td>51</td>\n",
       "      <td>F</td>\n",
       "      <td>Grad</td>\n",
       "      <td>122</td>\n",
       "      <td>1200.0</td>\n",
       "      <td>LongBeach</td>\n",
       "      <td>0.4116</td>\n",
       "      <td>4067</td>\n",
       "      <td>9.0</td>\n",
       "      <td>4.0</td>\n",
       "      <td>1</td>\n",
       "    </tr>\n",
       "  </tbody>\n",
       "</table>\n",
       "</div>"
      ],
      "text/plain": [
       "     Name  Age Gender Education  Salary  AppraisedValue   Location  Landacres  \\\n",
       "11  Maria   51      F      Grad     122          1200.0  LongBeach     0.4116   \n",
       "\n",
       "    HouseSizesqrft  Rooms  Baths  Garage  \n",
       "11            4067    9.0    4.0       1  "
      ]
     },
     "execution_count": 46,
     "metadata": {},
     "output_type": "execute_result"
    }
   ],
   "source": [
    "OutlierValues\n",
    "#so we can see that , here we have only 1 outlier value"
   ]
  },
  {
   "cell_type": "code",
   "execution_count": 47,
   "metadata": {},
   "outputs": [
    {
     "data": {
      "text/plain": [
       "count    15.000000\n",
       "mean      2.333333\n",
       "std       0.794325\n",
       "min       1.000000\n",
       "25%       2.000000\n",
       "50%       2.000000\n",
       "75%       2.750000\n",
       "max       4.000000\n",
       "Name: Baths, dtype: float64"
      ]
     },
     "execution_count": 47,
     "metadata": {},
     "output_type": "execute_result"
    }
   ],
   "source": [
    "eda['Baths'].describe()"
   ]
  },
  {
   "cell_type": "code",
   "execution_count": 48,
   "metadata": {},
   "outputs": [
    {
     "data": {
      "text/plain": [
       "<matplotlib.axes._subplots.AxesSubplot at 0x246d83a3700>"
      ]
     },
     "execution_count": 48,
     "metadata": {},
     "output_type": "execute_result"
    },
    {
     "data": {
      "image/png": "[encoded data removed]",
      "text/plain": [
       "<Figure size 432x288 with 1 Axes>"
      ]
     },
     "metadata": {
      "needs_background": "light"
     },
     "output_type": "display_data"
    }
   ],
   "source": [
    "eda.boxplot(column=['Baths'])"
   ]
  },
  {
   "cell_type": "code",
   "execution_count": 49,
   "metadata": {},
   "outputs": [
    {
     "name": "stdout",
     "output_type": "stream",
     "text": [
      "0.75\n"
     ]
    }
   ],
   "source": [
    "IQR_Baths = eda['Baths'].quantile(0.75) - eda['Baths'].quantile(0.25)\n",
    "print(IQR_Baths)"
   ]
  },
  {
   "cell_type": "code",
   "execution_count": 50,
   "metadata": {},
   "outputs": [
    {
     "name": "stdout",
     "output_type": "stream",
     "text": [
      "3.875\n",
      "0.875\n"
     ]
    }
   ],
   "source": [
    "UpperOutlierLimit_Baths=eda['Baths'].quantile(0.75) + (1.5 * IQR_Baths)\n",
    "LowerOutlierLimit_Baths = eda['Baths'].quantile(0.25) - (1.5 * IQR_Baths)\n",
    "\n",
    "print(UpperOutlierLimit_Baths)\n",
    "print(LowerOutlierLimit_Baths)"
   ]
  },
  {
   "cell_type": "code",
   "execution_count": 51,
   "metadata": {},
   "outputs": [],
   "source": [
    "OutlierValues_Baths = eda[(eda['Baths'] >= UpperOutlierLimit_Baths) | (eda['Baths'] <= LowerOutlierLimit_Baths)]"
   ]
  },
  {
   "cell_type": "code",
   "execution_count": 52,
   "metadata": {},
   "outputs": [
    {
     "data": {
      "text/html": [
       "<div>\n",
       "<style scoped>\n",
       "    .dataframe tbody tr th:only-of-type {\n",
       "        vertical-align: middle;\n",
       "    }\n",
       "\n",
       "    .dataframe tbody tr th {\n",
       "        vertical-align: top;\n",
       "    }\n",
       "\n",
       "    .dataframe thead th {\n",
       "        text-align: right;\n",
       "    }\n",
       "</style>\n",
       "<table border=\"1\" class=\"dataframe\">\n",
       "  <thead>\n",
       "    <tr style=\"text-align: right;\">\n",
       "      <th></th>\n",
       "      <th>Name</th>\n",
       "      <th>Age</th>\n",
       "      <th>Gender</th>\n",
       "      <th>Education</th>\n",
       "      <th>Salary</th>\n",
       "      <th>AppraisedValue</th>\n",
       "      <th>Location</th>\n",
       "      <th>Landacres</th>\n",
       "      <th>HouseSizesqrft</th>\n",
       "      <th>Rooms</th>\n",
       "      <th>Baths</th>\n",
       "      <th>Garage</th>\n",
       "    </tr>\n",
       "  </thead>\n",
       "  <tbody>\n",
       "    <tr>\n",
       "      <th>11</th>\n",
       "      <td>Maria</td>\n",
       "      <td>51</td>\n",
       "      <td>F</td>\n",
       "      <td>Grad</td>\n",
       "      <td>122</td>\n",
       "      <td>1200.0</td>\n",
       "      <td>LongBeach</td>\n",
       "      <td>0.4116</td>\n",
       "      <td>4067</td>\n",
       "      <td>9.0</td>\n",
       "      <td>4.0</td>\n",
       "      <td>1</td>\n",
       "    </tr>\n",
       "  </tbody>\n",
       "</table>\n",
       "</div>"
      ],
      "text/plain": [
       "     Name  Age Gender Education  Salary  AppraisedValue   Location  Landacres  \\\n",
       "11  Maria   51      F      Grad     122          1200.0  LongBeach     0.4116   \n",
       "\n",
       "    HouseSizesqrft  Rooms  Baths  Garage  \n",
       "11            4067    9.0    4.0       1  "
      ]
     },
     "execution_count": 52,
     "metadata": {},
     "output_type": "execute_result"
    }
   ],
   "source": [
    "OutlierValues_Baths"
   ]
  },
  {
   "cell_type": "markdown",
   "metadata": {},
   "source": [
    "## Handle Outliers\n",
    "\n",
    "1.we could remove the outliers if they are due to data entry or data processing errors.\n",
    "\n",
    "2.Based on business understanding, you could also replace the outliers with mean or median.\n",
    "\n",
    "3.If there is a pattern of interest in the outliers then they could be handled seperately.\n",
    "\n",
    "For example: If the outliers are like in groups then treat both groups as two different groups and build individual model for both groups and then \n",
    "combine the output.\n",
    "\n",
    "4.Also the outliers can be capped with 5th or 95th percentile"
   ]
  },
  {
   "cell_type": "code",
   "execution_count": 53,
   "metadata": {},
   "outputs": [
    {
     "name": "stderr",
     "output_type": "stream",
     "text": [
      "<ipython-input-53-58321db90056>:3: SettingWithCopyWarning: \n",
      "A value is trying to be set on a copy of a slice from a DataFrame\n",
      "\n",
      "See the caveats in the documentation: https://pandas.pydata.org/pandas-docs/stable/user_guide/indexing.html#returning-a-view-versus-a-copy\n",
      "  eda['AppraisedValue'][11] = eda['AppraisedValue'].quantile(0.95)\n"
     ]
    }
   ],
   "source": [
    "# We will be using capping method for imputation of the outlier in our data \n",
    "#for variable Appraised_Value\n",
    "eda['AppraisedValue'][11] = eda['AppraisedValue'].quantile(0.95)"
   ]
  },
  {
   "cell_type": "code",
   "execution_count": 54,
   "metadata": {},
   "outputs": [
    {
     "data": {
      "text/plain": [
       "849.9999999999995"
      ]
     },
     "execution_count": 54,
     "metadata": {},
     "output_type": "execute_result"
    }
   ],
   "source": [
    "eda['AppraisedValue'][11]"
   ]
  },
  {
   "cell_type": "code",
   "execution_count": 55,
   "metadata": {},
   "outputs": [
    {
     "name": "stderr",
     "output_type": "stream",
     "text": [
      "<ipython-input-55-9d343a7e3915>:2: SettingWithCopyWarning: \n",
      "A value is trying to be set on a copy of a slice from a DataFrame\n",
      "\n",
      "See the caveats in the documentation: https://pandas.pydata.org/pandas-docs/stable/user_guide/indexing.html#returning-a-view-versus-a-copy\n",
      "  eda['Baths'][11] = eda['Baths'].quantile(0.95)\n"
     ]
    }
   ],
   "source": [
    "#capping baths\n",
    "eda['Baths'][11] = eda['Baths'].quantile(0.95)"
   ]
  },
  {
   "cell_type": "code",
   "execution_count": 56,
   "metadata": {},
   "outputs": [
    {
     "data": {
      "text/plain": [
       "3.6499999999999995"
      ]
     },
     "execution_count": 56,
     "metadata": {},
     "output_type": "execute_result"
    }
   ],
   "source": [
    "eda['Baths'][11]"
   ]
  },
  {
   "cell_type": "code",
   "execution_count": 57,
   "metadata": {},
   "outputs": [
    {
     "data": {
      "text/plain": [
       "<matplotlib.axes._subplots.AxesSubplot at 0x246d8406490>"
      ]
     },
     "execution_count": 57,
     "metadata": {},
     "output_type": "execute_result"
    },
    {
     "data": {
      "image/png": "[encoded data removed]",
      "text/plain": [
       "<Figure size 432x288 with 1 Axes>"
      ]
     },
     "metadata": {
      "needs_background": "light"
     },
     "output_type": "display_data"
    }
   ],
   "source": [
    "eda.boxplot(column=['AppraisedValue'])\n",
    "#Now there are no outliers"
   ]
  },
  {
   "cell_type": "code",
   "execution_count": 58,
   "metadata": {},
   "outputs": [
    {
     "data": {
      "text/plain": [
       "<matplotlib.axes._subplots.AxesSubplot at 0x246d8406cd0>"
      ]
     },
     "execution_count": 58,
     "metadata": {},
     "output_type": "execute_result"
    },
    {
     "data": {
      "image/png": "[encoded data removed]",
      "text/plain": [
       "<Figure size 432x288 with 1 Axes>"
      ]
     },
     "metadata": {
      "needs_background": "light"
     },
     "output_type": "display_data"
    }
   ],
   "source": [
    "eda.boxplot(column=['Baths'])\n",
    "#now there are no outliers in the boxplot"
   ]
  },
  {
   "cell_type": "markdown",
   "metadata": {},
   "source": [
    "# Step 6:Feature Engineering - Variable and dummy Variable Creation\n",
    "\n",
    "1.Variable Creation is a process to generate a new variable/features based on exisiting varaible(s)\n",
    "\n",
    "2.Dummy coding provides one way of using categorical predictor variables in various kinds of estimation models, such as, linear regression.\n",
    "### Dummy Coding uses only ones and zeros to convey all of the necessary information on group membership.\n",
    "\n",
    "we always create n-1 dummy variables"
   ]
  },
  {
   "cell_type": "code",
   "execution_count": 64,
   "metadata": {},
   "outputs": [
    {
     "name": "stdout",
     "output_type": "stream",
     "text": [
      "Age               False\n",
      "Gender             True\n",
      "Education          True\n",
      "Salary            False\n",
      "AppraisedValue    False\n",
      "Location           True\n",
      "Landacres         False\n",
      "HouseSizesqrft    False\n",
      "Rooms             False\n",
      "Baths             False\n",
      "Garage            False\n",
      "dtype: bool\n"
     ]
    }
   ],
   "source": [
    "obj = eda.dtypes == np.object\n",
    "print(obj)"
   ]
  },
  {
   "cell_type": "code",
   "execution_count": 65,
   "metadata": {},
   "outputs": [
    {
     "data": {
      "text/plain": [
       "Index(['Gender', 'Education', 'Location'], dtype='object')"
      ]
     },
     "execution_count": 65,
     "metadata": {},
     "output_type": "execute_result"
    }
   ],
   "source": [
    "eda.columns[obj]"
   ]
  },
  {
   "cell_type": "code",
   "execution_count": 61,
   "metadata": {},
   "outputs": [],
   "source": [
    "del eda['Name']"
   ]
  },
  {
   "cell_type": "code",
   "execution_count": 66,
   "metadata": {},
   "outputs": [
    {
     "data": {
      "text/plain": [
       "Index(['Gender', 'Education', 'Location'], dtype='object')"
      ]
     },
     "execution_count": 66,
     "metadata": {},
     "output_type": "execute_result"
    }
   ],
   "source": [
    "eda.columns[obj]"
   ]
  },
  {
   "cell_type": "code",
   "execution_count": 67,
   "metadata": {},
   "outputs": [
    {
     "name": "stdout",
     "output_type": "stream",
     "text": [
      "    M  PostGrad  LongBeach  Roslyn\n",
      "0   1         0          0       0\n",
      "1   0         1          0       0\n",
      "2   0         1          0       0\n",
      "3   0         0          1       0\n",
      "4   1         0          1       0\n",
      "5   1         1          0       0\n",
      "6   1         0          0       0\n",
      "7   1         0          0       1\n",
      "8   0         1          0       1\n",
      "9   1         1          0       1\n",
      "10  1         0          1       0\n",
      "11  0         0          1       0\n",
      "12  0         1          0       1\n",
      "13  0         0          0       1\n",
      "14  1         0          1       0\n"
     ]
    }
   ],
   "source": [
    "dummydf = pd.DataFrame()\n",
    "\n",
    "for i in eda.columns[obj]:\n",
    "    dummy =pd.get_dummies(eda[i],drop_first=True)\n",
    "    #drop_first drops the first category in order to avoid multicollinearity problme\n",
    "    #prefix is used to add a certain prefix to all dummy variables created for any particular categorical variable\n",
    "    \n",
    "    dummydf=pd.concat([dummydf,dummy],axis=1)\n",
    "    #pd.concat combines all the dummy columns for all categorical variable\n",
    "    \n",
    "    \n",
    "print(dummydf)"
   ]
  },
  {
   "cell_type": "code",
   "execution_count": 68,
   "metadata": {},
   "outputs": [],
   "source": [
    "eda1= pd.concat([eda,dummydf],axis=1)"
   ]
  },
  {
   "cell_type": "code",
   "execution_count": 69,
   "metadata": {},
   "outputs": [
    {
     "data": {
      "text/html": [
       "<div>\n",
       "<style scoped>\n",
       "    .dataframe tbody tr th:only-of-type {\n",
       "        vertical-align: middle;\n",
       "    }\n",
       "\n",
       "    .dataframe tbody tr th {\n",
       "        vertical-align: top;\n",
       "    }\n",
       "\n",
       "    .dataframe thead th {\n",
       "        text-align: right;\n",
       "    }\n",
       "</style>\n",
       "<table border=\"1\" class=\"dataframe\">\n",
       "  <thead>\n",
       "    <tr style=\"text-align: right;\">\n",
       "      <th></th>\n",
       "      <th>Age</th>\n",
       "      <th>Gender</th>\n",
       "      <th>Education</th>\n",
       "      <th>Salary</th>\n",
       "      <th>AppraisedValue</th>\n",
       "      <th>Location</th>\n",
       "      <th>Landacres</th>\n",
       "      <th>HouseSizesqrft</th>\n",
       "      <th>Rooms</th>\n",
       "      <th>Baths</th>\n",
       "      <th>Garage</th>\n",
       "      <th>M</th>\n",
       "      <th>PostGrad</th>\n",
       "      <th>LongBeach</th>\n",
       "      <th>Roslyn</th>\n",
       "    </tr>\n",
       "  </thead>\n",
       "  <tbody>\n",
       "    <tr>\n",
       "      <th>0</th>\n",
       "      <td>25</td>\n",
       "      <td>M</td>\n",
       "      <td>Grad</td>\n",
       "      <td>50</td>\n",
       "      <td>700.0</td>\n",
       "      <td>GlenCove</td>\n",
       "      <td>0.2297</td>\n",
       "      <td>2448</td>\n",
       "      <td>8.000000</td>\n",
       "      <td>3.50</td>\n",
       "      <td>2</td>\n",
       "      <td>1</td>\n",
       "      <td>0</td>\n",
       "      <td>0</td>\n",
       "      <td>0</td>\n",
       "    </tr>\n",
       "    <tr>\n",
       "      <th>1</th>\n",
       "      <td>52</td>\n",
       "      <td>F</td>\n",
       "      <td>PostGrad</td>\n",
       "      <td>95</td>\n",
       "      <td>364.0</td>\n",
       "      <td>GlenCove</td>\n",
       "      <td>0.2192</td>\n",
       "      <td>1942</td>\n",
       "      <td>7.000000</td>\n",
       "      <td>2.50</td>\n",
       "      <td>1</td>\n",
       "      <td>0</td>\n",
       "      <td>1</td>\n",
       "      <td>0</td>\n",
       "      <td>0</td>\n",
       "    </tr>\n",
       "    <tr>\n",
       "      <th>2</th>\n",
       "      <td>26</td>\n",
       "      <td>F</td>\n",
       "      <td>PostGrad</td>\n",
       "      <td>65</td>\n",
       "      <td>600.0</td>\n",
       "      <td>GlenCove</td>\n",
       "      <td>0.1630</td>\n",
       "      <td>2073</td>\n",
       "      <td>7.000000</td>\n",
       "      <td>3.00</td>\n",
       "      <td>2</td>\n",
       "      <td>0</td>\n",
       "      <td>1</td>\n",
       "      <td>0</td>\n",
       "      <td>0</td>\n",
       "    </tr>\n",
       "    <tr>\n",
       "      <th>3</th>\n",
       "      <td>45</td>\n",
       "      <td>F</td>\n",
       "      <td>Grad</td>\n",
       "      <td>99</td>\n",
       "      <td>548.4</td>\n",
       "      <td>LongBeach</td>\n",
       "      <td>0.4608</td>\n",
       "      <td>2707</td>\n",
       "      <td>8.000000</td>\n",
       "      <td>2.50</td>\n",
       "      <td>1</td>\n",
       "      <td>0</td>\n",
       "      <td>0</td>\n",
       "      <td>1</td>\n",
       "      <td>0</td>\n",
       "    </tr>\n",
       "    <tr>\n",
       "      <th>4</th>\n",
       "      <td>42</td>\n",
       "      <td>M</td>\n",
       "      <td>Grad</td>\n",
       "      <td>77</td>\n",
       "      <td>405.9</td>\n",
       "      <td>LongBeach</td>\n",
       "      <td>0.2549</td>\n",
       "      <td>2042</td>\n",
       "      <td>7.166667</td>\n",
       "      <td>1.50</td>\n",
       "      <td>1</td>\n",
       "      <td>1</td>\n",
       "      <td>0</td>\n",
       "      <td>1</td>\n",
       "      <td>0</td>\n",
       "    </tr>\n",
       "    <tr>\n",
       "      <th>5</th>\n",
       "      <td>62</td>\n",
       "      <td>M</td>\n",
       "      <td>PostGrad</td>\n",
       "      <td>118</td>\n",
       "      <td>374.1</td>\n",
       "      <td>GlenCove</td>\n",
       "      <td>0.2290</td>\n",
       "      <td>2089</td>\n",
       "      <td>7.000000</td>\n",
       "      <td>2.00</td>\n",
       "      <td>0</td>\n",
       "      <td>1</td>\n",
       "      <td>1</td>\n",
       "      <td>0</td>\n",
       "      <td>0</td>\n",
       "    </tr>\n",
       "    <tr>\n",
       "      <th>6</th>\n",
       "      <td>51</td>\n",
       "      <td>M</td>\n",
       "      <td>Grad</td>\n",
       "      <td>101</td>\n",
       "      <td>600.0</td>\n",
       "      <td>GlenCove</td>\n",
       "      <td>0.1714</td>\n",
       "      <td>1344</td>\n",
       "      <td>8.000000</td>\n",
       "      <td>1.00</td>\n",
       "      <td>0</td>\n",
       "      <td>1</td>\n",
       "      <td>0</td>\n",
       "      <td>0</td>\n",
       "      <td>0</td>\n",
       "    </tr>\n",
       "    <tr>\n",
       "      <th>7</th>\n",
       "      <td>43</td>\n",
       "      <td>M</td>\n",
       "      <td>Grad</td>\n",
       "      <td>108</td>\n",
       "      <td>299.0</td>\n",
       "      <td>Roslyn</td>\n",
       "      <td>0.1750</td>\n",
       "      <td>1120</td>\n",
       "      <td>5.000000</td>\n",
       "      <td>1.50</td>\n",
       "      <td>0</td>\n",
       "      <td>1</td>\n",
       "      <td>0</td>\n",
       "      <td>0</td>\n",
       "      <td>1</td>\n",
       "    </tr>\n",
       "    <tr>\n",
       "      <th>8</th>\n",
       "      <td>24</td>\n",
       "      <td>F</td>\n",
       "      <td>PostGrad</td>\n",
       "      <td>51</td>\n",
       "      <td>471.0</td>\n",
       "      <td>Roslyn</td>\n",
       "      <td>0.2130</td>\n",
       "      <td>1817</td>\n",
       "      <td>6.000000</td>\n",
       "      <td>2.00</td>\n",
       "      <td>0</td>\n",
       "      <td>0</td>\n",
       "      <td>1</td>\n",
       "      <td>0</td>\n",
       "      <td>1</td>\n",
       "    </tr>\n",
       "    <tr>\n",
       "      <th>9</th>\n",
       "      <td>25</td>\n",
       "      <td>M</td>\n",
       "      <td>PostGrad</td>\n",
       "      <td>68</td>\n",
       "      <td>510.7</td>\n",
       "      <td>Roslyn</td>\n",
       "      <td>0.1377</td>\n",
       "      <td>2496</td>\n",
       "      <td>7.166667</td>\n",
       "      <td>2.00</td>\n",
       "      <td>1</td>\n",
       "      <td>1</td>\n",
       "      <td>1</td>\n",
       "      <td>0</td>\n",
       "      <td>1</td>\n",
       "    </tr>\n",
       "    <tr>\n",
       "      <th>10</th>\n",
       "      <td>41</td>\n",
       "      <td>M</td>\n",
       "      <td>Grad</td>\n",
       "      <td>86</td>\n",
       "      <td>517.7</td>\n",
       "      <td>LongBeach</td>\n",
       "      <td>0.2497</td>\n",
       "      <td>1615</td>\n",
       "      <td>7.000000</td>\n",
       "      <td>2.00</td>\n",
       "      <td>1</td>\n",
       "      <td>1</td>\n",
       "      <td>0</td>\n",
       "      <td>1</td>\n",
       "      <td>0</td>\n",
       "    </tr>\n",
       "    <tr>\n",
       "      <th>11</th>\n",
       "      <td>51</td>\n",
       "      <td>F</td>\n",
       "      <td>Grad</td>\n",
       "      <td>122</td>\n",
       "      <td>850.0</td>\n",
       "      <td>LongBeach</td>\n",
       "      <td>0.4116</td>\n",
       "      <td>4067</td>\n",
       "      <td>9.000000</td>\n",
       "      <td>3.65</td>\n",
       "      <td>1</td>\n",
       "      <td>0</td>\n",
       "      <td>0</td>\n",
       "      <td>1</td>\n",
       "      <td>0</td>\n",
       "    </tr>\n",
       "    <tr>\n",
       "      <th>12</th>\n",
       "      <td>49</td>\n",
       "      <td>F</td>\n",
       "      <td>PostGrad</td>\n",
       "      <td>112</td>\n",
       "      <td>700.0</td>\n",
       "      <td>Roslyn</td>\n",
       "      <td>0.3372</td>\n",
       "      <td>3130</td>\n",
       "      <td>8.000000</td>\n",
       "      <td>3.00</td>\n",
       "      <td>1</td>\n",
       "      <td>0</td>\n",
       "      <td>1</td>\n",
       "      <td>0</td>\n",
       "      <td>1</td>\n",
       "    </tr>\n",
       "    <tr>\n",
       "      <th>13</th>\n",
       "      <td>32</td>\n",
       "      <td>F</td>\n",
       "      <td>Grad</td>\n",
       "      <td>85</td>\n",
       "      <td>374.8</td>\n",
       "      <td>Roslyn</td>\n",
       "      <td>0.1503</td>\n",
       "      <td>1423</td>\n",
       "      <td>7.166667</td>\n",
       "      <td>2.00</td>\n",
       "      <td>0</td>\n",
       "      <td>0</td>\n",
       "      <td>0</td>\n",
       "      <td>0</td>\n",
       "      <td>1</td>\n",
       "    </tr>\n",
       "    <tr>\n",
       "      <th>14</th>\n",
       "      <td>37</td>\n",
       "      <td>M</td>\n",
       "      <td>Grad</td>\n",
       "      <td>90</td>\n",
       "      <td>543.0</td>\n",
       "      <td>LongBeach</td>\n",
       "      <td>0.2348</td>\n",
       "      <td>1799</td>\n",
       "      <td>6.000000</td>\n",
       "      <td>2.50</td>\n",
       "      <td>1</td>\n",
       "      <td>1</td>\n",
       "      <td>0</td>\n",
       "      <td>1</td>\n",
       "      <td>0</td>\n",
       "    </tr>\n",
       "  </tbody>\n",
       "</table>\n",
       "</div>"
      ],
      "text/plain": [
       "    Age Gender Education  Salary  AppraisedValue   Location  Landacres  \\\n",
       "0    25      M      Grad      50           700.0   GlenCove     0.2297   \n",
       "1    52      F  PostGrad      95           364.0   GlenCove     0.2192   \n",
       "2    26      F  PostGrad      65           600.0   GlenCove     0.1630   \n",
       "3    45      F      Grad      99           548.4  LongBeach     0.4608   \n",
       "4    42      M      Grad      77           405.9  LongBeach     0.2549   \n",
       "5    62      M  PostGrad     118           374.1   GlenCove     0.2290   \n",
       "6    51      M      Grad     101           600.0   GlenCove     0.1714   \n",
       "7    43      M      Grad     108           299.0     Roslyn     0.1750   \n",
       "8    24      F  PostGrad      51           471.0     Roslyn     0.2130   \n",
       "9    25      M  PostGrad      68           510.7     Roslyn     0.1377   \n",
       "10   41      M      Grad      86           517.7  LongBeach     0.2497   \n",
       "11   51      F      Grad     122           850.0  LongBeach     0.4116   \n",
       "12   49      F  PostGrad     112           700.0     Roslyn     0.3372   \n",
       "13   32      F      Grad      85           374.8     Roslyn     0.1503   \n",
       "14   37      M      Grad      90           543.0  LongBeach     0.2348   \n",
       "\n",
       "    HouseSizesqrft     Rooms  Baths  Garage  M  PostGrad  LongBeach  Roslyn  \n",
       "0             2448  8.000000   3.50       2  1         0          0       0  \n",
       "1             1942  7.000000   2.50       1  0         1          0       0  \n",
       "2             2073  7.000000   3.00       2  0         1          0       0  \n",
       "3             2707  8.000000   2.50       1  0         0          1       0  \n",
       "4             2042  7.166667   1.50       1  1         0          1       0  \n",
       "5             2089  7.000000   2.00       0  1         1          0       0  \n",
       "6             1344  8.000000   1.00       0  1         0          0       0  \n",
       "7             1120  5.000000   1.50       0  1         0          0       1  \n",
       "8             1817  6.000000   2.00       0  0         1          0       1  \n",
       "9             2496  7.166667   2.00       1  1         1          0       1  \n",
       "10            1615  7.000000   2.00       1  1         0          1       0  \n",
       "11            4067  9.000000   3.65       1  0         0          1       0  \n",
       "12            3130  8.000000   3.00       1  0         1          0       1  \n",
       "13            1423  7.166667   2.00       0  0         0          0       1  \n",
       "14            1799  6.000000   2.50       1  1         0          1       0  "
      ]
     },
     "execution_count": 69,
     "metadata": {},
     "output_type": "execute_result"
    }
   ],
   "source": [
    "eda1"
   ]
  },
  {
   "cell_type": "code",
   "execution_count": 70,
   "metadata": {},
   "outputs": [],
   "source": [
    "eda1.drop(['Gender', 'Education','Location'],axis=1,inplace=True)"
   ]
  },
  {
   "cell_type": "code",
   "execution_count": 73,
   "metadata": {},
   "outputs": [],
   "source": [
    "#shortcut method to get dummies\n",
    "eda2 = pd.get_dummies(eda,drop_first=True)"
   ]
  },
  {
   "cell_type": "code",
   "execution_count": 75,
   "metadata": {},
   "outputs": [
    {
     "data": {
      "text/html": [
       "<div>\n",
       "<style scoped>\n",
       "    .dataframe tbody tr th:only-of-type {\n",
       "        vertical-align: middle;\n",
       "    }\n",
       "\n",
       "    .dataframe tbody tr th {\n",
       "        vertical-align: top;\n",
       "    }\n",
       "\n",
       "    .dataframe thead th {\n",
       "        text-align: right;\n",
       "    }\n",
       "</style>\n",
       "<table border=\"1\" class=\"dataframe\">\n",
       "  <thead>\n",
       "    <tr style=\"text-align: right;\">\n",
       "      <th></th>\n",
       "      <th>Age</th>\n",
       "      <th>Salary</th>\n",
       "      <th>AppraisedValue</th>\n",
       "      <th>Landacres</th>\n",
       "      <th>HouseSizesqrft</th>\n",
       "      <th>Rooms</th>\n",
       "      <th>Baths</th>\n",
       "      <th>Garage</th>\n",
       "      <th>Gender_M</th>\n",
       "      <th>Education_PostGrad</th>\n",
       "      <th>Location_LongBeach</th>\n",
       "      <th>Location_Roslyn</th>\n",
       "    </tr>\n",
       "  </thead>\n",
       "  <tbody>\n",
       "    <tr>\n",
       "      <th>0</th>\n",
       "      <td>25</td>\n",
       "      <td>50</td>\n",
       "      <td>700.0</td>\n",
       "      <td>0.2297</td>\n",
       "      <td>2448</td>\n",
       "      <td>8.000000</td>\n",
       "      <td>3.50</td>\n",
       "      <td>2</td>\n",
       "      <td>1</td>\n",
       "      <td>0</td>\n",
       "      <td>0</td>\n",
       "      <td>0</td>\n",
       "    </tr>\n",
       "    <tr>\n",
       "      <th>1</th>\n",
       "      <td>52</td>\n",
       "      <td>95</td>\n",
       "      <td>364.0</td>\n",
       "      <td>0.2192</td>\n",
       "      <td>1942</td>\n",
       "      <td>7.000000</td>\n",
       "      <td>2.50</td>\n",
       "      <td>1</td>\n",
       "      <td>0</td>\n",
       "      <td>1</td>\n",
       "      <td>0</td>\n",
       "      <td>0</td>\n",
       "    </tr>\n",
       "    <tr>\n",
       "      <th>2</th>\n",
       "      <td>26</td>\n",
       "      <td>65</td>\n",
       "      <td>600.0</td>\n",
       "      <td>0.1630</td>\n",
       "      <td>2073</td>\n",
       "      <td>7.000000</td>\n",
       "      <td>3.00</td>\n",
       "      <td>2</td>\n",
       "      <td>0</td>\n",
       "      <td>1</td>\n",
       "      <td>0</td>\n",
       "      <td>0</td>\n",
       "    </tr>\n",
       "    <tr>\n",
       "      <th>3</th>\n",
       "      <td>45</td>\n",
       "      <td>99</td>\n",
       "      <td>548.4</td>\n",
       "      <td>0.4608</td>\n",
       "      <td>2707</td>\n",
       "      <td>8.000000</td>\n",
       "      <td>2.50</td>\n",
       "      <td>1</td>\n",
       "      <td>0</td>\n",
       "      <td>0</td>\n",
       "      <td>1</td>\n",
       "      <td>0</td>\n",
       "    </tr>\n",
       "    <tr>\n",
       "      <th>4</th>\n",
       "      <td>42</td>\n",
       "      <td>77</td>\n",
       "      <td>405.9</td>\n",
       "      <td>0.2549</td>\n",
       "      <td>2042</td>\n",
       "      <td>7.166667</td>\n",
       "      <td>1.50</td>\n",
       "      <td>1</td>\n",
       "      <td>1</td>\n",
       "      <td>0</td>\n",
       "      <td>1</td>\n",
       "      <td>0</td>\n",
       "    </tr>\n",
       "    <tr>\n",
       "      <th>5</th>\n",
       "      <td>62</td>\n",
       "      <td>118</td>\n",
       "      <td>374.1</td>\n",
       "      <td>0.2290</td>\n",
       "      <td>2089</td>\n",
       "      <td>7.000000</td>\n",
       "      <td>2.00</td>\n",
       "      <td>0</td>\n",
       "      <td>1</td>\n",
       "      <td>1</td>\n",
       "      <td>0</td>\n",
       "      <td>0</td>\n",
       "    </tr>\n",
       "    <tr>\n",
       "      <th>6</th>\n",
       "      <td>51</td>\n",
       "      <td>101</td>\n",
       "      <td>600.0</td>\n",
       "      <td>0.1714</td>\n",
       "      <td>1344</td>\n",
       "      <td>8.000000</td>\n",
       "      <td>1.00</td>\n",
       "      <td>0</td>\n",
       "      <td>1</td>\n",
       "      <td>0</td>\n",
       "      <td>0</td>\n",
       "      <td>0</td>\n",
       "    </tr>\n",
       "    <tr>\n",
       "      <th>7</th>\n",
       "      <td>43</td>\n",
       "      <td>108</td>\n",
       "      <td>299.0</td>\n",
       "      <td>0.1750</td>\n",
       "      <td>1120</td>\n",
       "      <td>5.000000</td>\n",
       "      <td>1.50</td>\n",
       "      <td>0</td>\n",
       "      <td>1</td>\n",
       "      <td>0</td>\n",
       "      <td>0</td>\n",
       "      <td>1</td>\n",
       "    </tr>\n",
       "    <tr>\n",
       "      <th>8</th>\n",
       "      <td>24</td>\n",
       "      <td>51</td>\n",
       "      <td>471.0</td>\n",
       "      <td>0.2130</td>\n",
       "      <td>1817</td>\n",
       "      <td>6.000000</td>\n",
       "      <td>2.00</td>\n",
       "      <td>0</td>\n",
       "      <td>0</td>\n",
       "      <td>1</td>\n",
       "      <td>0</td>\n",
       "      <td>1</td>\n",
       "    </tr>\n",
       "    <tr>\n",
       "      <th>9</th>\n",
       "      <td>25</td>\n",
       "      <td>68</td>\n",
       "      <td>510.7</td>\n",
       "      <td>0.1377</td>\n",
       "      <td>2496</td>\n",
       "      <td>7.166667</td>\n",
       "      <td>2.00</td>\n",
       "      <td>1</td>\n",
       "      <td>1</td>\n",
       "      <td>1</td>\n",
       "      <td>0</td>\n",
       "      <td>1</td>\n",
       "    </tr>\n",
       "    <tr>\n",
       "      <th>10</th>\n",
       "      <td>41</td>\n",
       "      <td>86</td>\n",
       "      <td>517.7</td>\n",
       "      <td>0.2497</td>\n",
       "      <td>1615</td>\n",
       "      <td>7.000000</td>\n",
       "      <td>2.00</td>\n",
       "      <td>1</td>\n",
       "      <td>1</td>\n",
       "      <td>0</td>\n",
       "      <td>1</td>\n",
       "      <td>0</td>\n",
       "    </tr>\n",
       "    <tr>\n",
       "      <th>11</th>\n",
       "      <td>51</td>\n",
       "      <td>122</td>\n",
       "      <td>850.0</td>\n",
       "      <td>0.4116</td>\n",
       "      <td>4067</td>\n",
       "      <td>9.000000</td>\n",
       "      <td>3.65</td>\n",
       "      <td>1</td>\n",
       "      <td>0</td>\n",
       "      <td>0</td>\n",
       "      <td>1</td>\n",
       "      <td>0</td>\n",
       "    </tr>\n",
       "    <tr>\n",
       "      <th>12</th>\n",
       "      <td>49</td>\n",
       "      <td>112</td>\n",
       "      <td>700.0</td>\n",
       "      <td>0.3372</td>\n",
       "      <td>3130</td>\n",
       "      <td>8.000000</td>\n",
       "      <td>3.00</td>\n",
       "      <td>1</td>\n",
       "      <td>0</td>\n",
       "      <td>1</td>\n",
       "      <td>0</td>\n",
       "      <td>1</td>\n",
       "    </tr>\n",
       "    <tr>\n",
       "      <th>13</th>\n",
       "      <td>32</td>\n",
       "      <td>85</td>\n",
       "      <td>374.8</td>\n",
       "      <td>0.1503</td>\n",
       "      <td>1423</td>\n",
       "      <td>7.166667</td>\n",
       "      <td>2.00</td>\n",
       "      <td>0</td>\n",
       "      <td>0</td>\n",
       "      <td>0</td>\n",
       "      <td>0</td>\n",
       "      <td>1</td>\n",
       "    </tr>\n",
       "    <tr>\n",
       "      <th>14</th>\n",
       "      <td>37</td>\n",
       "      <td>90</td>\n",
       "      <td>543.0</td>\n",
       "      <td>0.2348</td>\n",
       "      <td>1799</td>\n",
       "      <td>6.000000</td>\n",
       "      <td>2.50</td>\n",
       "      <td>1</td>\n",
       "      <td>1</td>\n",
       "      <td>0</td>\n",
       "      <td>1</td>\n",
       "      <td>0</td>\n",
       "    </tr>\n",
       "  </tbody>\n",
       "</table>\n",
       "</div>"
      ],
      "text/plain": [
       "    Age  Salary  AppraisedValue  Landacres  HouseSizesqrft     Rooms  Baths  \\\n",
       "0    25      50           700.0     0.2297            2448  8.000000   3.50   \n",
       "1    52      95           364.0     0.2192            1942  7.000000   2.50   \n",
       "2    26      65           600.0     0.1630            2073  7.000000   3.00   \n",
       "3    45      99           548.4     0.4608            2707  8.000000   2.50   \n",
       "4    42      77           405.9     0.2549            2042  7.166667   1.50   \n",
       "5    62     118           374.1     0.2290            2089  7.000000   2.00   \n",
       "6    51     101           600.0     0.1714            1344  8.000000   1.00   \n",
       "7    43     108           299.0     0.1750            1120  5.000000   1.50   \n",
       "8    24      51           471.0     0.2130            1817  6.000000   2.00   \n",
       "9    25      68           510.7     0.1377            2496  7.166667   2.00   \n",
       "10   41      86           517.7     0.2497            1615  7.000000   2.00   \n",
       "11   51     122           850.0     0.4116            4067  9.000000   3.65   \n",
       "12   49     112           700.0     0.3372            3130  8.000000   3.00   \n",
       "13   32      85           374.8     0.1503            1423  7.166667   2.00   \n",
       "14   37      90           543.0     0.2348            1799  6.000000   2.50   \n",
       "\n",
       "    Garage  Gender_M  Education_PostGrad  Location_LongBeach  Location_Roslyn  \n",
       "0        2         1                   0                   0                0  \n",
       "1        1         0                   1                   0                0  \n",
       "2        2         0                   1                   0                0  \n",
       "3        1         0                   0                   1                0  \n",
       "4        1         1                   0                   1                0  \n",
       "5        0         1                   1                   0                0  \n",
       "6        0         1                   0                   0                0  \n",
       "7        0         1                   0                   0                1  \n",
       "8        0         0                   1                   0                1  \n",
       "9        1         1                   1                   0                1  \n",
       "10       1         1                   0                   1                0  \n",
       "11       1         0                   0                   1                0  \n",
       "12       1         0                   1                   0                1  \n",
       "13       0         0                   0                   0                1  \n",
       "14       1         1                   0                   1                0  "
      ]
     },
     "execution_count": 75,
     "metadata": {},
     "output_type": "execute_result"
    }
   ],
   "source": [
    "eda2"
   ]
  },
  {
   "cell_type": "code",
   "execution_count": 72,
   "metadata": {},
   "outputs": [
    {
     "data": {
      "text/html": [
       "<div>\n",
       "<style scoped>\n",
       "    .dataframe tbody tr th:only-of-type {\n",
       "        vertical-align: middle;\n",
       "    }\n",
       "\n",
       "    .dataframe tbody tr th {\n",
       "        vertical-align: top;\n",
       "    }\n",
       "\n",
       "    .dataframe thead th {\n",
       "        text-align: right;\n",
       "    }\n",
       "</style>\n",
       "<table border=\"1\" class=\"dataframe\">\n",
       "  <thead>\n",
       "    <tr style=\"text-align: right;\">\n",
       "      <th></th>\n",
       "      <th>Age</th>\n",
       "      <th>Salary</th>\n",
       "      <th>AppraisedValue</th>\n",
       "      <th>Landacres</th>\n",
       "      <th>HouseSizesqrft</th>\n",
       "      <th>Rooms</th>\n",
       "      <th>Baths</th>\n",
       "      <th>Garage</th>\n",
       "      <th>M</th>\n",
       "      <th>PostGrad</th>\n",
       "      <th>LongBeach</th>\n",
       "      <th>Roslyn</th>\n",
       "    </tr>\n",
       "  </thead>\n",
       "  <tbody>\n",
       "    <tr>\n",
       "      <th>0</th>\n",
       "      <td>25</td>\n",
       "      <td>50</td>\n",
       "      <td>700.0</td>\n",
       "      <td>0.2297</td>\n",
       "      <td>2448</td>\n",
       "      <td>8.000000</td>\n",
       "      <td>3.50</td>\n",
       "      <td>2</td>\n",
       "      <td>1</td>\n",
       "      <td>0</td>\n",
       "      <td>0</td>\n",
       "      <td>0</td>\n",
       "    </tr>\n",
       "    <tr>\n",
       "      <th>1</th>\n",
       "      <td>52</td>\n",
       "      <td>95</td>\n",
       "      <td>364.0</td>\n",
       "      <td>0.2192</td>\n",
       "      <td>1942</td>\n",
       "      <td>7.000000</td>\n",
       "      <td>2.50</td>\n",
       "      <td>1</td>\n",
       "      <td>0</td>\n",
       "      <td>1</td>\n",
       "      <td>0</td>\n",
       "      <td>0</td>\n",
       "    </tr>\n",
       "    <tr>\n",
       "      <th>2</th>\n",
       "      <td>26</td>\n",
       "      <td>65</td>\n",
       "      <td>600.0</td>\n",
       "      <td>0.1630</td>\n",
       "      <td>2073</td>\n",
       "      <td>7.000000</td>\n",
       "      <td>3.00</td>\n",
       "      <td>2</td>\n",
       "      <td>0</td>\n",
       "      <td>1</td>\n",
       "      <td>0</td>\n",
       "      <td>0</td>\n",
       "    </tr>\n",
       "    <tr>\n",
       "      <th>3</th>\n",
       "      <td>45</td>\n",
       "      <td>99</td>\n",
       "      <td>548.4</td>\n",
       "      <td>0.4608</td>\n",
       "      <td>2707</td>\n",
       "      <td>8.000000</td>\n",
       "      <td>2.50</td>\n",
       "      <td>1</td>\n",
       "      <td>0</td>\n",
       "      <td>0</td>\n",
       "      <td>1</td>\n",
       "      <td>0</td>\n",
       "    </tr>\n",
       "    <tr>\n",
       "      <th>4</th>\n",
       "      <td>42</td>\n",
       "      <td>77</td>\n",
       "      <td>405.9</td>\n",
       "      <td>0.2549</td>\n",
       "      <td>2042</td>\n",
       "      <td>7.166667</td>\n",
       "      <td>1.50</td>\n",
       "      <td>1</td>\n",
       "      <td>1</td>\n",
       "      <td>0</td>\n",
       "      <td>1</td>\n",
       "      <td>0</td>\n",
       "    </tr>\n",
       "    <tr>\n",
       "      <th>5</th>\n",
       "      <td>62</td>\n",
       "      <td>118</td>\n",
       "      <td>374.1</td>\n",
       "      <td>0.2290</td>\n",
       "      <td>2089</td>\n",
       "      <td>7.000000</td>\n",
       "      <td>2.00</td>\n",
       "      <td>0</td>\n",
       "      <td>1</td>\n",
       "      <td>1</td>\n",
       "      <td>0</td>\n",
       "      <td>0</td>\n",
       "    </tr>\n",
       "    <tr>\n",
       "      <th>6</th>\n",
       "      <td>51</td>\n",
       "      <td>101</td>\n",
       "      <td>600.0</td>\n",
       "      <td>0.1714</td>\n",
       "      <td>1344</td>\n",
       "      <td>8.000000</td>\n",
       "      <td>1.00</td>\n",
       "      <td>0</td>\n",
       "      <td>1</td>\n",
       "      <td>0</td>\n",
       "      <td>0</td>\n",
       "      <td>0</td>\n",
       "    </tr>\n",
       "    <tr>\n",
       "      <th>7</th>\n",
       "      <td>43</td>\n",
       "      <td>108</td>\n",
       "      <td>299.0</td>\n",
       "      <td>0.1750</td>\n",
       "      <td>1120</td>\n",
       "      <td>5.000000</td>\n",
       "      <td>1.50</td>\n",
       "      <td>0</td>\n",
       "      <td>1</td>\n",
       "      <td>0</td>\n",
       "      <td>0</td>\n",
       "      <td>1</td>\n",
       "    </tr>\n",
       "    <tr>\n",
       "      <th>8</th>\n",
       "      <td>24</td>\n",
       "      <td>51</td>\n",
       "      <td>471.0</td>\n",
       "      <td>0.2130</td>\n",
       "      <td>1817</td>\n",
       "      <td>6.000000</td>\n",
       "      <td>2.00</td>\n",
       "      <td>0</td>\n",
       "      <td>0</td>\n",
       "      <td>1</td>\n",
       "      <td>0</td>\n",
       "      <td>1</td>\n",
       "    </tr>\n",
       "    <tr>\n",
       "      <th>9</th>\n",
       "      <td>25</td>\n",
       "      <td>68</td>\n",
       "      <td>510.7</td>\n",
       "      <td>0.1377</td>\n",
       "      <td>2496</td>\n",
       "      <td>7.166667</td>\n",
       "      <td>2.00</td>\n",
       "      <td>1</td>\n",
       "      <td>1</td>\n",
       "      <td>1</td>\n",
       "      <td>0</td>\n",
       "      <td>1</td>\n",
       "    </tr>\n",
       "    <tr>\n",
       "      <th>10</th>\n",
       "      <td>41</td>\n",
       "      <td>86</td>\n",
       "      <td>517.7</td>\n",
       "      <td>0.2497</td>\n",
       "      <td>1615</td>\n",
       "      <td>7.000000</td>\n",
       "      <td>2.00</td>\n",
       "      <td>1</td>\n",
       "      <td>1</td>\n",
       "      <td>0</td>\n",
       "      <td>1</td>\n",
       "      <td>0</td>\n",
       "    </tr>\n",
       "    <tr>\n",
       "      <th>11</th>\n",
       "      <td>51</td>\n",
       "      <td>122</td>\n",
       "      <td>850.0</td>\n",
       "      <td>0.4116</td>\n",
       "      <td>4067</td>\n",
       "      <td>9.000000</td>\n",
       "      <td>3.65</td>\n",
       "      <td>1</td>\n",
       "      <td>0</td>\n",
       "      <td>0</td>\n",
       "      <td>1</td>\n",
       "      <td>0</td>\n",
       "    </tr>\n",
       "    <tr>\n",
       "      <th>12</th>\n",
       "      <td>49</td>\n",
       "      <td>112</td>\n",
       "      <td>700.0</td>\n",
       "      <td>0.3372</td>\n",
       "      <td>3130</td>\n",
       "      <td>8.000000</td>\n",
       "      <td>3.00</td>\n",
       "      <td>1</td>\n",
       "      <td>0</td>\n",
       "      <td>1</td>\n",
       "      <td>0</td>\n",
       "      <td>1</td>\n",
       "    </tr>\n",
       "    <tr>\n",
       "      <th>13</th>\n",
       "      <td>32</td>\n",
       "      <td>85</td>\n",
       "      <td>374.8</td>\n",
       "      <td>0.1503</td>\n",
       "      <td>1423</td>\n",
       "      <td>7.166667</td>\n",
       "      <td>2.00</td>\n",
       "      <td>0</td>\n",
       "      <td>0</td>\n",
       "      <td>0</td>\n",
       "      <td>0</td>\n",
       "      <td>1</td>\n",
       "    </tr>\n",
       "    <tr>\n",
       "      <th>14</th>\n",
       "      <td>37</td>\n",
       "      <td>90</td>\n",
       "      <td>543.0</td>\n",
       "      <td>0.2348</td>\n",
       "      <td>1799</td>\n",
       "      <td>6.000000</td>\n",
       "      <td>2.50</td>\n",
       "      <td>1</td>\n",
       "      <td>1</td>\n",
       "      <td>0</td>\n",
       "      <td>1</td>\n",
       "      <td>0</td>\n",
       "    </tr>\n",
       "  </tbody>\n",
       "</table>\n",
       "</div>"
      ],
      "text/plain": [
       "    Age  Salary  AppraisedValue  Landacres  HouseSizesqrft     Rooms  Baths  \\\n",
       "0    25      50           700.0     0.2297            2448  8.000000   3.50   \n",
       "1    52      95           364.0     0.2192            1942  7.000000   2.50   \n",
       "2    26      65           600.0     0.1630            2073  7.000000   3.00   \n",
       "3    45      99           548.4     0.4608            2707  8.000000   2.50   \n",
       "4    42      77           405.9     0.2549            2042  7.166667   1.50   \n",
       "5    62     118           374.1     0.2290            2089  7.000000   2.00   \n",
       "6    51     101           600.0     0.1714            1344  8.000000   1.00   \n",
       "7    43     108           299.0     0.1750            1120  5.000000   1.50   \n",
       "8    24      51           471.0     0.2130            1817  6.000000   2.00   \n",
       "9    25      68           510.7     0.1377            2496  7.166667   2.00   \n",
       "10   41      86           517.7     0.2497            1615  7.000000   2.00   \n",
       "11   51     122           850.0     0.4116            4067  9.000000   3.65   \n",
       "12   49     112           700.0     0.3372            3130  8.000000   3.00   \n",
       "13   32      85           374.8     0.1503            1423  7.166667   2.00   \n",
       "14   37      90           543.0     0.2348            1799  6.000000   2.50   \n",
       "\n",
       "    Garage  M  PostGrad  LongBeach  Roslyn  \n",
       "0        2  1         0          0       0  \n",
       "1        1  0         1          0       0  \n",
       "2        2  0         1          0       0  \n",
       "3        1  0         0          1       0  \n",
       "4        1  1         0          1       0  \n",
       "5        0  1         1          0       0  \n",
       "6        0  1         0          0       0  \n",
       "7        0  1         0          0       1  \n",
       "8        0  0         1          0       1  \n",
       "9        1  1         1          0       1  \n",
       "10       1  1         0          1       0  \n",
       "11       1  0         0          1       0  \n",
       "12       1  0         1          0       1  \n",
       "13       0  0         0          0       1  \n",
       "14       1  1         0          1       0  "
      ]
     },
     "execution_count": 72,
     "metadata": {},
     "output_type": "execute_result"
    }
   ],
   "source": [
    "eda1\n",
    "#In eda1 we have dropped first column for each dummy variable as it can easily\n",
    "#be denoted by '0'.\n",
    "#Now all the varialbes have numeric values, there are no object varaibles"
   ]
  },
  {
   "cell_type": "code",
   "execution_count": 76,
   "metadata": {},
   "outputs": [],
   "source": [
    "#Now we have prepared the data as eda1(or eda2) and now we can do\n",
    "#predictive modelling"
   ]
  },
  {
   "cell_type": "code",
   "execution_count": null,
   "metadata": {},
   "outputs": [],
   "source": []
  }
 ],
 "metadata": {
  "kernelspec": {
   "display_name": "Python 3",
   "language": "python",
   "name": "python3"
  },
  "language_info": {
   "codemirror_mode": {
    "name": "ipython",
    "version": 3
   },
   "file_extension": ".py",
   "mimetype": "text/x-python",
   "name": "python",
   "nbconvert_exporter": "python",
   "pygments_lexer": "ipython3",
   "version": "3.8.3"
  }
 },
 "nbformat": 4,
 "nbformat_minor": 4
}
