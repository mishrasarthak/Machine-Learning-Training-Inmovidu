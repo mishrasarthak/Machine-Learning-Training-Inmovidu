{
 "cells": [
  {
   "cell_type": "code",
   "execution_count": 1,
   "metadata": {},
   "outputs": [],
   "source": [
    "import pandas as pd\n",
    "import numpy as np\n",
    "import seaborn as sns\n",
    "import matplotlib.pyplot as plt\n",
    "%matplotlib Inline"
   ]
  },
  {
   "cell_type": "code",
   "execution_count": 2,
   "metadata": {},
   "outputs": [],
   "source": [
    "data = pd.read_csv('https://s3.amazonaws.com/thinkific/file_uploads/287654/attachments/2e3/a35/b45/Social_Network_Ads.csv')"
   ]
  },
  {
   "cell_type": "code",
   "execution_count": 3,
   "metadata": {},
   "outputs": [
    {
     "data": {
      "text/html": [
       "<div>\n",
       "<style scoped>\n",
       "    .dataframe tbody tr th:only-of-type {\n",
       "        vertical-align: middle;\n",
       "    }\n",
       "\n",
       "    .dataframe tbody tr th {\n",
       "        vertical-align: top;\n",
       "    }\n",
       "\n",
       "    .dataframe thead th {\n",
       "        text-align: right;\n",
       "    }\n",
       "</style>\n",
       "<table border=\"1\" class=\"dataframe\">\n",
       "  <thead>\n",
       "    <tr style=\"text-align: right;\">\n",
       "      <th></th>\n",
       "      <th>User ID</th>\n",
       "      <th>Gender</th>\n",
       "      <th>Age</th>\n",
       "      <th>EstimatedSalary</th>\n",
       "      <th>Purchased</th>\n",
       "    </tr>\n",
       "  </thead>\n",
       "  <tbody>\n",
       "    <tr>\n",
       "      <th>0</th>\n",
       "      <td>15624510</td>\n",
       "      <td>Male</td>\n",
       "      <td>19</td>\n",
       "      <td>19000</td>\n",
       "      <td>0</td>\n",
       "    </tr>\n",
       "    <tr>\n",
       "      <th>1</th>\n",
       "      <td>15810944</td>\n",
       "      <td>Male</td>\n",
       "      <td>35</td>\n",
       "      <td>20000</td>\n",
       "      <td>0</td>\n",
       "    </tr>\n",
       "    <tr>\n",
       "      <th>2</th>\n",
       "      <td>15668575</td>\n",
       "      <td>Female</td>\n",
       "      <td>26</td>\n",
       "      <td>43000</td>\n",
       "      <td>0</td>\n",
       "    </tr>\n",
       "    <tr>\n",
       "      <th>3</th>\n",
       "      <td>15603246</td>\n",
       "      <td>Female</td>\n",
       "      <td>27</td>\n",
       "      <td>57000</td>\n",
       "      <td>0</td>\n",
       "    </tr>\n",
       "    <tr>\n",
       "      <th>4</th>\n",
       "      <td>15804002</td>\n",
       "      <td>Male</td>\n",
       "      <td>19</td>\n",
       "      <td>76000</td>\n",
       "      <td>0</td>\n",
       "    </tr>\n",
       "  </tbody>\n",
       "</table>\n",
       "</div>"
      ],
      "text/plain": [
       "    User ID  Gender  Age  EstimatedSalary  Purchased\n",
       "0  15624510    Male   19            19000          0\n",
       "1  15810944    Male   35            20000          0\n",
       "2  15668575  Female   26            43000          0\n",
       "3  15603246  Female   27            57000          0\n",
       "4  15804002    Male   19            76000          0"
      ]
     },
     "execution_count": 3,
     "metadata": {},
     "output_type": "execute_result"
    }
   ],
   "source": [
    "data.head()"
   ]
  },
  {
   "cell_type": "code",
   "execution_count": 4,
   "metadata": {},
   "outputs": [
    {
     "data": {
      "text/html": [
       "<div>\n",
       "<style scoped>\n",
       "    .dataframe tbody tr th:only-of-type {\n",
       "        vertical-align: middle;\n",
       "    }\n",
       "\n",
       "    .dataframe tbody tr th {\n",
       "        vertical-align: top;\n",
       "    }\n",
       "\n",
       "    .dataframe thead th {\n",
       "        text-align: right;\n",
       "    }\n",
       "</style>\n",
       "<table border=\"1\" class=\"dataframe\">\n",
       "  <thead>\n",
       "    <tr style=\"text-align: right;\">\n",
       "      <th></th>\n",
       "      <th>User ID</th>\n",
       "      <th>Age</th>\n",
       "      <th>EstimatedSalary</th>\n",
       "      <th>Purchased</th>\n",
       "    </tr>\n",
       "  </thead>\n",
       "  <tbody>\n",
       "    <tr>\n",
       "      <th>count</th>\n",
       "      <td>4.000000e+02</td>\n",
       "      <td>400.000000</td>\n",
       "      <td>400.000000</td>\n",
       "      <td>400.000000</td>\n",
       "    </tr>\n",
       "    <tr>\n",
       "      <th>mean</th>\n",
       "      <td>1.569154e+07</td>\n",
       "      <td>37.655000</td>\n",
       "      <td>69742.500000</td>\n",
       "      <td>0.357500</td>\n",
       "    </tr>\n",
       "    <tr>\n",
       "      <th>std</th>\n",
       "      <td>7.165832e+04</td>\n",
       "      <td>10.482877</td>\n",
       "      <td>34096.960282</td>\n",
       "      <td>0.479864</td>\n",
       "    </tr>\n",
       "    <tr>\n",
       "      <th>min</th>\n",
       "      <td>1.556669e+07</td>\n",
       "      <td>18.000000</td>\n",
       "      <td>15000.000000</td>\n",
       "      <td>0.000000</td>\n",
       "    </tr>\n",
       "    <tr>\n",
       "      <th>25%</th>\n",
       "      <td>1.562676e+07</td>\n",
       "      <td>29.750000</td>\n",
       "      <td>43000.000000</td>\n",
       "      <td>0.000000</td>\n",
       "    </tr>\n",
       "    <tr>\n",
       "      <th>50%</th>\n",
       "      <td>1.569434e+07</td>\n",
       "      <td>37.000000</td>\n",
       "      <td>70000.000000</td>\n",
       "      <td>0.000000</td>\n",
       "    </tr>\n",
       "    <tr>\n",
       "      <th>75%</th>\n",
       "      <td>1.575036e+07</td>\n",
       "      <td>46.000000</td>\n",
       "      <td>88000.000000</td>\n",
       "      <td>1.000000</td>\n",
       "    </tr>\n",
       "    <tr>\n",
       "      <th>max</th>\n",
       "      <td>1.581524e+07</td>\n",
       "      <td>60.000000</td>\n",
       "      <td>150000.000000</td>\n",
       "      <td>1.000000</td>\n",
       "    </tr>\n",
       "  </tbody>\n",
       "</table>\n",
       "</div>"
      ],
      "text/plain": [
       "            User ID         Age  EstimatedSalary   Purchased\n",
       "count  4.000000e+02  400.000000       400.000000  400.000000\n",
       "mean   1.569154e+07   37.655000     69742.500000    0.357500\n",
       "std    7.165832e+04   10.482877     34096.960282    0.479864\n",
       "min    1.556669e+07   18.000000     15000.000000    0.000000\n",
       "25%    1.562676e+07   29.750000     43000.000000    0.000000\n",
       "50%    1.569434e+07   37.000000     70000.000000    0.000000\n",
       "75%    1.575036e+07   46.000000     88000.000000    1.000000\n",
       "max    1.581524e+07   60.000000    150000.000000    1.000000"
      ]
     },
     "execution_count": 4,
     "metadata": {},
     "output_type": "execute_result"
    }
   ],
   "source": [
    "data.describe()"
   ]
  },
  {
   "cell_type": "code",
   "execution_count": 5,
   "metadata": {},
   "outputs": [
    {
     "name": "stdout",
     "output_type": "stream",
     "text": [
      "<class 'pandas.core.frame.DataFrame'>\n",
      "RangeIndex: 400 entries, 0 to 399\n",
      "Data columns (total 5 columns):\n",
      " #   Column           Non-Null Count  Dtype \n",
      "---  ------           --------------  ----- \n",
      " 0   User ID          400 non-null    int64 \n",
      " 1   Gender           400 non-null    object\n",
      " 2   Age              400 non-null    int64 \n",
      " 3   EstimatedSalary  400 non-null    int64 \n",
      " 4   Purchased        400 non-null    int64 \n",
      "dtypes: int64(4), object(1)\n",
      "memory usage: 15.8+ KB\n"
     ]
    }
   ],
   "source": [
    "data.info()"
   ]
  },
  {
   "cell_type": "code",
   "execution_count": 6,
   "metadata": {},
   "outputs": [],
   "source": [
    "data.drop(['User ID'] , axis = 1, inplace=True)"
   ]
  },
  {
   "cell_type": "code",
   "execution_count": 7,
   "metadata": {},
   "outputs": [
    {
     "data": {
      "text/html": [
       "<div>\n",
       "<style scoped>\n",
       "    .dataframe tbody tr th:only-of-type {\n",
       "        vertical-align: middle;\n",
       "    }\n",
       "\n",
       "    .dataframe tbody tr th {\n",
       "        vertical-align: top;\n",
       "    }\n",
       "\n",
       "    .dataframe thead th {\n",
       "        text-align: right;\n",
       "    }\n",
       "</style>\n",
       "<table border=\"1\" class=\"dataframe\">\n",
       "  <thead>\n",
       "    <tr style=\"text-align: right;\">\n",
       "      <th></th>\n",
       "      <th>Gender</th>\n",
       "      <th>Age</th>\n",
       "      <th>EstimatedSalary</th>\n",
       "      <th>Purchased</th>\n",
       "    </tr>\n",
       "  </thead>\n",
       "  <tbody>\n",
       "    <tr>\n",
       "      <th>0</th>\n",
       "      <td>Male</td>\n",
       "      <td>19</td>\n",
       "      <td>19000</td>\n",
       "      <td>0</td>\n",
       "    </tr>\n",
       "    <tr>\n",
       "      <th>1</th>\n",
       "      <td>Male</td>\n",
       "      <td>35</td>\n",
       "      <td>20000</td>\n",
       "      <td>0</td>\n",
       "    </tr>\n",
       "    <tr>\n",
       "      <th>2</th>\n",
       "      <td>Female</td>\n",
       "      <td>26</td>\n",
       "      <td>43000</td>\n",
       "      <td>0</td>\n",
       "    </tr>\n",
       "    <tr>\n",
       "      <th>3</th>\n",
       "      <td>Female</td>\n",
       "      <td>27</td>\n",
       "      <td>57000</td>\n",
       "      <td>0</td>\n",
       "    </tr>\n",
       "    <tr>\n",
       "      <th>4</th>\n",
       "      <td>Male</td>\n",
       "      <td>19</td>\n",
       "      <td>76000</td>\n",
       "      <td>0</td>\n",
       "    </tr>\n",
       "    <tr>\n",
       "      <th>5</th>\n",
       "      <td>Male</td>\n",
       "      <td>27</td>\n",
       "      <td>58000</td>\n",
       "      <td>0</td>\n",
       "    </tr>\n",
       "    <tr>\n",
       "      <th>6</th>\n",
       "      <td>Female</td>\n",
       "      <td>27</td>\n",
       "      <td>84000</td>\n",
       "      <td>0</td>\n",
       "    </tr>\n",
       "    <tr>\n",
       "      <th>7</th>\n",
       "      <td>Female</td>\n",
       "      <td>32</td>\n",
       "      <td>150000</td>\n",
       "      <td>1</td>\n",
       "    </tr>\n",
       "    <tr>\n",
       "      <th>8</th>\n",
       "      <td>Male</td>\n",
       "      <td>25</td>\n",
       "      <td>33000</td>\n",
       "      <td>0</td>\n",
       "    </tr>\n",
       "    <tr>\n",
       "      <th>9</th>\n",
       "      <td>Female</td>\n",
       "      <td>35</td>\n",
       "      <td>65000</td>\n",
       "      <td>0</td>\n",
       "    </tr>\n",
       "  </tbody>\n",
       "</table>\n",
       "</div>"
      ],
      "text/plain": [
       "   Gender  Age  EstimatedSalary  Purchased\n",
       "0    Male   19            19000          0\n",
       "1    Male   35            20000          0\n",
       "2  Female   26            43000          0\n",
       "3  Female   27            57000          0\n",
       "4    Male   19            76000          0\n",
       "5    Male   27            58000          0\n",
       "6  Female   27            84000          0\n",
       "7  Female   32           150000          1\n",
       "8    Male   25            33000          0\n",
       "9  Female   35            65000          0"
      ]
     },
     "execution_count": 7,
     "metadata": {},
     "output_type": "execute_result"
    }
   ],
   "source": [
    "data.head(10)"
   ]
  },
  {
   "cell_type": "code",
   "execution_count": 8,
   "metadata": {},
   "outputs": [],
   "source": [
    "data = pd.get_dummies(data,drop_first=True)"
   ]
  },
  {
   "cell_type": "code",
   "execution_count": 9,
   "metadata": {},
   "outputs": [
    {
     "data": {
      "text/html": [
       "<div>\n",
       "<style scoped>\n",
       "    .dataframe tbody tr th:only-of-type {\n",
       "        vertical-align: middle;\n",
       "    }\n",
       "\n",
       "    .dataframe tbody tr th {\n",
       "        vertical-align: top;\n",
       "    }\n",
       "\n",
       "    .dataframe thead th {\n",
       "        text-align: right;\n",
       "    }\n",
       "</style>\n",
       "<table border=\"1\" class=\"dataframe\">\n",
       "  <thead>\n",
       "    <tr style=\"text-align: right;\">\n",
       "      <th></th>\n",
       "      <th>Age</th>\n",
       "      <th>EstimatedSalary</th>\n",
       "      <th>Gender_Male</th>\n",
       "      <th>Purchased</th>\n",
       "    </tr>\n",
       "  </thead>\n",
       "  <tbody>\n",
       "    <tr>\n",
       "      <th>0</th>\n",
       "      <td>19</td>\n",
       "      <td>19000</td>\n",
       "      <td>1</td>\n",
       "      <td>0</td>\n",
       "    </tr>\n",
       "    <tr>\n",
       "      <th>1</th>\n",
       "      <td>35</td>\n",
       "      <td>20000</td>\n",
       "      <td>1</td>\n",
       "      <td>0</td>\n",
       "    </tr>\n",
       "    <tr>\n",
       "      <th>2</th>\n",
       "      <td>26</td>\n",
       "      <td>43000</td>\n",
       "      <td>0</td>\n",
       "      <td>0</td>\n",
       "    </tr>\n",
       "    <tr>\n",
       "      <th>3</th>\n",
       "      <td>27</td>\n",
       "      <td>57000</td>\n",
       "      <td>0</td>\n",
       "      <td>0</td>\n",
       "    </tr>\n",
       "    <tr>\n",
       "      <th>4</th>\n",
       "      <td>19</td>\n",
       "      <td>76000</td>\n",
       "      <td>1</td>\n",
       "      <td>0</td>\n",
       "    </tr>\n",
       "  </tbody>\n",
       "</table>\n",
       "</div>"
      ],
      "text/plain": [
       "   Age  EstimatedSalary  Gender_Male  Purchased\n",
       "0   19            19000            1          0\n",
       "1   35            20000            1          0\n",
       "2   26            43000            0          0\n",
       "3   27            57000            0          0\n",
       "4   19            76000            1          0"
      ]
     },
     "execution_count": 9,
     "metadata": {},
     "output_type": "execute_result"
    }
   ],
   "source": [
    "#Just rearranged the colummns\n",
    "cols = ['Age','EstimatedSalary','Gender_Male','Purchased']\n",
    "data= data[cols]\n",
    "data.head()"
   ]
  },
  {
   "cell_type": "markdown",
   "metadata": {},
   "source": [
    "# Creating model using Estimated Salary and Purchased\n",
    "\n",
    "Predicting whether a particular person would click on a social media Ad or not based on his Age,Salary,Gender\n",
    "\n"
   ]
  },
  {
   "cell_type": "markdown",
   "metadata": {},
   "source": [
    "## Defining X and Y"
   ]
  },
  {
   "cell_type": "code",
   "execution_count": 10,
   "metadata": {},
   "outputs": [
    {
     "data": {
      "text/plain": [
       "(400, 3)"
      ]
     },
     "execution_count": 10,
     "metadata": {},
     "output_type": "execute_result"
    }
   ],
   "source": [
    "X = data.iloc[:,:-1].values\n",
    "X.shape"
   ]
  },
  {
   "cell_type": "code",
   "execution_count": 11,
   "metadata": {},
   "outputs": [
    {
     "data": {
      "text/plain": [
       "(400,)"
      ]
     },
     "execution_count": 11,
     "metadata": {},
     "output_type": "execute_result"
    }
   ],
   "source": [
    "Y = data.iloc[:,-1].values\n",
    "Y.shape"
   ]
  },
  {
   "cell_type": "code",
   "execution_count": 12,
   "metadata": {},
   "outputs": [
    {
     "data": {
      "text/html": [
       "<div>\n",
       "<style scoped>\n",
       "    .dataframe tbody tr th:only-of-type {\n",
       "        vertical-align: middle;\n",
       "    }\n",
       "\n",
       "    .dataframe tbody tr th {\n",
       "        vertical-align: top;\n",
       "    }\n",
       "\n",
       "    .dataframe thead th {\n",
       "        text-align: right;\n",
       "    }\n",
       "</style>\n",
       "<table border=\"1\" class=\"dataframe\">\n",
       "  <thead>\n",
       "    <tr style=\"text-align: right;\">\n",
       "      <th></th>\n",
       "      <th>Age</th>\n",
       "      <th>EstimatedSalary</th>\n",
       "      <th>Gender_Male</th>\n",
       "      <th>Purchased</th>\n",
       "    </tr>\n",
       "  </thead>\n",
       "  <tbody>\n",
       "    <tr>\n",
       "      <th>0</th>\n",
       "      <td>19</td>\n",
       "      <td>19000</td>\n",
       "      <td>1</td>\n",
       "      <td>0</td>\n",
       "    </tr>\n",
       "    <tr>\n",
       "      <th>1</th>\n",
       "      <td>35</td>\n",
       "      <td>20000</td>\n",
       "      <td>1</td>\n",
       "      <td>0</td>\n",
       "    </tr>\n",
       "    <tr>\n",
       "      <th>2</th>\n",
       "      <td>26</td>\n",
       "      <td>43000</td>\n",
       "      <td>0</td>\n",
       "      <td>0</td>\n",
       "    </tr>\n",
       "    <tr>\n",
       "      <th>3</th>\n",
       "      <td>27</td>\n",
       "      <td>57000</td>\n",
       "      <td>0</td>\n",
       "      <td>0</td>\n",
       "    </tr>\n",
       "    <tr>\n",
       "      <th>4</th>\n",
       "      <td>19</td>\n",
       "      <td>76000</td>\n",
       "      <td>1</td>\n",
       "      <td>0</td>\n",
       "    </tr>\n",
       "  </tbody>\n",
       "</table>\n",
       "</div>"
      ],
      "text/plain": [
       "   Age  EstimatedSalary  Gender_Male  Purchased\n",
       "0   19            19000            1          0\n",
       "1   35            20000            1          0\n",
       "2   26            43000            0          0\n",
       "3   27            57000            0          0\n",
       "4   19            76000            1          0"
      ]
     },
     "execution_count": 12,
     "metadata": {},
     "output_type": "execute_result"
    }
   ],
   "source": [
    "data.head(5)"
   ]
  },
  {
   "cell_type": "markdown",
   "metadata": {},
   "source": [
    "As we can see that Age and EstimatedSalary have diffrent scales i.e Age is in 10's and EstimatedSalary is in 1000's So we will scale this data for further engineering.So that they can be in same scale."
   ]
  },
  {
   "cell_type": "markdown",
   "metadata": {},
   "source": [
    "## Creating the model without Scaling\n"
   ]
  },
  {
   "cell_type": "code",
   "execution_count": 13,
   "metadata": {},
   "outputs": [],
   "source": [
    "#Splitting the data in train and test\n",
    "from sklearn.model_selection import train_test_split\n",
    "X_train,X_test,Y_train,Y_test = train_test_split(X,Y,test_size=0.2,random_state=0)"
   ]
  },
  {
   "cell_type": "code",
   "execution_count": 14,
   "metadata": {},
   "outputs": [
    {
     "data": {
      "text/plain": [
       "LogisticRegression()"
      ]
     },
     "execution_count": 14,
     "metadata": {},
     "output_type": "execute_result"
    }
   ],
   "source": [
    "from sklearn.linear_model import LogisticRegression\n",
    "model = LogisticRegression()\n",
    "model.fit(X_train,Y_train)"
   ]
  },
  {
   "cell_type": "code",
   "execution_count": 15,
   "metadata": {},
   "outputs": [],
   "source": [
    "Y_pred= model.predict(X_test)"
   ]
  },
  {
   "cell_type": "code",
   "execution_count": 16,
   "metadata": {},
   "outputs": [
    {
     "data": {
      "text/plain": [
       "array([0, 0, 0, 0, 0, 0, 0, 0, 0, 0, 0, 0, 0, 0, 0, 0, 0, 0, 0, 0, 0, 0,\n",
       "       0, 0, 0, 0, 0, 0, 0, 0, 0, 0, 0, 0, 0, 0, 0, 0, 0, 0, 0, 0, 0, 0,\n",
       "       0, 0, 0, 0, 0, 0, 0, 0, 0, 0, 0, 0, 0, 0, 0, 0, 0, 0, 0, 0, 0, 0,\n",
       "       0, 0, 0, 0, 0, 0, 0, 0, 0, 0, 0, 0, 0, 0], dtype=int64)"
      ]
     },
     "execution_count": 16,
     "metadata": {},
     "output_type": "execute_result"
    }
   ],
   "source": [
    "Y_pred"
   ]
  },
  {
   "cell_type": "code",
   "execution_count": 17,
   "metadata": {},
   "outputs": [
    {
     "name": "stdout",
     "output_type": "stream",
     "text": [
      "[[58  0]\n",
      " [22  0]]\n"
     ]
    }
   ],
   "source": [
    "#PERFORMANCE METRICS\n",
    "from sklearn.metrics import confusion_matrix\n",
    "confusion = confusion_matrix(Y_test,Y_pred)\n",
    "print(confusion)"
   ]
  },
  {
   "cell_type": "code",
   "execution_count": 18,
   "metadata": {},
   "outputs": [],
   "source": [
    "TN = confusion[0,0]\n",
    "FP = confusion[0,1]\n",
    "FN = confusion[1,0]\n",
    "TP = confusion[1,1]"
   ]
  },
  {
   "cell_type": "code",
   "execution_count": 19,
   "metadata": {},
   "outputs": [
    {
     "name": "stdout",
     "output_type": "stream",
     "text": [
      "[[58  0]\n",
      " [22  0]]\n",
      "TN:  58\n",
      "FP:  0\n",
      "FN:  22\n",
      "TP:  0\n"
     ]
    }
   ],
   "source": [
    "print(confusion)\n",
    "print(\"TN: \",TN)\n",
    "print(\"FP: \",FP)\n",
    "print(\"FN: \",FN)\n",
    "print(\"TP: \",TP)"
   ]
  },
  {
   "cell_type": "code",
   "execution_count": 20,
   "metadata": {},
   "outputs": [
    {
     "name": "stdout",
     "output_type": "stream",
     "text": [
      "Accuracy from metrics:  0.725\n",
      "Accuracy calculated:  0.725\n"
     ]
    }
   ],
   "source": [
    "from sklearn import metrics\n",
    "accuracy = metrics.accuracy_score(Y_test,Y_pred)\n",
    "accuracy1 = (TN+TP)/(TN+TP+FN+FP)\n",
    "print(\"Accuracy from metrics: \",accuracy)\n",
    "print(\"Accuracy calculated: \",accuracy1)"
   ]
  },
  {
   "cell_type": "markdown",
   "metadata": {},
   "source": [
    "### Hence Above Accuracy i.e. 72.5 % is calculated without scaling"
   ]
  },
  {
   "cell_type": "code",
   "execution_count": 21,
   "metadata": {},
   "outputs": [
    {
     "name": "stdout",
     "output_type": "stream",
     "text": [
      "RECALL:  0.0\n",
      "Calcualted Recall : 0.0\n"
     ]
    }
   ],
   "source": [
    "print(\"RECALL: \",metrics.recall_score(Y_test,Y_pred))\n",
    "print(\"Calcualted Recall :\",(TP)/(TP+FN))"
   ]
  },
  {
   "cell_type": "code",
   "execution_count": 22,
   "metadata": {},
   "outputs": [
    {
     "name": "stdout",
     "output_type": "stream",
     "text": [
      "Specificity/True Negative Rate:  1.0\n"
     ]
    }
   ],
   "source": [
    "#Speificity measures the peoportion of actual negatives that are correctly identified as such: TN/N\n",
    "print(\"Specificity/True Negative Rate: \",(TN)/(TN+FP))"
   ]
  },
  {
   "cell_type": "code",
   "execution_count": 23,
   "metadata": {},
   "outputs": [
    {
     "name": "stdout",
     "output_type": "stream",
     "text": [
      "PRECISION:  0.0 2\n",
      "PRECISION CALCUALTED:  nan\n"
     ]
    },
    {
     "name": "stderr",
     "output_type": "stream",
     "text": [
      "C:\\Users\\sarth\\anaconda3\\lib\\site-packages\\sklearn\\metrics\\_classification.py:1221: UndefinedMetricWarning: Precision is ill-defined and being set to 0.0 due to no predicted samples. Use `zero_division` parameter to control this behavior.\n",
      "  _warn_prf(average, modifier, msg_start, len(result))\n",
      "<ipython-input-23-bd7faf1963e1>:2: RuntimeWarning: invalid value encountered in true_divide\n",
      "  print(\"PRECISION CALCUALTED: \",round(TP/float(TP+FP),2))\n"
     ]
    }
   ],
   "source": [
    "print(\"PRECISION: \",metrics.precision_score(Y_test,Y_pred),2)\n",
    "print(\"PRECISION CALCUALTED: \",round(TP/float(TP+FP),2))"
   ]
  },
  {
   "cell_type": "code",
   "execution_count": 24,
   "metadata": {},
   "outputs": [
    {
     "name": "stdout",
     "output_type": "stream",
     "text": [
      "Accuracy is: 72.0\n",
      "F1 Score is: 0.0\n",
      "Precision is: 0.0\n",
      "Recall is: 0.0\n",
      "Roc_Auc is: 50.0\n"
     ]
    }
   ],
   "source": [
    "from sklearn.metrics import accuracy_score,f1_score,precision_score,recall_score,roc_auc_score\n",
    "accuracy = accuracy_score(Y_test , Y_pred)\n",
    "recall = recall_score(Y_test , Y_pred)\n",
    "precision = precision_score(Y_test , Y_pred)\n",
    "f1 = f1_score(Y_test , Y_pred)\n",
    "roc_auc = roc_auc_score(Y_test , Y_pred)\n",
    "\n",
    "print(\"Accuracy is:\",round(accuracy,2)*100)\n",
    "print(\"F1 Score is:\",round(f1,2)*100)\n",
    "print(\"Precision is:\",round(precision,2)*100)\n",
    "print(\"Recall is:\",round(recall,2)*100)\n",
    "print(\"Roc_Auc is:\",round(roc_auc,2)*100)"
   ]
  },
  {
   "cell_type": "code",
   "execution_count": 25,
   "metadata": {},
   "outputs": [
    {
     "name": "stdout",
     "output_type": "stream",
     "text": [
      "              precision    recall  f1-score   support\n",
      "\n",
      "           0       0.72      1.00      0.84        58\n",
      "           1       0.00      0.00      0.00        22\n",
      "\n",
      "    accuracy                           0.73        80\n",
      "   macro avg       0.36      0.50      0.42        80\n",
      "weighted avg       0.53      0.72      0.61        80\n",
      "\n"
     ]
    },
    {
     "name": "stderr",
     "output_type": "stream",
     "text": [
      "C:\\Users\\sarth\\anaconda3\\lib\\site-packages\\sklearn\\metrics\\_classification.py:1221: UndefinedMetricWarning: Precision and F-score are ill-defined and being set to 0.0 in labels with no predicted samples. Use `zero_division` parameter to control this behavior.\n",
      "  _warn_prf(average, modifier, msg_start, len(result))\n"
     ]
    }
   ],
   "source": [
    "#CLASSIFICATION REPORT\n",
    "\n",
    "from sklearn.metrics import classification_report\n",
    "print(classification_report(Y_test,Y_pred))"
   ]
  },
  {
   "cell_type": "code",
   "execution_count": 26,
   "metadata": {},
   "outputs": [
    {
     "data": {
      "text/html": [
       "<div>\n",
       "<style scoped>\n",
       "    .dataframe tbody tr th:only-of-type {\n",
       "        vertical-align: middle;\n",
       "    }\n",
       "\n",
       "    .dataframe tbody tr th {\n",
       "        vertical-align: top;\n",
       "    }\n",
       "\n",
       "    .dataframe thead th {\n",
       "        text-align: right;\n",
       "    }\n",
       "</style>\n",
       "<table border=\"1\" class=\"dataframe\">\n",
       "  <thead>\n",
       "    <tr style=\"text-align: right;\">\n",
       "      <th></th>\n",
       "      <th>Without Scaling</th>\n",
       "    </tr>\n",
       "  </thead>\n",
       "  <tbody>\n",
       "    <tr>\n",
       "      <th>Accuracy</th>\n",
       "      <td>0.725</td>\n",
       "    </tr>\n",
       "    <tr>\n",
       "      <th>F1</th>\n",
       "      <td>0.000</td>\n",
       "    </tr>\n",
       "    <tr>\n",
       "      <th>Precision</th>\n",
       "      <td>0.000</td>\n",
       "    </tr>\n",
       "    <tr>\n",
       "      <th>Recall</th>\n",
       "      <td>0.000</td>\n",
       "    </tr>\n",
       "    <tr>\n",
       "      <th>AUC</th>\n",
       "      <td>0.500</td>\n",
       "    </tr>\n",
       "  </tbody>\n",
       "</table>\n",
       "</div>"
      ],
      "text/plain": [
       "           Without Scaling\n",
       "Accuracy             0.725\n",
       "F1                   0.000\n",
       "Precision            0.000\n",
       "Recall               0.000\n",
       "AUC                  0.500"
      ]
     },
     "execution_count": 26,
     "metadata": {},
     "output_type": "execute_result"
    }
   ],
   "source": [
    "summary = pd.DataFrame([accuracy,f1,precision,recall,roc_auc],index=['Accuracy','F1','Precision','Recall','AUC'],columns=['Without Scaling'])\n",
    "summary"
   ]
  },
  {
   "cell_type": "markdown",
   "metadata": {},
   "source": [
    "# Model After Scaling"
   ]
  },
  {
   "cell_type": "code",
   "execution_count": 27,
   "metadata": {},
   "outputs": [
    {
     "data": {
      "text/plain": [
       "(400, 3)"
      ]
     },
     "execution_count": 27,
     "metadata": {},
     "output_type": "execute_result"
    }
   ],
   "source": [
    "X = data.iloc[:,:-1].values\n",
    "X.shape"
   ]
  },
  {
   "cell_type": "code",
   "execution_count": 28,
   "metadata": {},
   "outputs": [
    {
     "data": {
      "text/plain": [
       "(400,)"
      ]
     },
     "execution_count": 28,
     "metadata": {},
     "output_type": "execute_result"
    }
   ],
   "source": [
    "Y = data.iloc[:,-1].values\n",
    "Y.shape"
   ]
  },
  {
   "cell_type": "code",
   "execution_count": 29,
   "metadata": {},
   "outputs": [],
   "source": [
    "#Splitting the data in train and test\n",
    "from sklearn.model_selection import train_test_split\n",
    "X_train,X_test,Y_train,Y_test = train_test_split(X,Y,test_size=0.2,random_state=0)"
   ]
  },
  {
   "cell_type": "code",
   "execution_count": 30,
   "metadata": {},
   "outputs": [],
   "source": [
    "#This is how we scale\n",
    "\n",
    "from sklearn.preprocessing import StandardScaler\n",
    "sc_X = StandardScaler()\n",
    "X_train =sc_X.fit_transform(X_train)\n",
    "X_test = sc_X.transform(X_test)"
   ]
  },
  {
   "cell_type": "code",
   "execution_count": 31,
   "metadata": {},
   "outputs": [
    {
     "data": {
      "text/plain": [
       "array([[ 1.92295008e+00,  2.14601566e+00,  1.02532046e+00],\n",
       "       [ 2.02016082e+00,  3.78719297e-01, -9.75304830e-01],\n",
       "       [-1.38221530e+00, -4.32498705e-01, -9.75304830e-01],\n",
       "       [-1.18779381e+00, -1.01194013e+00, -9.75304830e-01],\n",
       "       [ 1.92295008e+00, -9.25023920e-01, -9.75304830e-01],\n",
       "       [ 3.67578135e-01,  2.91803083e-01, -9.75304830e-01],\n",
       "       [ 1.73156642e-01,  1.46942725e-01, -9.75304830e-01],\n",
       "       [ 2.02016082e+00,  1.74040666e+00,  1.02532046e+00],\n",
       "       [ 7.56421121e-01, -8.38107706e-01, -9.75304830e-01],\n",
       "       [ 2.70367388e-01, -2.87638347e-01, -9.75304830e-01],\n",
       "       [ 3.67578135e-01, -1.71750061e-01,  1.02532046e+00],\n",
       "       [-1.18475597e-01,  2.20395980e+00, -9.75304830e-01],\n",
       "       [-1.47942605e+00, -6.35303205e-01, -9.75304830e-01],\n",
       "       [-1.28500455e+00, -1.06988428e+00,  1.02532046e+00],\n",
       "       [-1.38221530e+00,  4.07691369e-01,  1.02532046e+00],\n",
       "       [-1.09058306e+00,  7.55356227e-01, -9.75304830e-01],\n",
       "       [-1.47942605e+00, -2.00722133e-01,  1.02532046e+00],\n",
       "       [ 9.50842613e-01, -1.06988428e+00,  1.02532046e+00],\n",
       "       [ 9.50842613e-01,  5.81523798e-01,  1.02532046e+00],\n",
       "       [ 3.67578135e-01,  9.87132798e-01,  1.02532046e+00],\n",
       "       [ 5.61999628e-01, -8.96051849e-01, -9.75304830e-01],\n",
       "       [-6.04529329e-01,  1.45068594e+00,  1.02532046e+00],\n",
       "       [-2.12648508e-02, -5.77359062e-01, -9.75304830e-01],\n",
       "       [-6.04529329e-01,  1.88526701e+00, -9.75304830e-01],\n",
       "       [ 1.33968560e+00, -1.41754914e+00, -9.75304830e-01],\n",
       "       [ 1.43689635e+00,  9.87132798e-01, -9.75304830e-01],\n",
       "       [ 7.59458956e-02, -8.09135634e-01,  1.02532046e+00],\n",
       "       [-2.12648508e-02, -2.58666276e-01,  1.02532046e+00],\n",
       "       [-2.15686344e-01, -5.77359062e-01, -9.75304830e-01],\n",
       "       [-2.15686344e-01, -2.00722133e-01, -9.75304830e-01],\n",
       "       [-3.12897090e-01, -1.30166085e+00, -9.75304830e-01],\n",
       "       [-3.12897090e-01, -5.77359062e-01,  1.02532046e+00],\n",
       "       [ 3.67578135e-01,  8.89985821e-02,  1.02532046e+00],\n",
       "       [ 8.53631867e-01, -6.06331134e-01, -9.75304830e-01],\n",
       "       [ 2.02016082e+00, -1.18577256e+00, -9.75304830e-01],\n",
       "       [ 1.04805336e+00, -1.42777990e-01,  1.02532046e+00],\n",
       "       [ 6.59210374e-01,  1.76937873e+00, -9.75304830e-01],\n",
       "       [-7.01740076e-01,  5.52551726e-01, -9.75304830e-01],\n",
       "       [ 7.56421121e-01,  3.49747226e-01, -9.75304830e-01],\n",
       "       [ 8.53631867e-01, -5.48386991e-01, -9.75304830e-01],\n",
       "       [-1.18779381e+00, -1.59138156e+00,  1.02532046e+00],\n",
       "       [ 2.11737157e+00,  9.29188655e-01,  1.02532046e+00],\n",
       "       [-2.12648508e-02,  1.21890937e+00, -9.75304830e-01],\n",
       "       [ 1.73156642e-01,  1.07404901e+00,  1.02532046e+00],\n",
       "       [ 3.67578135e-01, -4.90442848e-01, -9.75304830e-01],\n",
       "       [-3.12897090e-01, -3.16610419e-01,  1.02532046e+00],\n",
       "       [ 9.50842613e-01, -8.38107706e-01,  1.02532046e+00],\n",
       "       [ 9.50842613e-01,  1.85629494e+00, -9.75304830e-01],\n",
       "       [-2.12648508e-02,  1.24788144e+00, -9.75304830e-01],\n",
       "       [-8.96161568e-01,  2.26190394e+00,  1.02532046e+00],\n",
       "       [-1.18779381e+00, -1.59138156e+00, -9.75304830e-01],\n",
       "       [ 2.11737157e+00, -8.09135634e-01,  1.02532046e+00],\n",
       "       [-1.38221530e+00, -1.47549328e+00,  1.02532046e+00],\n",
       "       [ 3.67578135e-01,  2.29087602e+00,  1.02532046e+00],\n",
       "       [ 7.56421121e-01,  7.55356227e-01, -9.75304830e-01],\n",
       "       [-9.93372315e-01, -3.16610419e-01,  1.02532046e+00],\n",
       "       [ 7.59458956e-02,  7.55356227e-01,  1.02532046e+00],\n",
       "       [-9.93372315e-01,  5.52551726e-01,  1.02532046e+00],\n",
       "       [ 2.70367388e-01,  6.00265106e-02,  1.02532046e+00],\n",
       "       [ 6.59210374e-01, -1.27268878e+00,  1.02532046e+00],\n",
       "       [-5.07318583e-01, -2.68897039e-02, -9.75304830e-01],\n",
       "       [-1.77105829e+00,  3.49747226e-01, -9.75304830e-01],\n",
       "       [-7.01740076e-01,  1.17970654e-01,  1.02532046e+00],\n",
       "       [ 3.67578135e-01,  2.91803083e-01,  1.02532046e+00],\n",
       "       [-3.12897090e-01,  6.00265106e-02, -9.75304830e-01],\n",
       "       [-5.07318583e-01,  2.29087602e+00, -9.75304830e-01],\n",
       "       [ 1.73156642e-01,  3.10544391e-02,  1.02532046e+00],\n",
       "       [ 1.24247485e+00,  2.20395980e+00, -9.75304830e-01],\n",
       "       [ 7.56421121e-01,  2.62831011e-01,  1.02532046e+00],\n",
       "       [-3.12897090e-01,  1.46942725e-01,  1.02532046e+00],\n",
       "       [-2.12648508e-02, -5.48386991e-01,  1.02532046e+00],\n",
       "       [-2.15686344e-01,  1.46942725e-01, -9.75304830e-01],\n",
       "       [-1.18475597e-01,  2.33858940e-01, -9.75304830e-01],\n",
       "       [-2.12648508e-02, -2.58666276e-01,  1.02532046e+00],\n",
       "       [ 2.11737157e+00,  1.10302108e+00, -9.75304830e-01],\n",
       "       [-1.77105829e+00,  3.49747226e-01, -9.75304830e-01],\n",
       "       [ 1.82573933e+00,  1.17970654e-01,  1.02532046e+00],\n",
       "       [ 3.67578135e-01, -1.42777990e-01,  1.02532046e+00],\n",
       "       [-1.18779381e+00,  2.91803083e-01,  1.02532046e+00],\n",
       "       [ 7.56421121e-01,  1.36376973e+00,  1.02532046e+00],\n",
       "       [-3.12897090e-01, -2.58666276e-01,  1.02532046e+00],\n",
       "       [-1.67384754e+00, -5.58617754e-02, -9.75304830e-01],\n",
       "       [-9.93372315e-01, -7.51191491e-01, -9.75304830e-01],\n",
       "       [ 2.70367388e-01,  4.94607583e-01,  1.02532046e+00],\n",
       "       [-1.18475597e-01, -1.06988428e+00, -9.75304830e-01],\n",
       "       [-1.09058306e+00,  5.81523798e-01,  1.02532046e+00],\n",
       "       [ 7.59458956e-02, -8.09135634e-01,  1.02532046e+00],\n",
       "       [-9.93372315e-01,  1.53760216e+00,  1.02532046e+00],\n",
       "       [-7.01740076e-01,  1.39274180e+00, -9.75304830e-01],\n",
       "       [-1.28500455e+00,  4.94607583e-01,  1.02532046e+00],\n",
       "       [-3.12897090e-01,  3.10544391e-02, -9.75304830e-01],\n",
       "       [-1.18475597e-01,  2.08236764e-03,  1.02532046e+00],\n",
       "       [-3.12897090e-01, -8.96051849e-01,  1.02532046e+00],\n",
       "       [ 8.53631867e-01, -1.35960499e+00,  1.02532046e+00],\n",
       "       [-3.12897090e-01,  2.23293187e+00, -9.75304830e-01],\n",
       "       [ 9.50842613e-01,  1.97218323e+00, -9.75304830e-01],\n",
       "       [-1.18779381e+00,  4.65635512e-01,  1.02532046e+00],\n",
       "       [-1.28500455e+00,  2.62831011e-01,  1.02532046e+00],\n",
       "       [ 1.33968560e+00,  1.97218323e+00, -9.75304830e-01],\n",
       "       [ 1.24247485e+00, -1.35960499e+00,  1.02532046e+00],\n",
       "       [-3.12897090e-01, -2.87638347e-01, -9.75304830e-01],\n",
       "       [-5.07318583e-01,  1.24788144e+00, -9.75304830e-01],\n",
       "       [-7.98950822e-01,  1.07404901e+00,  1.02532046e+00],\n",
       "       [ 9.50842613e-01, -1.06988428e+00,  1.02532046e+00],\n",
       "       [ 2.70367388e-01,  2.91803083e-01, -9.75304830e-01],\n",
       "       [ 9.50842613e-01,  7.55356227e-01, -9.75304830e-01],\n",
       "       [-7.01740076e-01, -1.50446535e+00,  1.02532046e+00],\n",
       "       [-7.01740076e-01,  3.10544391e-02, -9.75304830e-01],\n",
       "       [ 4.64788881e-01,  1.71143459e+00,  1.02532046e+00],\n",
       "       [ 2.02016082e+00,  1.75914797e-01, -9.75304830e-01],\n",
       "       [-1.96547978e+00, -7.51191491e-01, -9.75304830e-01],\n",
       "       [-2.15686344e-01,  1.39274180e+00,  1.02532046e+00],\n",
       "       [ 3.67578135e-01,  5.81523798e-01, -9.75304830e-01],\n",
       "       [ 8.53631867e-01, -1.15680049e+00, -9.75304830e-01],\n",
       "       [-1.18779381e+00, -7.80163563e-01, -9.75304830e-01],\n",
       "       [ 1.73156642e-01,  2.33858940e-01,  1.02532046e+00],\n",
       "       [ 7.56421121e-01, -3.16610419e-01,  1.02532046e+00],\n",
       "       [ 2.02016082e+00, -8.09135634e-01, -9.75304830e-01],\n",
       "       [ 7.56421121e-01,  1.17970654e-01, -9.75304830e-01],\n",
       "       [-3.12897090e-01,  6.10495869e-01,  1.02532046e+00],\n",
       "       [-9.93372315e-01, -3.16610419e-01, -9.75304830e-01],\n",
       "       [ 1.73156642e-01, -3.74554562e-01,  1.02532046e+00],\n",
       "       [ 2.02016082e+00,  2.11704359e+00,  1.02532046e+00],\n",
       "       [ 1.82573933e+00, -1.27268878e+00, -9.75304830e-01],\n",
       "       [ 1.33968560e+00, -9.25023920e-01, -9.75304830e-01],\n",
       "       [ 8.53631867e-01,  1.24788144e+00, -9.75304830e-01],\n",
       "       [ 1.43689635e+00,  2.11704359e+00, -9.75304830e-01],\n",
       "       [-3.12897090e-01, -1.24371671e+00,  1.02532046e+00],\n",
       "       [ 1.92295008e+00,  9.00216584e-01, -9.75304830e-01],\n",
       "       [ 6.59210374e-01, -7.22219420e-01, -9.75304830e-01],\n",
       "       [-1.47942605e+00,  3.49747226e-01, -9.75304830e-01],\n",
       "       [ 7.56421121e-01, -1.35960499e+00,  1.02532046e+00],\n",
       "       [ 3.67578135e-01, -1.42777990e-01,  1.02532046e+00],\n",
       "       [-9.93372315e-01,  4.07691369e-01, -9.75304830e-01],\n",
       "       [-2.12648508e-02, -3.16610419e-01,  1.02532046e+00],\n",
       "       [-1.18779381e+00,  4.07691369e-01, -9.75304830e-01],\n",
       "       [-8.96161568e-01, -1.21474464e+00, -9.75304830e-01],\n",
       "       [-1.18475597e-01,  3.10544391e-02, -9.75304830e-01],\n",
       "       [-1.57663679e+00, -4.32498705e-01, -9.75304830e-01],\n",
       "       [ 9.50842613e-01, -1.01194013e+00, -9.75304830e-01],\n",
       "       [ 1.04805336e+00, -1.21474464e+00,  1.02532046e+00],\n",
       "       [-2.12648508e-02, -1.42777990e-01, -9.75304830e-01],\n",
       "       [-1.09058306e+00, -1.53343742e+00, -9.75304830e-01],\n",
       "       [ 7.56421121e-01, -1.21474464e+00,  1.02532046e+00],\n",
       "       [ 9.50842613e-01,  2.05909944e+00,  1.02532046e+00],\n",
       "       [-1.18779381e+00, -1.53343742e+00, -9.75304830e-01],\n",
       "       [-3.12897090e-01,  7.84328298e-01, -9.75304830e-01],\n",
       "       [ 7.59458956e-02, -3.16610419e-01, -9.75304830e-01],\n",
       "       [-1.38221530e+00, -1.24371671e+00, -9.75304830e-01],\n",
       "       [-6.04529329e-01, -1.50446535e+00,  1.02532046e+00],\n",
       "       [ 7.56421121e-01,  5.23579655e-01,  1.02532046e+00],\n",
       "       [-3.12897090e-01, -3.45582490e-01,  1.02532046e+00],\n",
       "       [ 1.72852858e+00, -2.87638347e-01,  1.02532046e+00],\n",
       "       [ 8.53631867e-01, -1.04091221e+00,  1.02532046e+00],\n",
       "       [ 1.73156642e-01,  6.00265106e-02, -9.75304830e-01],\n",
       "       [-6.04529329e-01,  8.71244512e-01,  1.02532046e+00],\n",
       "       [-1.86826903e+00, -1.41754914e+00, -9.75304830e-01],\n",
       "       [-1.28500455e+00,  5.81523798e-01,  1.02532046e+00],\n",
       "       [-3.12897090e-01,  5.23579655e-01,  1.02532046e+00],\n",
       "       [-9.93372315e-01, -1.09885635e+00,  1.02532046e+00],\n",
       "       [ 1.14526411e+00, -1.44652121e+00, -9.75304830e-01],\n",
       "       [ 1.73156642e-01, -3.16610419e-01,  1.02532046e+00],\n",
       "       [ 1.14526411e+00, -7.51191491e-01, -9.75304830e-01],\n",
       "       [-3.12897090e-01,  6.00265106e-02,  1.02532046e+00],\n",
       "       [ 1.73156642e-01,  2.08807152e+00, -9.75304830e-01],\n",
       "       [ 7.56421121e-01, -1.09885635e+00, -9.75304830e-01],\n",
       "       [ 7.59458956e-02,  3.10544391e-02, -9.75304830e-01],\n",
       "       [-1.77105829e+00,  1.17970654e-01,  1.02532046e+00],\n",
       "       [-8.96161568e-01,  1.46942725e-01,  1.02532046e+00],\n",
       "       [-7.01740076e-01,  1.75914797e-01,  1.02532046e+00],\n",
       "       [ 8.53631867e-01, -1.30166085e+00,  1.02532046e+00],\n",
       "       [ 1.73156642e-01, -2.58666276e-01,  1.02532046e+00],\n",
       "       [-4.10107836e-01,  1.21890937e+00,  1.02532046e+00],\n",
       "       [-2.12648508e-02,  2.91803083e-01, -9.75304830e-01],\n",
       "       [ 3.67578135e-01,  1.46942725e-01, -9.75304830e-01],\n",
       "       [ 8.53631867e-01, -6.64275277e-01, -9.75304830e-01],\n",
       "       [ 7.59458956e-02,  1.46942725e-01, -9.75304830e-01],\n",
       "       [-1.86826903e+00, -1.30166085e+00,  1.02532046e+00],\n",
       "       [-1.18475597e-01,  2.91803083e-01, -9.75304830e-01],\n",
       "       [-2.15686344e-01, -2.87638347e-01,  1.02532046e+00],\n",
       "       [ 2.70367388e-01, -5.19414919e-01,  1.02532046e+00],\n",
       "       [-2.15686344e-01,  1.59554630e+00,  1.02532046e+00],\n",
       "       [ 9.50842613e-01, -1.18577256e+00, -9.75304830e-01],\n",
       "       [-2.15686344e-01,  1.62451837e+00, -9.75304830e-01],\n",
       "       [ 1.24247485e+00,  1.85629494e+00, -9.75304830e-01],\n",
       "       [-1.09058306e+00, -3.74554562e-01, -9.75304830e-01],\n",
       "       [-2.12648508e-02,  3.10544391e-02,  1.02532046e+00],\n",
       "       [ 7.59458956e-02, -2.58666276e-01, -9.75304830e-01],\n",
       "       [-1.57663679e+00, -1.24371671e+00, -9.75304830e-01],\n",
       "       [-5.07318583e-01, -2.87638347e-01, -9.75304830e-01],\n",
       "       [ 9.50842613e-01,  1.17970654e-01,  1.02532046e+00],\n",
       "       [ 1.92295008e+00, -1.35960499e+00, -9.75304830e-01],\n",
       "       [ 1.43689635e+00,  6.00265106e-02,  1.02532046e+00],\n",
       "       [-6.04529329e-01,  1.36376973e+00, -9.75304830e-01],\n",
       "       [ 1.53410709e+00,  2.08236764e-03,  1.02532046e+00],\n",
       "       [-7.98950822e-01,  2.91803083e-01,  1.02532046e+00],\n",
       "       [ 1.92295008e+00,  7.26384155e-01, -9.75304830e-01],\n",
       "       [-1.18779381e+00, -5.19414919e-01, -9.75304830e-01],\n",
       "       [ 6.59210374e-01,  2.62831011e-01,  1.02532046e+00],\n",
       "       [-1.38221530e+00, -4.32498705e-01,  1.02532046e+00],\n",
       "       [ 1.73156642e-01,  1.46942725e-01,  1.02532046e+00],\n",
       "       [-5.07318583e-01, -1.21474464e+00, -9.75304830e-01],\n",
       "       [ 5.61999628e-01,  2.00115530e+00, -9.75304830e-01],\n",
       "       [-1.57663679e+00, -1.50446535e+00,  1.02532046e+00],\n",
       "       [-5.07318583e-01, -5.48386991e-01, -9.75304830e-01],\n",
       "       [ 4.64788881e-01,  1.82732287e+00, -9.75304830e-01],\n",
       "       [-1.38221530e+00, -1.09885635e+00, -9.75304830e-01],\n",
       "       [ 7.56421121e-01, -1.38857706e+00, -9.75304830e-01],\n",
       "       [-3.12897090e-01, -4.32498705e-01,  1.02532046e+00],\n",
       "       [ 1.53410709e+00,  9.87132798e-01, -9.75304830e-01],\n",
       "       [ 9.50842613e-01,  1.42171387e+00, -9.75304830e-01],\n",
       "       [-3.12897090e-01, -4.90442848e-01,  1.02532046e+00],\n",
       "       [-1.18475597e-01,  2.14601566e+00,  1.02532046e+00],\n",
       "       [-1.47942605e+00, -1.13805918e-01, -9.75304830e-01],\n",
       "       [-1.18475597e-01,  1.94321116e+00, -9.75304830e-01],\n",
       "       [-7.01740076e-01, -3.45582490e-01,  1.02532046e+00],\n",
       "       [-5.07318583e-01, -8.38107706e-01, -9.75304830e-01],\n",
       "       [ 6.59210374e-01, -1.38857706e+00, -9.75304830e-01],\n",
       "       [-7.98950822e-01, -1.59138156e+00,  1.02532046e+00],\n",
       "       [-1.86826903e+00, -1.47549328e+00,  1.02532046e+00],\n",
       "       [ 1.04805336e+00,  1.17970654e-01,  1.02532046e+00],\n",
       "       [ 7.59458956e-02,  1.50863009e+00,  1.02532046e+00],\n",
       "       [-3.12897090e-01,  8.89985821e-02,  1.02532046e+00],\n",
       "       [ 7.59458956e-02,  3.10544391e-02,  1.02532046e+00],\n",
       "       [-1.38221530e+00, -1.35960499e+00,  1.02532046e+00],\n",
       "       [ 2.70367388e-01,  6.00265106e-02, -9.75304830e-01],\n",
       "       [-8.96161568e-01,  3.78719297e-01, -9.75304830e-01],\n",
       "       [ 1.53410709e+00, -1.27268878e+00, -9.75304830e-01],\n",
       "       [-3.12897090e-01, -7.51191491e-01, -9.75304830e-01],\n",
       "       [-1.18475597e-01,  1.46942725e-01,  1.02532046e+00],\n",
       "       [-8.96161568e-01, -6.64275277e-01, -9.75304830e-01],\n",
       "       [-7.01740076e-01, -5.58617754e-02, -9.75304830e-01],\n",
       "       [ 3.67578135e-01, -4.61470776e-01,  1.02532046e+00],\n",
       "       [-7.98950822e-01,  1.88526701e+00,  1.02532046e+00],\n",
       "       [ 1.33968560e+00,  1.27685351e+00, -9.75304830e-01],\n",
       "       [ 1.14526411e+00, -9.82968063e-01, -9.75304830e-01],\n",
       "       [ 1.72852858e+00,  1.82732287e+00,  1.02532046e+00],\n",
       "       [-8.96161568e-01, -2.58666276e-01,  1.02532046e+00],\n",
       "       [-7.98950822e-01,  5.52551726e-01,  1.02532046e+00],\n",
       "       [-1.18779381e+00, -1.56240949e+00,  1.02532046e+00],\n",
       "       [-5.07318583e-01, -1.12782842e+00,  1.02532046e+00],\n",
       "       [ 2.70367388e-01,  6.00265106e-02, -9.75304830e-01],\n",
       "       [-2.15686344e-01, -1.06988428e+00,  1.02532046e+00],\n",
       "       [ 1.63131784e+00,  1.59554630e+00, -9.75304830e-01],\n",
       "       [ 9.50842613e-01,  1.76937873e+00, -9.75304830e-01],\n",
       "       [ 2.70367388e-01,  3.10544391e-02, -9.75304830e-01],\n",
       "       [-7.98950822e-01, -2.29694204e-01, -9.75304830e-01],\n",
       "       [-1.18475597e-01,  6.00265106e-02,  1.02532046e+00],\n",
       "       [ 2.70367388e-01, -2.00722133e-01, -9.75304830e-01],\n",
       "       [ 1.92295008e+00, -6.64275277e-01, -9.75304830e-01],\n",
       "       [-7.98950822e-01,  1.33479766e+00, -9.75304830e-01],\n",
       "       [-1.77105829e+00, -6.06331134e-01,  1.02532046e+00],\n",
       "       [-1.18475597e-01,  1.17970654e-01,  1.02532046e+00],\n",
       "       [ 2.70367388e-01, -3.16610419e-01,  1.02532046e+00],\n",
       "       [ 1.04805336e+00,  5.52551726e-01,  1.02532046e+00],\n",
       "       [-9.93372315e-01,  2.62831011e-01,  1.02532046e+00],\n",
       "       [ 1.43689635e+00,  3.49747226e-01, -9.75304830e-01],\n",
       "       [ 1.73156642e-01, -3.74554562e-01,  1.02532046e+00],\n",
       "       [ 2.11737157e+00, -1.04091221e+00,  1.02532046e+00],\n",
       "       [-3.12897090e-01,  1.10302108e+00,  1.02532046e+00],\n",
       "       [-1.67384754e+00,  6.00265106e-02,  1.02532046e+00],\n",
       "       [-2.12648508e-02,  3.10544391e-02,  1.02532046e+00],\n",
       "       [ 7.59458956e-02,  1.04507694e+00,  1.02532046e+00],\n",
       "       [-1.18475597e-01, -3.74554562e-01, -9.75304830e-01],\n",
       "       [-1.18779381e+00,  6.00265106e-02, -9.75304830e-01],\n",
       "       [-3.12897090e-01, -1.35960499e+00, -9.75304830e-01],\n",
       "       [ 1.53410709e+00,  1.10302108e+00, -9.75304830e-01],\n",
       "       [-7.98950822e-01, -1.53343742e+00,  1.02532046e+00],\n",
       "       [ 7.59458956e-02,  1.85629494e+00,  1.02532046e+00],\n",
       "       [-8.96161568e-01, -7.80163563e-01,  1.02532046e+00],\n",
       "       [-5.07318583e-01, -7.80163563e-01,  1.02532046e+00],\n",
       "       [-3.12897090e-01, -9.25023920e-01,  1.02532046e+00],\n",
       "       [ 2.70367388e-01, -7.22219420e-01,  1.02532046e+00],\n",
       "       [ 2.70367388e-01,  6.00265106e-02, -9.75304830e-01],\n",
       "       [ 7.59458956e-02,  1.85629494e+00, -9.75304830e-01],\n",
       "       [-1.09058306e+00,  1.94321116e+00, -9.75304830e-01],\n",
       "       [-1.67384754e+00, -1.56240949e+00, -9.75304830e-01],\n",
       "       [-1.18779381e+00, -1.09885635e+00,  1.02532046e+00],\n",
       "       [-7.01740076e-01, -1.13805918e-01,  1.02532046e+00],\n",
       "       [ 7.59458956e-02,  8.89985821e-02, -9.75304830e-01],\n",
       "       [ 2.70367388e-01,  2.62831011e-01,  1.02532046e+00],\n",
       "       [ 8.53631867e-01, -5.77359062e-01, -9.75304830e-01],\n",
       "       [ 2.70367388e-01, -1.15680049e+00, -9.75304830e-01],\n",
       "       [-1.18475597e-01,  6.68440012e-01, -9.75304830e-01],\n",
       "       [ 2.11737157e+00, -6.93247348e-01, -9.75304830e-01],\n",
       "       [-1.28500455e+00, -1.38857706e+00,  1.02532046e+00],\n",
       "       [-9.93372315e-01, -9.53995992e-01, -9.75304830e-01],\n",
       "       [-2.12648508e-02, -4.32498705e-01, -9.75304830e-01],\n",
       "       [-2.15686344e-01, -4.61470776e-01, -9.75304830e-01],\n",
       "       [-1.77105829e+00, -9.82968063e-01, -9.75304830e-01],\n",
       "       [ 1.72852858e+00,  9.87132798e-01, -9.75304830e-01],\n",
       "       [ 1.73156642e-01, -3.74554562e-01,  1.02532046e+00],\n",
       "       [ 3.67578135e-01,  1.10302108e+00, -9.75304830e-01],\n",
       "       [-1.77105829e+00, -1.35960499e+00, -9.75304830e-01],\n",
       "       [ 1.73156642e-01, -1.42777990e-01,  1.02532046e+00],\n",
       "       [ 8.53631867e-01, -1.44652121e+00,  1.02532046e+00],\n",
       "       [-1.96547978e+00,  4.65635512e-01, -9.75304830e-01],\n",
       "       [-3.12897090e-01,  2.62831011e-01,  1.02532046e+00],\n",
       "       [ 1.82573933e+00, -1.06988428e+00, -9.75304830e-01],\n",
       "       [-4.10107836e-01,  6.00265106e-02, -9.75304830e-01],\n",
       "       [ 1.04805336e+00, -8.96051849e-01, -9.75304830e-01],\n",
       "       [-1.09058306e+00, -1.12782842e+00, -9.75304830e-01],\n",
       "       [-1.86826903e+00,  2.08236764e-03,  1.02532046e+00],\n",
       "       [ 7.59458956e-02,  2.62831011e-01, -9.75304830e-01],\n",
       "       [-1.18779381e+00,  3.20775154e-01,  1.02532046e+00],\n",
       "       [-1.28500455e+00,  2.91803083e-01,  1.02532046e+00],\n",
       "       [-9.93372315e-01,  4.36663440e-01, -9.75304830e-01],\n",
       "       [ 1.63131784e+00, -8.96051849e-01,  1.02532046e+00],\n",
       "       [ 1.14526411e+00,  5.23579655e-01, -9.75304830e-01],\n",
       "       [ 1.04805336e+00,  5.23579655e-01,  1.02532046e+00],\n",
       "       [ 1.33968560e+00,  2.31984809e+00,  1.02532046e+00],\n",
       "       [-3.12897090e-01, -1.42777990e-01, -9.75304830e-01],\n",
       "       [ 3.67578135e-01, -4.61470776e-01,  1.02532046e+00],\n",
       "       [-4.10107836e-01, -7.80163563e-01,  1.02532046e+00],\n",
       "       [-1.18475597e-01, -5.19414919e-01,  1.02532046e+00],\n",
       "       [ 9.50842613e-01, -1.15680049e+00, -9.75304830e-01],\n",
       "       [-8.96161568e-01, -7.80163563e-01,  1.02532046e+00],\n",
       "       [-2.15686344e-01, -5.19414919e-01,  1.02532046e+00],\n",
       "       [-1.09058306e+00, -4.61470776e-01, -9.75304830e-01],\n",
       "       [-1.18779381e+00,  1.39274180e+00, -9.75304830e-01]])"
      ]
     },
     "execution_count": 31,
     "metadata": {},
     "output_type": "execute_result"
    }
   ],
   "source": [
    "X_train #Now this is in exponential form"
   ]
  },
  {
   "cell_type": "code",
   "execution_count": 32,
   "metadata": {},
   "outputs": [
    {
     "data": {
      "text/plain": [
       "array([[-7.98950822e-01,  4.94607583e-01,  1.02532046e+00],\n",
       "       [-2.12648508e-02, -5.77359062e-01, -9.75304830e-01],\n",
       "       [-3.12897090e-01,  1.46942725e-01,  1.02532046e+00],\n",
       "       [-7.98950822e-01,  2.62831011e-01, -9.75304830e-01],\n",
       "       [-3.12897090e-01, -5.77359062e-01, -9.75304830e-01],\n",
       "       [-1.09058306e+00, -1.44652121e+00,  1.02532046e+00],\n",
       "       [-7.01740076e-01, -1.59138156e+00, -9.75304830e-01],\n",
       "       [-2.15686344e-01,  2.14601566e+00,  1.02532046e+00],\n",
       "       [-1.96547978e+00, -5.58617754e-02, -9.75304830e-01],\n",
       "       [ 8.53631867e-01, -7.80163563e-01,  1.02532046e+00],\n",
       "       [-7.98950822e-01, -6.06331134e-01,  1.02532046e+00],\n",
       "       [-9.93372315e-01, -4.32498705e-01, -9.75304830e-01],\n",
       "       [-1.18475597e-01, -4.32498705e-01,  1.02532046e+00],\n",
       "       [ 7.59458956e-02,  2.04886868e-01,  1.02532046e+00],\n",
       "       [-1.77105829e+00,  4.65635512e-01,  1.02532046e+00],\n",
       "       [-6.04529329e-01,  1.36376973e+00, -9.75304830e-01],\n",
       "       [-1.18475597e-01,  2.04886868e-01,  1.02532046e+00],\n",
       "       [-1.86826903e+00,  4.36663440e-01,  1.02532046e+00],\n",
       "       [ 1.63131784e+00,  1.74040666e+00, -9.75304830e-01],\n",
       "       [-3.12897090e-01, -1.38857706e+00,  1.02532046e+00],\n",
       "       [-3.12897090e-01, -6.64275277e-01, -9.75304830e-01],\n",
       "       [ 8.53631867e-01,  2.14601566e+00, -9.75304830e-01],\n",
       "       [ 2.70367388e-01, -5.48386991e-01, -9.75304830e-01],\n",
       "       [ 8.53631867e-01,  1.01610487e+00,  1.02532046e+00],\n",
       "       [-1.47942605e+00, -1.21474464e+00, -9.75304830e-01],\n",
       "       [ 1.04805336e+00,  2.05909944e+00, -9.75304830e-01],\n",
       "       [-9.93372315e-01,  4.94607583e-01, -9.75304830e-01],\n",
       "       [-8.96161568e-01,  2.91803083e-01,  1.02532046e+00],\n",
       "       [-1.18475597e-01, -2.29694204e-01, -9.75304830e-01],\n",
       "       [-6.04529329e-01,  4.65635512e-01, -9.75304830e-01],\n",
       "       [-1.67384754e+00,  5.23579655e-01,  1.02532046e+00],\n",
       "       [-1.18475597e-01,  2.62831011e-01,  1.02532046e+00],\n",
       "       [ 1.82573933e+00, -2.87638347e-01,  1.02532046e+00],\n",
       "       [-1.18475597e-01, -4.90442848e-01,  1.02532046e+00],\n",
       "       [-1.38221530e+00, -3.45582490e-01,  1.02532046e+00],\n",
       "       [-1.96547978e+00, -5.19414919e-01,  1.02532046e+00],\n",
       "       [-1.57663679e+00,  3.20775154e-01,  1.02532046e+00],\n",
       "       [-4.10107836e-01, -7.80163563e-01, -9.75304830e-01],\n",
       "       [-7.01740076e-01, -1.04091221e+00, -9.75304830e-01],\n",
       "       [ 1.04805336e+00, -9.82968063e-01, -9.75304830e-01],\n",
       "       [-1.09058306e+00,  5.23579655e-01,  1.02532046e+00],\n",
       "       [ 2.70367388e-01, -5.19414919e-01,  1.02532046e+00],\n",
       "       [-1.09058306e+00,  4.07691369e-01, -9.75304830e-01],\n",
       "       [-3.12897090e-01, -1.44652121e+00,  1.02532046e+00],\n",
       "       [ 4.64788881e-01,  1.21890937e+00, -9.75304830e-01],\n",
       "       [-1.09058306e+00, -3.45582490e-01, -9.75304830e-01],\n",
       "       [-1.18475597e-01,  2.91803083e-01, -9.75304830e-01],\n",
       "       [ 1.33968560e+00,  5.81523798e-01, -9.75304830e-01],\n",
       "       [-1.18779381e+00, -1.15680049e+00,  1.02532046e+00],\n",
       "       [ 1.04805336e+00,  4.65635512e-01,  1.02532046e+00],\n",
       "       [ 1.82573933e+00,  1.50863009e+00, -9.75304830e-01],\n",
       "       [-4.10107836e-01, -1.30166085e+00, -9.75304830e-01],\n",
       "       [-3.12897090e-01, -3.74554562e-01, -9.75304830e-01],\n",
       "       [-4.10107836e-01,  1.30582558e+00,  1.02532046e+00],\n",
       "       [ 2.02016082e+00,  5.23579655e-01, -9.75304830e-01],\n",
       "       [ 6.59210374e-01, -1.09885635e+00,  1.02532046e+00],\n",
       "       [-8.96161568e-01,  3.78719297e-01, -9.75304830e-01],\n",
       "       [-1.18779381e+00,  2.91803083e-01, -9.75304830e-01],\n",
       "       [ 1.04805336e+00, -1.21474464e+00,  1.02532046e+00],\n",
       "       [-1.47942605e+00, -1.44652121e+00,  1.02532046e+00],\n",
       "       [-6.04529329e-01, -1.50446535e+00,  1.02532046e+00],\n",
       "       [ 2.11737157e+00, -8.09135634e-01,  1.02532046e+00],\n",
       "       [-1.86826903e+00,  1.75914797e-01,  1.02532046e+00],\n",
       "       [-2.15686344e-01,  8.42272441e-01,  1.02532046e+00],\n",
       "       [-1.86826903e+00, -1.27268878e+00, -9.75304830e-01],\n",
       "       [ 2.11737157e+00,  3.78719297e-01,  1.02532046e+00],\n",
       "       [-1.38221530e+00,  5.52551726e-01, -9.75304830e-01],\n",
       "       [-1.09058306e+00, -3.45582490e-01,  1.02532046e+00],\n",
       "       [ 1.73156642e-01, -6.64275277e-01,  1.02532046e+00],\n",
       "       [ 3.67578135e-01,  2.08236764e-03, -9.75304830e-01],\n",
       "       [-6.04529329e-01,  2.31984809e+00, -9.75304830e-01],\n",
       "       [-3.12897090e-01,  2.04886868e-01, -9.75304830e-01],\n",
       "       [-1.57663679e+00, -2.00722133e-01, -9.75304830e-01],\n",
       "       [ 6.59210374e-01, -1.38857706e+00,  1.02532046e+00],\n",
       "       [-1.09058306e+00,  5.52551726e-01,  1.02532046e+00],\n",
       "       [-1.96547978e+00,  3.49747226e-01,  1.02532046e+00],\n",
       "       [ 3.67578135e-01,  2.62831011e-01, -9.75304830e-01],\n",
       "       [ 1.73156642e-01, -2.87638347e-01, -9.75304830e-01],\n",
       "       [ 1.43689635e+00, -1.04091221e+00, -9.75304830e-01],\n",
       "       [ 8.53631867e-01,  1.07404901e+00, -9.75304830e-01]])"
      ]
     },
     "execution_count": 32,
     "metadata": {},
     "output_type": "execute_result"
    }
   ],
   "source": [
    "X_test #this is also in exponential"
   ]
  },
  {
   "cell_type": "code",
   "execution_count": 33,
   "metadata": {},
   "outputs": [
    {
     "data": {
      "text/plain": [
       "LogisticRegression()"
      ]
     },
     "execution_count": 33,
     "metadata": {},
     "output_type": "execute_result"
    }
   ],
   "source": [
    "from sklearn.linear_model import LogisticRegression\n",
    "model = LogisticRegression()\n",
    "model.fit(X_train,Y_train)"
   ]
  },
  {
   "cell_type": "code",
   "execution_count": 34,
   "metadata": {},
   "outputs": [],
   "source": [
    "Y_pred= model.predict(X_test)"
   ]
  },
  {
   "cell_type": "code",
   "execution_count": 35,
   "metadata": {},
   "outputs": [
    {
     "data": {
      "text/plain": [
       "array([0, 0, 0, 0, 0, 0, 0, 1, 0, 1, 0, 0, 0, 0, 0, 0, 0, 0, 1, 0, 0, 1,\n",
       "       0, 1, 0, 1, 0, 0, 0, 0, 0, 0, 1, 0, 0, 0, 0, 0, 0, 1, 0, 0, 0, 0,\n",
       "       1, 0, 0, 1, 0, 1, 1, 0, 0, 0, 1, 0, 0, 0, 0, 0, 0, 1, 0, 0, 0, 1,\n",
       "       0, 0, 0, 0, 1, 0, 0, 0, 0, 0, 1, 0, 1, 1], dtype=int64)"
      ]
     },
     "execution_count": 35,
     "metadata": {},
     "output_type": "execute_result"
    }
   ],
   "source": [
    "Y_pred"
   ]
  },
  {
   "cell_type": "code",
   "execution_count": 36,
   "metadata": {},
   "outputs": [
    {
     "name": "stdout",
     "output_type": "stream",
     "text": [
      "[[56  2]\n",
      " [ 5 17]]\n"
     ]
    }
   ],
   "source": [
    "#PERFORMANCE METRICS\n",
    "from sklearn.metrics import confusion_matrix\n",
    "confusion = confusion_matrix(Y_test,Y_pred)\n",
    "print(confusion)"
   ]
  },
  {
   "cell_type": "code",
   "execution_count": 37,
   "metadata": {},
   "outputs": [],
   "source": [
    "TN = confusion[0,0]\n",
    "FP = confusion[0,1]\n",
    "FN = confusion[1,0]\n",
    "TP = confusion[1,1]"
   ]
  },
  {
   "cell_type": "code",
   "execution_count": 38,
   "metadata": {},
   "outputs": [
    {
     "name": "stdout",
     "output_type": "stream",
     "text": [
      "[[56  2]\n",
      " [ 5 17]]\n",
      "TN:  56\n",
      "FP:  2\n",
      "FN:  5\n",
      "TP:  17\n"
     ]
    }
   ],
   "source": [
    "print(confusion)\n",
    "print(\"TN: \",TN)\n",
    "print(\"FP: \",FP)\n",
    "print(\"FN: \",FN)\n",
    "print(\"TP: \",TP)"
   ]
  },
  {
   "cell_type": "code",
   "execution_count": 39,
   "metadata": {},
   "outputs": [
    {
     "name": "stdout",
     "output_type": "stream",
     "text": [
      "Accuracy from metrics:  0.9125\n",
      "Accuracy calculated:  0.9125\n"
     ]
    }
   ],
   "source": [
    "from sklearn import metrics\n",
    "accuracy = metrics.accuracy_score(Y_test,Y_pred)\n",
    "accuracy1 = (TN+TP)/(TN+TP+FN+FP)\n",
    "print(\"Accuracy from metrics: \",accuracy)\n",
    "print(\"Accuracy calculated: \",accuracy1)"
   ]
  },
  {
   "cell_type": "markdown",
   "metadata": {},
   "source": [
    "### Now after scaling the accuracy increses from 72.5% to 91.25 %"
   ]
  },
  {
   "cell_type": "code",
   "execution_count": 40,
   "metadata": {},
   "outputs": [
    {
     "name": "stdout",
     "output_type": "stream",
     "text": [
      "RECALL:  0.7727272727272727\n",
      "Calcualted Recall : 0.7727272727272727\n"
     ]
    }
   ],
   "source": [
    "print(\"RECALL: \",metrics.recall_score(Y_test,Y_pred))\n",
    "print(\"Calcualted Recall :\",(TP)/(TP+FN))"
   ]
  },
  {
   "cell_type": "code",
   "execution_count": 41,
   "metadata": {},
   "outputs": [
    {
     "name": "stdout",
     "output_type": "stream",
     "text": [
      "Specificity/True Negative Rate:  0.9655172413793104\n"
     ]
    }
   ],
   "source": [
    "#Speificity measures the peoportion of actual negatives that are correctly identified as such: TN/N\n",
    "print(\"Specificity/True Negative Rate: \",(TN)/(TN+FP))"
   ]
  },
  {
   "cell_type": "code",
   "execution_count": 42,
   "metadata": {},
   "outputs": [
    {
     "name": "stdout",
     "output_type": "stream",
     "text": [
      "PRECISION:  0.8947368421052632 2\n",
      "PRECISION CALCUALTED:  0.89\n"
     ]
    }
   ],
   "source": [
    "print(\"PRECISION: \",metrics.precision_score(Y_test,Y_pred),2)\n",
    "print(\"PRECISION CALCUALTED: \",round(TP/float(TP+FP),2))"
   ]
  },
  {
   "cell_type": "code",
   "execution_count": 43,
   "metadata": {},
   "outputs": [
    {
     "name": "stdout",
     "output_type": "stream",
     "text": [
      "Accuracy is: 91.0\n",
      "F1 Score is: 83.0\n",
      "Precision is: 89.0\n",
      "Recall is: 77.0\n",
      "Roc_Auc is: 87.0\n"
     ]
    }
   ],
   "source": [
    "from sklearn.metrics import accuracy_score,f1_score,precision_score,recall_score,roc_auc_score\n",
    "accuracy = accuracy_score(Y_test , Y_pred)\n",
    "recall = recall_score(Y_test , Y_pred)\n",
    "precision = precision_score(Y_test , Y_pred)\n",
    "f1 = f1_score(Y_test , Y_pred)\n",
    "roc_auc = roc_auc_score(Y_test , Y_pred)\n",
    "\n",
    "print(\"Accuracy is:\",round(accuracy,2)*100)\n",
    "print(\"F1 Score is:\",round(f1,2)*100)\n",
    "print(\"Precision is:\",round(precision,2)*100)\n",
    "print(\"Recall is:\",round(recall,2)*100)\n",
    "print(\"Roc_Auc is:\",round(roc_auc,2)*100)"
   ]
  },
  {
   "cell_type": "code",
   "execution_count": 44,
   "metadata": {},
   "outputs": [
    {
     "name": "stdout",
     "output_type": "stream",
     "text": [
      "              precision    recall  f1-score   support\n",
      "\n",
      "           0       0.92      0.97      0.94        58\n",
      "           1       0.89      0.77      0.83        22\n",
      "\n",
      "    accuracy                           0.91        80\n",
      "   macro avg       0.91      0.87      0.89        80\n",
      "weighted avg       0.91      0.91      0.91        80\n",
      "\n"
     ]
    }
   ],
   "source": [
    "#CLASSIFICATION REPORT\n",
    "\n",
    "from sklearn.metrics import classification_report\n",
    "print(classification_report(Y_test,Y_pred))"
   ]
  },
  {
   "cell_type": "code",
   "execution_count": 45,
   "metadata": {},
   "outputs": [
    {
     "data": {
      "text/html": [
       "<div>\n",
       "<style scoped>\n",
       "    .dataframe tbody tr th:only-of-type {\n",
       "        vertical-align: middle;\n",
       "    }\n",
       "\n",
       "    .dataframe tbody tr th {\n",
       "        vertical-align: top;\n",
       "    }\n",
       "\n",
       "    .dataframe thead th {\n",
       "        text-align: right;\n",
       "    }\n",
       "</style>\n",
       "<table border=\"1\" class=\"dataframe\">\n",
       "  <thead>\n",
       "    <tr style=\"text-align: right;\">\n",
       "      <th></th>\n",
       "      <th>With Scaling</th>\n",
       "    </tr>\n",
       "  </thead>\n",
       "  <tbody>\n",
       "    <tr>\n",
       "      <th>Accuracy</th>\n",
       "      <td>0.912500</td>\n",
       "    </tr>\n",
       "    <tr>\n",
       "      <th>F1</th>\n",
       "      <td>0.829268</td>\n",
       "    </tr>\n",
       "    <tr>\n",
       "      <th>Precision</th>\n",
       "      <td>0.894737</td>\n",
       "    </tr>\n",
       "    <tr>\n",
       "      <th>Recall</th>\n",
       "      <td>0.772727</td>\n",
       "    </tr>\n",
       "    <tr>\n",
       "      <th>AUC</th>\n",
       "      <td>0.869122</td>\n",
       "    </tr>\n",
       "  </tbody>\n",
       "</table>\n",
       "</div>"
      ],
      "text/plain": [
       "           With Scaling\n",
       "Accuracy       0.912500\n",
       "F1             0.829268\n",
       "Precision      0.894737\n",
       "Recall         0.772727\n",
       "AUC            0.869122"
      ]
     },
     "execution_count": 45,
     "metadata": {},
     "output_type": "execute_result"
    }
   ],
   "source": [
    "summary1 = pd.DataFrame([accuracy,f1,precision,recall,roc_auc],index=['Accuracy','F1','Precision','Recall','AUC'],columns=['With Scaling'])\n",
    "summary1"
   ]
  },
  {
   "cell_type": "code",
   "execution_count": 46,
   "metadata": {},
   "outputs": [
    {
     "data": {
      "text/html": [
       "<div>\n",
       "<style scoped>\n",
       "    .dataframe tbody tr th:only-of-type {\n",
       "        vertical-align: middle;\n",
       "    }\n",
       "\n",
       "    .dataframe tbody tr th {\n",
       "        vertical-align: top;\n",
       "    }\n",
       "\n",
       "    .dataframe thead th {\n",
       "        text-align: right;\n",
       "    }\n",
       "</style>\n",
       "<table border=\"1\" class=\"dataframe\">\n",
       "  <thead>\n",
       "    <tr style=\"text-align: right;\">\n",
       "      <th></th>\n",
       "      <th>Without Scaling</th>\n",
       "      <th>With Scaling</th>\n",
       "    </tr>\n",
       "  </thead>\n",
       "  <tbody>\n",
       "    <tr>\n",
       "      <th>Accuracy</th>\n",
       "      <td>0.725</td>\n",
       "      <td>0.912500</td>\n",
       "    </tr>\n",
       "    <tr>\n",
       "      <th>F1</th>\n",
       "      <td>0.000</td>\n",
       "      <td>0.829268</td>\n",
       "    </tr>\n",
       "    <tr>\n",
       "      <th>Precision</th>\n",
       "      <td>0.000</td>\n",
       "      <td>0.894737</td>\n",
       "    </tr>\n",
       "    <tr>\n",
       "      <th>Recall</th>\n",
       "      <td>0.000</td>\n",
       "      <td>0.772727</td>\n",
       "    </tr>\n",
       "    <tr>\n",
       "      <th>AUC</th>\n",
       "      <td>0.500</td>\n",
       "      <td>0.869122</td>\n",
       "    </tr>\n",
       "  </tbody>\n",
       "</table>\n",
       "</div>"
      ],
      "text/plain": [
       "           Without Scaling  With Scaling\n",
       "Accuracy             0.725      0.912500\n",
       "F1                   0.000      0.829268\n",
       "Precision            0.000      0.894737\n",
       "Recall               0.000      0.772727\n",
       "AUC                  0.500      0.869122"
      ]
     },
     "execution_count": 46,
     "metadata": {},
     "output_type": "execute_result"
    }
   ],
   "source": [
    "summary_combined = pd.concat([summary,summary1],axis=1)\n",
    "summary_combined"
   ]
  },
  {
   "cell_type": "code",
   "execution_count": null,
   "metadata": {},
   "outputs": [],
   "source": []
  }
 ],
 "metadata": {
  "kernelspec": {
   "display_name": "Python 3",
   "language": "python",
   "name": "python3"
  },
  "language_info": {
   "codemirror_mode": {
    "name": "ipython",
    "version": 3
   },
   "file_extension": ".py",
   "mimetype": "text/x-python",
   "name": "python",
   "nbconvert_exporter": "python",
   "pygments_lexer": "ipython3",
   "version": "3.8.3"
  }
 },
 "nbformat": 4,
 "nbformat_minor": 4
}
